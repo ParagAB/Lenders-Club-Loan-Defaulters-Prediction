{
  "nbformat": 4,
  "nbformat_minor": 0,
  "metadata": {
    "accelerator": "GPU",
    "colab": {
      "name": "Lending Club Loan Defaulter Prediction.ipynb",
      "provenance": [],
      "collapsed_sections": [],
      "toc_visible": true,
      "machine_shape": "hm",
      "include_colab_link": true
    },
    "kernelspec": {
      "display_name": "Python 3",
      "language": "python",
      "name": "python3"
    },
    "language_info": {
      "codemirror_mode": {
        "name": "ipython",
        "version": 3
      },
      "file_extension": ".py",
      "mimetype": "text/x-python",
      "name": "python",
      "nbconvert_exporter": "python",
      "pygments_lexer": "ipython3",
      "version": "3.6.7"
    }
  },
  "cells": [
    {
      "cell_type": "markdown",
      "metadata": {
        "id": "view-in-github",
        "colab_type": "text"
      },
      "source": [
        "<a href=\"https://colab.research.google.com/github/ParagAB/Lenders-Club-Loan-Defaulters-Prediction/blob/master/Lending_Club_Loan_Defaulter_Prediction.ipynb\" target=\"_parent\"><img src=\"https://colab.research.google.com/assets/colab-badge.svg\" alt=\"Open In Colab\"/></a>"
      ]
    },
    {
      "cell_type": "markdown",
      "metadata": {
        "id": "Rm7H7Vrazjpc",
        "colab_type": "text"
      },
      "source": [
        "# Lending Club Loan Defaulter Prediction\n",
        "\n",
        "![alt text](https://www.lendingclub.com/asset/ls/wp-assets/wp-content/uploads/2017/05/LC-Logo-Official-min.png)"
      ]
    },
    {
      "cell_type": "markdown",
      "metadata": {
        "id": "wrWogDoN1O2O",
        "colab_type": "text"
      },
      "source": [
        "The aim of this project is to build a predictive machine learning tool to classify the loan defaulters and non-defaulters based on their profile. It is important for investors and lenders to know their borrower so they could determine the chances of getting their funds back before lending the money. Lenders, investors could use this model to decide whether a borrower is a fit for sanctioning a loan or not."
      ]
    },
    {
      "cell_type": "markdown",
      "metadata": {
        "id": "M2eQ01W_JeXn",
        "colab_type": "text"
      },
      "source": [
        "Dataset link - [Kaggle](https://www.kaggle.com/wendykan/lending-club-loan-data)"
      ]
    },
    {
      "cell_type": "markdown",
      "metadata": {
        "id": "G8ikTkFyVQr2",
        "colab_type": "text"
      },
      "source": [
        "**NOTE:** The following notebook requires specific technical architecture to run some of the operations.\n",
        "The Rapids library requires Nvidia graphics card with Pascal architecture\n",
        "This notebook is running on the following instance of GPU"
      ]
    },
    {
      "cell_type": "code",
      "metadata": {
        "colab_type": "code",
        "id": "1g_vpvI1Ktei",
        "colab": {
          "base_uri": "https://localhost:8080/",
          "height": 301
        },
        "outputId": "56b382d4-5b92-48fc-f303-5e0db7e3b37c"
      },
      "source": [
        "!nvidia-smi"
      ],
      "execution_count": null,
      "outputs": [
        {
          "output_type": "stream",
          "text": [
            "Sun Apr 12 23:26:25 2020       \n",
            "+-----------------------------------------------------------------------------+\n",
            "| NVIDIA-SMI 440.64.00    Driver Version: 418.67       CUDA Version: 10.1     |\n",
            "|-------------------------------+----------------------+----------------------+\n",
            "| GPU  Name        Persistence-M| Bus-Id        Disp.A | Volatile Uncorr. ECC |\n",
            "| Fan  Temp  Perf  Pwr:Usage/Cap|         Memory-Usage | GPU-Util  Compute M. |\n",
            "|===============================+======================+======================|\n",
            "|   0  Tesla P100-PCIE...  Off  | 00000000:00:04.0 Off |                    0 |\n",
            "| N/A   41C    P0    29W / 250W |      0MiB / 16280MiB |      0%      Default |\n",
            "+-------------------------------+----------------------+----------------------+\n",
            "                                                                               \n",
            "+-----------------------------------------------------------------------------+\n",
            "| Processes:                                                       GPU Memory |\n",
            "|  GPU       PID   Type   Process name                             Usage      |\n",
            "|=============================================================================|\n",
            "|  No running processes found                                                 |\n",
            "+-----------------------------------------------------------------------------+\n"
          ],
          "name": "stdout"
        }
      ]
    },
    {
      "cell_type": "code",
      "metadata": {
        "id": "Cjf5_ge5k0lH",
        "colab_type": "code",
        "colab": {
          "base_uri": "https://localhost:8080/",
          "height": 438
        },
        "outputId": "933e9d36-d2e4-400b-cc68-d173da8f763d"
      },
      "source": [
        "!lscpu"
      ],
      "execution_count": null,
      "outputs": [
        {
          "output_type": "stream",
          "text": [
            "Architecture:        x86_64\n",
            "CPU op-mode(s):      32-bit, 64-bit\n",
            "Byte Order:          Little Endian\n",
            "CPU(s):              4\n",
            "On-line CPU(s) list: 0-3\n",
            "Thread(s) per core:  2\n",
            "Core(s) per socket:  2\n",
            "Socket(s):           1\n",
            "NUMA node(s):        1\n",
            "Vendor ID:           GenuineIntel\n",
            "CPU family:          6\n",
            "Model:               79\n",
            "Model name:          Intel(R) Xeon(R) CPU @ 2.20GHz\n",
            "Stepping:            0\n",
            "CPU MHz:             2199.998\n",
            "BogoMIPS:            4399.99\n",
            "Hypervisor vendor:   KVM\n",
            "Virtualization type: full\n",
            "L1d cache:           32K\n",
            "L1i cache:           32K\n",
            "L2 cache:            256K\n",
            "L3 cache:            56320K\n",
            "NUMA node0 CPU(s):   0-3\n",
            "Flags:               fpu vme de pse tsc msr pae mce cx8 apic sep mtrr pge mca cmov pat pse36 clflush mmx fxsr sse sse2 ss ht syscall nx pdpe1gb rdtscp lm constant_tsc rep_good nopl xtopology nonstop_tsc cpuid tsc_known_freq pni pclmulqdq ssse3 fma cx16 pcid sse4_1 sse4_2 x2apic movbe popcnt aes xsave avx f16c rdrand hypervisor lahf_lm abm 3dnowprefetch invpcid_single ssbd ibrs ibpb stibp fsgsbase tsc_adjust bmi1 hle avx2 smep bmi2 erms invpcid rtm rdseed adx smap xsaveopt arat md_clear arch_capabilities\n"
          ],
          "name": "stdout"
        }
      ]
    },
    {
      "cell_type": "code",
      "metadata": {
        "colab_type": "code",
        "id": "2A9hWdlwLDz6",
        "colab": {}
      },
      "source": [
        "# Install RAPIDS\n",
        "!git clone https://github.com/rapidsai/rapidsai-csp-utils.git\n",
        "!bash rapidsai-csp-utils/colab/rapids-colab.sh\n",
        "\n",
        "import sys, os\n",
        "\n",
        "dist_package_index = sys.path.index('/usr/local/lib/python3.6/dist-packages')\n",
        "sys.path = sys.path[:dist_package_index] + ['/usr/local/lib/python3.6/site-packages'] + sys.path[dist_package_index:]\n",
        "sys.path\n",
        "exec(open('rapidsai-csp-utils/colab/update_modules.py').read(), globals())"
      ],
      "execution_count": null,
      "outputs": []
    },
    {
      "cell_type": "markdown",
      "metadata": {
        "colab_type": "text",
        "id": "qhY-vaF8NpFb"
      },
      "source": [
        "# Connect Google Drive to your notebook"
      ]
    },
    {
      "cell_type": "code",
      "metadata": {
        "colab_type": "code",
        "id": "Wv8G4PgxvVJQ",
        "colab": {}
      },
      "source": [
        "from google.colab import drive\n",
        "drive.mount(\"/content/drive\")\n",
        "\n",
        "!pip install -U -q PyDrive\n",
        "\n",
        "from pydrive.auth import GoogleAuth\n",
        "from pydrive.drive import GoogleDrive\n",
        "from google.colab import auth\n",
        "from oauth2client.client import GoogleCredentials\n",
        "\n",
        "# 1. Authenticate and create the PyDrive client.\n",
        "auth.authenticate_user()\n",
        "gauth = GoogleAuth()\n",
        "gauth.credentials = GoogleCredentials.get_application_default()\n",
        "drive = GoogleDrive(gauth)"
      ],
      "execution_count": null,
      "outputs": []
    },
    {
      "cell_type": "code",
      "metadata": {
        "colab_type": "code",
        "id": "_LsmAyn5nvjp",
        "colab": {}
      },
      "source": [
        "file_list = drive.ListFile({'q': \"'1xJE20zntYdIqwQw2N1qrVomCPYZfWbWi' in parents and trashed=false\"}).GetList()\n",
        "for file1 in file_list:\n",
        "  print('title: %s, id: %s' % (file1['title'], file1['id']))"
      ],
      "execution_count": null,
      "outputs": []
    },
    {
      "cell_type": "code",
      "metadata": {
        "colab_type": "code",
        "id": "kY4kwO8lufl3",
        "colab": {}
      },
      "source": [
        "csv_file = drive.CreateFile({'id': '1Ci-NyI8N2IWEY2iRkXphZAUZaTQIsgL6'})\n",
        "xls_file = drive.CreateFile({'id':'1iBDwMoY-yUp3WpVMDYNlxj6-RbPnthPg'})\n",
        "\n",
        "csv_file.GetContentFile('loan.csv')\n",
        "xls_file.GetContentFile('LCDataDictionary.xlsx')"
      ],
      "execution_count": null,
      "outputs": []
    },
    {
      "cell_type": "code",
      "metadata": {
        "colab_type": "code",
        "id": "_0F1Hzf_vXAe",
        "colab": {
          "base_uri": "https://localhost:8080/",
          "height": 70
        },
        "outputId": "8c010e9c-bfce-4028-987f-2c7d187187eb"
      },
      "source": [
        "import pandas as pd\n",
        "import time\n",
        "import cudf\n",
        "from sklearn.preprocessing import LabelEncoder\n",
        "\n",
        "from sklearn.ensemble import RandomForestClassifier\n",
        "from sklearn.model_selection import cross_val_score, cross_val_predict, train_test_split\n",
        "from sklearn.metrics import classification_report,accuracy_score, confusion_matrix\n",
        "\n",
        "\n",
        "%matplotlib inline\n",
        "import matplotlib\n",
        "import matplotlib.pyplot as plt\n",
        "import graphviz\n",
        "import seaborn as sns\n",
        "import plotly.graph_objects as go\n",
        "import numpy as np\n",
        "\n",
        "# model analysis\n",
        "import numpy as np\n",
        "from sklearn.metrics import roc_curve\n",
        "from sklearn.metrics import auc\n",
        "\n",
        "from xgboost import XGBClassifier\n"
      ],
      "execution_count": null,
      "outputs": [
        {
          "output_type": "stream",
          "text": [
            "/usr/local/lib/python3.6/dist-packages/statsmodels/tools/_testing.py:19: FutureWarning: pandas.util.testing is deprecated. Use the functions in the public API at pandas.testing instead.\n",
            "  import pandas.util.testing as tm\n"
          ],
          "name": "stderr"
        }
      ]
    },
    {
      "cell_type": "markdown",
      "metadata": {
        "id": "8GaI0vJFHqAD",
        "colab_type": "text"
      },
      "source": [
        "Authorize the google drive and mount it on google colab"
      ]
    },
    {
      "cell_type": "code",
      "metadata": {
        "colab_type": "code",
        "id": "DcddSN9IpeVm",
        "colab": {
          "base_uri": "https://localhost:8080/",
          "height": 120
        },
        "outputId": "2046d9b9-f033-44ec-b017-018af1c9678f"
      },
      "source": [
        "from google.colab import drive\n",
        "drive.mount('/content/drive')"
      ],
      "execution_count": null,
      "outputs": [
        {
          "output_type": "stream",
          "text": [
            "Go to this URL in a browser: https://accounts.google.com/o/oauth2/auth?client_id=947318989803-6bn6qk8qdgf4n4g3pfee6491hc0brc4i.apps.googleusercontent.com&redirect_uri=urn%3aietf%3awg%3aoauth%3a2.0%3aoob&response_type=code&scope=email%20https%3a%2f%2fwww.googleapis.com%2fauth%2fdocs.test%20https%3a%2f%2fwww.googleapis.com%2fauth%2fdrive%20https%3a%2f%2fwww.googleapis.com%2fauth%2fdrive.photos.readonly%20https%3a%2f%2fwww.googleapis.com%2fauth%2fpeopleapi.readonly\n",
            "\n",
            "Enter your authorization code:\n",
            "··········\n",
            "Mounted at /content/drive\n"
          ],
          "name": "stdout"
        }
      ]
    },
    {
      "cell_type": "markdown",
      "metadata": {
        "id": "a0GbId9wV6QI",
        "colab_type": "text"
      },
      "source": [
        "Time required to load the file using pandas"
      ]
    },
    {
      "cell_type": "code",
      "metadata": {
        "colab_type": "code",
        "id": "pzxqy8kAxPZa",
        "colab": {
          "base_uri": "https://localhost:8080/",
          "height": 87
        },
        "outputId": "c12c5790-3a31-459d-fb22-b376a9c1a5b1"
      },
      "source": [
        "st = time.time()\n",
        "cdf = pd.read_csv('drive/My Drive/Lending_Club_Dataset/loan.csv')\n",
        "print('Loading time {t:3.8f}'.format(t=time.time()-st))"
      ],
      "execution_count": null,
      "outputs": [
        {
          "output_type": "stream",
          "text": [
            "/usr/local/lib/python3.6/dist-packages/IPython/core/interactiveshell.py:2718: DtypeWarning: Columns (19,47,55,112,123,124,125,128,129,130,133,139,140,141) have mixed types.Specify dtype option on import or set low_memory=False.\n",
            "  interactivity=interactivity, compiler=compiler, result=result)\n"
          ],
          "name": "stderr"
        },
        {
          "output_type": "stream",
          "text": [
            "Loading time 49.58097792\n"
          ],
          "name": "stdout"
        }
      ]
    },
    {
      "cell_type": "markdown",
      "metadata": {
        "id": "J-Wrmz48WEN6",
        "colab_type": "text"
      },
      "source": [
        "Nvidia Rapids uses GPU resources to load the data into Cuda Dataframe. Which is much faster compared to regular pandas DataFrame"
      ]
    },
    {
      "cell_type": "code",
      "metadata": {
        "colab_type": "code",
        "id": "x3Tv5yAyMBnR",
        "colab": {
          "base_uri": "https://localhost:8080/",
          "height": 33
        },
        "outputId": "1c088dab-e13e-4be6-f5e2-7ed165f0e5aa"
      },
      "source": [
        "#To load file make folder in your drive called Lending_Club_Dataset and copy loans.csv file in that folder\n",
        "#or change the the following path to your local directory(run next cell)\n",
        "st = time.time()\n",
        "cud = cudf.read_csv('drive/My Drive/Lending_Club_Dataset/loan.csv')\n",
        "print('Loading time {t:3.8f}'.format(t=time.time()-st))"
      ],
      "execution_count": null,
      "outputs": [
        {
          "output_type": "stream",
          "text": [
            "Loading time 3.69622064\n"
          ],
          "name": "stdout"
        }
      ]
    },
    {
      "cell_type": "code",
      "metadata": {
        "colab_type": "code",
        "id": "5JyzddQOwZuo",
        "colab": {}
      },
      "source": [
        "# st = time.time()\n",
        "# cud = cudf.read_csv('loan.csv')\n",
        "# print('Loading time {t:3.8f}'.format(t=time.time()-st))"
      ],
      "execution_count": null,
      "outputs": []
    },
    {
      "cell_type": "code",
      "metadata": {
        "colab_type": "code",
        "id": "LPYGrI3SyLhD",
        "colab": {}
      },
      "source": [
        "#There is a document provided along with dataset which is a data dictionary for the lendingclub dataset. Let's import that file\n",
        "dataDict = pd.read_excel(\"LCDataDictionary.xlsx\")"
      ],
      "execution_count": null,
      "outputs": []
    },
    {
      "cell_type": "markdown",
      "metadata": {
        "colab_type": "text",
        "id": "491T-Oj4QeRf"
      },
      "source": [
        "## Data Cleaning"
      ]
    },
    {
      "cell_type": "markdown",
      "metadata": {
        "colab_type": "text",
        "id": "Orzo7HJnVWE9"
      },
      "source": [
        "Lets find Null Values from all columns"
      ]
    },
    {
      "cell_type": "code",
      "metadata": {
        "colab_type": "code",
        "id": "e4TFd_F547Mc",
        "colab": {
          "base_uri": "https://localhost:8080/",
          "height": 1000
        },
        "outputId": "bab0804d-3c43-4f2e-e971-ba39c92624b5"
      },
      "source": [
        "nulls = cudf.DataFrame()\n",
        "nulls['CountofNull'] = cud.isnull().sum()\n",
        "nulls['Percent'] = (cud.isnull().sum()*100)/len(cud)\n",
        "nulls[nulls['CountofNull']>0]\n",
        "nulls.sort_values(by='Percent',ascending=False)\n",
        "nulls[nulls['Percent']>20.0]"
      ],
      "execution_count": null,
      "outputs": [
        {
          "output_type": "execute_result",
          "data": {
            "text/html": [
              "<div>\n",
              "<style scoped>\n",
              "    .dataframe tbody tr th:only-of-type {\n",
              "        vertical-align: middle;\n",
              "    }\n",
              "\n",
              "    .dataframe tbody tr th {\n",
              "        vertical-align: top;\n",
              "    }\n",
              "\n",
              "    .dataframe thead th {\n",
              "        text-align: right;\n",
              "    }\n",
              "</style>\n",
              "<table border=\"1\" class=\"dataframe\">\n",
              "  <thead>\n",
              "    <tr style=\"text-align: right;\">\n",
              "      <th></th>\n",
              "      <th>CountofNull</th>\n",
              "      <th>Percent</th>\n",
              "    </tr>\n",
              "  </thead>\n",
              "  <tbody>\n",
              "    <tr>\n",
              "      <th>id</th>\n",
              "      <td>2260668</td>\n",
              "      <td>100.000000</td>\n",
              "    </tr>\n",
              "    <tr>\n",
              "      <th>member_id</th>\n",
              "      <td>2260668</td>\n",
              "      <td>100.000000</td>\n",
              "    </tr>\n",
              "    <tr>\n",
              "      <th>url</th>\n",
              "      <td>2260668</td>\n",
              "      <td>100.000000</td>\n",
              "    </tr>\n",
              "    <tr>\n",
              "      <th>desc</th>\n",
              "      <td>2134601</td>\n",
              "      <td>94.423462</td>\n",
              "    </tr>\n",
              "    <tr>\n",
              "      <th>mths_since_last_delinq</th>\n",
              "      <td>1158502</td>\n",
              "      <td>51.246003</td>\n",
              "    </tr>\n",
              "    <tr>\n",
              "      <th>mths_since_last_record</th>\n",
              "      <td>1901512</td>\n",
              "      <td>84.112837</td>\n",
              "    </tr>\n",
              "    <tr>\n",
              "      <th>next_pymnt_d</th>\n",
              "      <td>1303607</td>\n",
              "      <td>57.664681</td>\n",
              "    </tr>\n",
              "    <tr>\n",
              "      <th>mths_since_last_major_derog</th>\n",
              "      <td>1679893</td>\n",
              "      <td>74.309585</td>\n",
              "    </tr>\n",
              "    <tr>\n",
              "      <th>annual_inc_joint</th>\n",
              "      <td>2139958</td>\n",
              "      <td>94.660428</td>\n",
              "    </tr>\n",
              "    <tr>\n",
              "      <th>dti_joint</th>\n",
              "      <td>2139962</td>\n",
              "      <td>94.660605</td>\n",
              "    </tr>\n",
              "    <tr>\n",
              "      <th>verification_status_joint</th>\n",
              "      <td>2144938</td>\n",
              "      <td>94.880717</td>\n",
              "    </tr>\n",
              "    <tr>\n",
              "      <th>open_acc_6m</th>\n",
              "      <td>866130</td>\n",
              "      <td>38.313012</td>\n",
              "    </tr>\n",
              "    <tr>\n",
              "      <th>open_act_il</th>\n",
              "      <td>866129</td>\n",
              "      <td>38.312968</td>\n",
              "    </tr>\n",
              "    <tr>\n",
              "      <th>open_il_12m</th>\n",
              "      <td>866129</td>\n",
              "      <td>38.312968</td>\n",
              "    </tr>\n",
              "    <tr>\n",
              "      <th>open_il_24m</th>\n",
              "      <td>866129</td>\n",
              "      <td>38.312968</td>\n",
              "    </tr>\n",
              "    <tr>\n",
              "      <th>mths_since_rcnt_il</th>\n",
              "      <td>909924</td>\n",
              "      <td>40.250227</td>\n",
              "    </tr>\n",
              "    <tr>\n",
              "      <th>total_bal_il</th>\n",
              "      <td>866129</td>\n",
              "      <td>38.312968</td>\n",
              "    </tr>\n",
              "    <tr>\n",
              "      <th>il_util</th>\n",
              "      <td>1068850</td>\n",
              "      <td>47.280273</td>\n",
              "    </tr>\n",
              "    <tr>\n",
              "      <th>open_rv_12m</th>\n",
              "      <td>866129</td>\n",
              "      <td>38.312968</td>\n",
              "    </tr>\n",
              "    <tr>\n",
              "      <th>open_rv_24m</th>\n",
              "      <td>866129</td>\n",
              "      <td>38.312968</td>\n",
              "    </tr>\n",
              "    <tr>\n",
              "      <th>max_bal_bc</th>\n",
              "      <td>866129</td>\n",
              "      <td>38.312968</td>\n",
              "    </tr>\n",
              "    <tr>\n",
              "      <th>all_util</th>\n",
              "      <td>866348</td>\n",
              "      <td>38.322655</td>\n",
              "    </tr>\n",
              "    <tr>\n",
              "      <th>inq_fi</th>\n",
              "      <td>866129</td>\n",
              "      <td>38.312968</td>\n",
              "    </tr>\n",
              "    <tr>\n",
              "      <th>total_cu_tl</th>\n",
              "      <td>866130</td>\n",
              "      <td>38.313012</td>\n",
              "    </tr>\n",
              "    <tr>\n",
              "      <th>inq_last_12m</th>\n",
              "      <td>866130</td>\n",
              "      <td>38.313012</td>\n",
              "    </tr>\n",
              "    <tr>\n",
              "      <th>mths_since_recent_bc_dlq</th>\n",
              "      <td>1740967</td>\n",
              "      <td>77.011175</td>\n",
              "    </tr>\n",
              "    <tr>\n",
              "      <th>mths_since_recent_revol_delinq</th>\n",
              "      <td>1520309</td>\n",
              "      <td>67.250432</td>\n",
              "    </tr>\n",
              "    <tr>\n",
              "      <th>revol_bal_joint</th>\n",
              "      <td>2152648</td>\n",
              "      <td>95.221766</td>\n",
              "    </tr>\n",
              "    <tr>\n",
              "      <th>sec_app_earliest_cr_line</th>\n",
              "      <td>2152647</td>\n",
              "      <td>95.221722</td>\n",
              "    </tr>\n",
              "    <tr>\n",
              "      <th>sec_app_inq_last_6mths</th>\n",
              "      <td>2152647</td>\n",
              "      <td>95.221722</td>\n",
              "    </tr>\n",
              "    <tr>\n",
              "      <th>sec_app_mort_acc</th>\n",
              "      <td>2152647</td>\n",
              "      <td>95.221722</td>\n",
              "    </tr>\n",
              "    <tr>\n",
              "      <th>sec_app_open_acc</th>\n",
              "      <td>2152647</td>\n",
              "      <td>95.221722</td>\n",
              "    </tr>\n",
              "    <tr>\n",
              "      <th>sec_app_revol_util</th>\n",
              "      <td>2154484</td>\n",
              "      <td>95.302981</td>\n",
              "    </tr>\n",
              "    <tr>\n",
              "      <th>sec_app_open_act_il</th>\n",
              "      <td>2152647</td>\n",
              "      <td>95.221722</td>\n",
              "    </tr>\n",
              "    <tr>\n",
              "      <th>sec_app_num_rev_accts</th>\n",
              "      <td>2152647</td>\n",
              "      <td>95.221722</td>\n",
              "    </tr>\n",
              "    <tr>\n",
              "      <th>sec_app_chargeoff_within_12_mths</th>\n",
              "      <td>2152647</td>\n",
              "      <td>95.221722</td>\n",
              "    </tr>\n",
              "    <tr>\n",
              "      <th>sec_app_collections_12_mths_ex_med</th>\n",
              "      <td>2152647</td>\n",
              "      <td>95.221722</td>\n",
              "    </tr>\n",
              "    <tr>\n",
              "      <th>sec_app_mths_since_last_major_derog</th>\n",
              "      <td>2224726</td>\n",
              "      <td>98.410116</td>\n",
              "    </tr>\n",
              "    <tr>\n",
              "      <th>hardship_type</th>\n",
              "      <td>2250055</td>\n",
              "      <td>99.530537</td>\n",
              "    </tr>\n",
              "    <tr>\n",
              "      <th>hardship_reason</th>\n",
              "      <td>2250055</td>\n",
              "      <td>99.530537</td>\n",
              "    </tr>\n",
              "    <tr>\n",
              "      <th>hardship_status</th>\n",
              "      <td>2250055</td>\n",
              "      <td>99.530537</td>\n",
              "    </tr>\n",
              "    <tr>\n",
              "      <th>deferral_term</th>\n",
              "      <td>2250055</td>\n",
              "      <td>99.530537</td>\n",
              "    </tr>\n",
              "    <tr>\n",
              "      <th>hardship_amount</th>\n",
              "      <td>2250055</td>\n",
              "      <td>99.530537</td>\n",
              "    </tr>\n",
              "    <tr>\n",
              "      <th>hardship_start_date</th>\n",
              "      <td>2250055</td>\n",
              "      <td>99.530537</td>\n",
              "    </tr>\n",
              "    <tr>\n",
              "      <th>hardship_end_date</th>\n",
              "      <td>2250055</td>\n",
              "      <td>99.530537</td>\n",
              "    </tr>\n",
              "    <tr>\n",
              "      <th>payment_plan_start_date</th>\n",
              "      <td>2250055</td>\n",
              "      <td>99.530537</td>\n",
              "    </tr>\n",
              "    <tr>\n",
              "      <th>hardship_length</th>\n",
              "      <td>2250055</td>\n",
              "      <td>99.530537</td>\n",
              "    </tr>\n",
              "    <tr>\n",
              "      <th>hardship_dpd</th>\n",
              "      <td>2250055</td>\n",
              "      <td>99.530537</td>\n",
              "    </tr>\n",
              "    <tr>\n",
              "      <th>hardship_loan_status</th>\n",
              "      <td>2250055</td>\n",
              "      <td>99.530537</td>\n",
              "    </tr>\n",
              "    <tr>\n",
              "      <th>orig_projected_additional_accrued_interest</th>\n",
              "      <td>2252242</td>\n",
              "      <td>99.627278</td>\n",
              "    </tr>\n",
              "    <tr>\n",
              "      <th>hardship_payoff_balance_amount</th>\n",
              "      <td>2250055</td>\n",
              "      <td>99.530537</td>\n",
              "    </tr>\n",
              "    <tr>\n",
              "      <th>hardship_last_payment_amount</th>\n",
              "      <td>2250055</td>\n",
              "      <td>99.530537</td>\n",
              "    </tr>\n",
              "    <tr>\n",
              "      <th>debt_settlement_flag_date</th>\n",
              "      <td>2227612</td>\n",
              "      <td>98.537777</td>\n",
              "    </tr>\n",
              "    <tr>\n",
              "      <th>settlement_status</th>\n",
              "      <td>2227612</td>\n",
              "      <td>98.537777</td>\n",
              "    </tr>\n",
              "    <tr>\n",
              "      <th>settlement_date</th>\n",
              "      <td>2227612</td>\n",
              "      <td>98.537777</td>\n",
              "    </tr>\n",
              "    <tr>\n",
              "      <th>settlement_amount</th>\n",
              "      <td>2227612</td>\n",
              "      <td>98.537777</td>\n",
              "    </tr>\n",
              "    <tr>\n",
              "      <th>settlement_percentage</th>\n",
              "      <td>2227612</td>\n",
              "      <td>98.537777</td>\n",
              "    </tr>\n",
              "    <tr>\n",
              "      <th>settlement_term</th>\n",
              "      <td>2227612</td>\n",
              "      <td>98.537777</td>\n",
              "    </tr>\n",
              "  </tbody>\n",
              "</table>\n",
              "</div>"
            ],
            "text/plain": [
              "                                            CountofNull     Percent\n",
              "id                                              2260668  100.000000\n",
              "member_id                                       2260668  100.000000\n",
              "url                                             2260668  100.000000\n",
              "desc                                            2134601   94.423462\n",
              "mths_since_last_delinq                          1158502   51.246003\n",
              "mths_since_last_record                          1901512   84.112837\n",
              "next_pymnt_d                                    1303607   57.664681\n",
              "mths_since_last_major_derog                     1679893   74.309585\n",
              "annual_inc_joint                                2139958   94.660428\n",
              "dti_joint                                       2139962   94.660605\n",
              "verification_status_joint                       2144938   94.880717\n",
              "open_acc_6m                                      866130   38.313012\n",
              "open_act_il                                      866129   38.312968\n",
              "open_il_12m                                      866129   38.312968\n",
              "open_il_24m                                      866129   38.312968\n",
              "mths_since_rcnt_il                               909924   40.250227\n",
              "total_bal_il                                     866129   38.312968\n",
              "il_util                                         1068850   47.280273\n",
              "open_rv_12m                                      866129   38.312968\n",
              "open_rv_24m                                      866129   38.312968\n",
              "max_bal_bc                                       866129   38.312968\n",
              "all_util                                         866348   38.322655\n",
              "inq_fi                                           866129   38.312968\n",
              "total_cu_tl                                      866130   38.313012\n",
              "inq_last_12m                                     866130   38.313012\n",
              "mths_since_recent_bc_dlq                        1740967   77.011175\n",
              "mths_since_recent_revol_delinq                  1520309   67.250432\n",
              "revol_bal_joint                                 2152648   95.221766\n",
              "sec_app_earliest_cr_line                        2152647   95.221722\n",
              "sec_app_inq_last_6mths                          2152647   95.221722\n",
              "sec_app_mort_acc                                2152647   95.221722\n",
              "sec_app_open_acc                                2152647   95.221722\n",
              "sec_app_revol_util                              2154484   95.302981\n",
              "sec_app_open_act_il                             2152647   95.221722\n",
              "sec_app_num_rev_accts                           2152647   95.221722\n",
              "sec_app_chargeoff_within_12_mths                2152647   95.221722\n",
              "sec_app_collections_12_mths_ex_med              2152647   95.221722\n",
              "sec_app_mths_since_last_major_derog             2224726   98.410116\n",
              "hardship_type                                   2250055   99.530537\n",
              "hardship_reason                                 2250055   99.530537\n",
              "hardship_status                                 2250055   99.530537\n",
              "deferral_term                                   2250055   99.530537\n",
              "hardship_amount                                 2250055   99.530537\n",
              "hardship_start_date                             2250055   99.530537\n",
              "hardship_end_date                               2250055   99.530537\n",
              "payment_plan_start_date                         2250055   99.530537\n",
              "hardship_length                                 2250055   99.530537\n",
              "hardship_dpd                                    2250055   99.530537\n",
              "hardship_loan_status                            2250055   99.530537\n",
              "orig_projected_additional_accrued_interest      2252242   99.627278\n",
              "hardship_payoff_balance_amount                  2250055   99.530537\n",
              "hardship_last_payment_amount                    2250055   99.530537\n",
              "debt_settlement_flag_date                       2227612   98.537777\n",
              "settlement_status                               2227612   98.537777\n",
              "settlement_date                                 2227612   98.537777\n",
              "settlement_amount                               2227612   98.537777\n",
              "settlement_percentage                           2227612   98.537777\n",
              "settlement_term                                 2227612   98.537777"
            ]
          },
          "metadata": {
            "tags": []
          },
          "execution_count": 7
        }
      ]
    },
    {
      "cell_type": "markdown",
      "metadata": {
        "colab_type": "text",
        "id": "kT9BfY_EXCXH"
      },
      "source": [
        "There are many columns present in the dataset which are mostly null. So we'll remove all the columns where 80% or more rows are null"
      ]
    },
    {
      "cell_type": "code",
      "metadata": {
        "colab_type": "code",
        "id": "Haoj9krM5izp",
        "colab": {}
      },
      "source": [
        "  cdf = cud.dropna(axis=1, thresh=int(0.80*len(cud)))\n",
        "del cud\n",
        "del nulls"
      ],
      "execution_count": null,
      "outputs": []
    },
    {
      "cell_type": "markdown",
      "metadata": {
        "colab_type": "text",
        "id": "NMHieEU6wVbh"
      },
      "source": [
        "## EDA"
      ]
    },
    {
      "cell_type": "code",
      "metadata": {
        "colab_type": "code",
        "id": "u27dANmowbAR",
        "colab": {
          "base_uri": "https://localhost:8080/",
          "height": 299
        },
        "outputId": "be5215aa-74be-482d-8cfd-37e5447b4f26"
      },
      "source": [
        "cdf.head()"
      ],
      "execution_count": null,
      "outputs": [
        {
          "output_type": "execute_result",
          "data": {
            "text/html": [
              "<div>\n",
              "<style scoped>\n",
              "    .dataframe tbody tr th:only-of-type {\n",
              "        vertical-align: middle;\n",
              "    }\n",
              "\n",
              "    .dataframe tbody tr th {\n",
              "        vertical-align: top;\n",
              "    }\n",
              "\n",
              "    .dataframe thead th {\n",
              "        text-align: right;\n",
              "    }\n",
              "</style>\n",
              "<table border=\"1\" class=\"dataframe\">\n",
              "  <thead>\n",
              "    <tr style=\"text-align: right;\">\n",
              "      <th></th>\n",
              "      <th>loan_amnt</th>\n",
              "      <th>funded_amnt</th>\n",
              "      <th>funded_amnt_inv</th>\n",
              "      <th>term</th>\n",
              "      <th>int_rate</th>\n",
              "      <th>installment</th>\n",
              "      <th>grade</th>\n",
              "      <th>sub_grade</th>\n",
              "      <th>emp_title</th>\n",
              "      <th>emp_length</th>\n",
              "      <th>home_ownership</th>\n",
              "      <th>annual_inc</th>\n",
              "      <th>verification_status</th>\n",
              "      <th>issue_d</th>\n",
              "      <th>loan_status</th>\n",
              "      <th>pymnt_plan</th>\n",
              "      <th>purpose</th>\n",
              "      <th>title</th>\n",
              "      <th>zip_code</th>\n",
              "      <th>addr_state</th>\n",
              "      <th>dti</th>\n",
              "      <th>num_bc_tl</th>\n",
              "      <th>num_il_tl</th>\n",
              "      <th>num_op_rev_tl</th>\n",
              "      <th>num_rev_accts</th>\n",
              "      <th>num_rev_tl_bal_gt_0</th>\n",
              "      <th>num_sats</th>\n",
              "      <th>num_tl_120dpd_2m</th>\n",
              "      <th>num_tl_30dpd</th>\n",
              "      <th>num_tl_90g_dpd_24m</th>\n",
              "      <th>num_tl_op_past_12m</th>\n",
              "      <th>pct_tl_nvr_dlq</th>\n",
              "      <th>percent_bc_gt_75</th>\n",
              "      <th>pub_rec_bankruptcies</th>\n",
              "      <th>tax_liens</th>\n",
              "      <th>tot_hi_cred_lim</th>\n",
              "      <th>total_bal_ex_mort</th>\n",
              "      <th>total_bc_limit</th>\n",
              "      <th>total_il_high_credit_limit</th>\n",
              "      <th>hardship_flag</th>\n",
              "      <th>disbursement_method</th>\n",
              "      <th>debt_settlement_flag</th>\n",
              "    </tr>\n",
              "  </thead>\n",
              "  <tbody>\n",
              "    <tr>\n",
              "      <th>0</th>\n",
              "      <td>2500</td>\n",
              "      <td>2500</td>\n",
              "      <td>2500.0</td>\n",
              "      <td>36 months</td>\n",
              "      <td>13.56</td>\n",
              "      <td>84.92</td>\n",
              "      <td>C</td>\n",
              "      <td>C1</td>\n",
              "      <td>Chef</td>\n",
              "      <td>10+ years</td>\n",
              "      <td>RENT</td>\n",
              "      <td>55000.0</td>\n",
              "      <td>Not Verified</td>\n",
              "      <td>Dec-2018</td>\n",
              "      <td>Current</td>\n",
              "      <td>n</td>\n",
              "      <td>debt_consolidation</td>\n",
              "      <td>Debt consolidation</td>\n",
              "      <td>109xx</td>\n",
              "      <td>NY</td>\n",
              "      <td>18.24</td>\n",
              "      <td>3.0</td>\n",
              "      <td>16.0</td>\n",
              "      <td>7.0</td>\n",
              "      <td>18.0</td>\n",
              "      <td>5.0</td>\n",
              "      <td>9.0</td>\n",
              "      <td>0.0</td>\n",
              "      <td>0.0</td>\n",
              "      <td>0.0</td>\n",
              "      <td>3.0</td>\n",
              "      <td>100.0</td>\n",
              "      <td>0.0</td>\n",
              "      <td>1.0</td>\n",
              "      <td>0.0</td>\n",
              "      <td>60124.0</td>\n",
              "      <td>16901.0</td>\n",
              "      <td>36500.0</td>\n",
              "      <td>18124.0</td>\n",
              "      <td>N</td>\n",
              "      <td>Cash</td>\n",
              "      <td>N</td>\n",
              "    </tr>\n",
              "    <tr>\n",
              "      <th>1</th>\n",
              "      <td>30000</td>\n",
              "      <td>30000</td>\n",
              "      <td>30000.0</td>\n",
              "      <td>60 months</td>\n",
              "      <td>18.94</td>\n",
              "      <td>777.23</td>\n",
              "      <td>D</td>\n",
              "      <td>D2</td>\n",
              "      <td>Postmaster</td>\n",
              "      <td>10+ years</td>\n",
              "      <td>MORTGAGE</td>\n",
              "      <td>90000.0</td>\n",
              "      <td>Source Verified</td>\n",
              "      <td>Dec-2018</td>\n",
              "      <td>Current</td>\n",
              "      <td>n</td>\n",
              "      <td>debt_consolidation</td>\n",
              "      <td>Debt consolidation</td>\n",
              "      <td>713xx</td>\n",
              "      <td>LA</td>\n",
              "      <td>26.52</td>\n",
              "      <td>9.0</td>\n",
              "      <td>27.0</td>\n",
              "      <td>8.0</td>\n",
              "      <td>14.0</td>\n",
              "      <td>4.0</td>\n",
              "      <td>13.0</td>\n",
              "      <td>0.0</td>\n",
              "      <td>0.0</td>\n",
              "      <td>0.0</td>\n",
              "      <td>6.0</td>\n",
              "      <td>95.0</td>\n",
              "      <td>0.0</td>\n",
              "      <td>1.0</td>\n",
              "      <td>0.0</td>\n",
              "      <td>372872.0</td>\n",
              "      <td>99468.0</td>\n",
              "      <td>15000.0</td>\n",
              "      <td>94072.0</td>\n",
              "      <td>N</td>\n",
              "      <td>Cash</td>\n",
              "      <td>N</td>\n",
              "    </tr>\n",
              "    <tr>\n",
              "      <th>2</th>\n",
              "      <td>5000</td>\n",
              "      <td>5000</td>\n",
              "      <td>5000.0</td>\n",
              "      <td>36 months</td>\n",
              "      <td>17.97</td>\n",
              "      <td>180.69</td>\n",
              "      <td>D</td>\n",
              "      <td>D1</td>\n",
              "      <td>Administrative</td>\n",
              "      <td>6 years</td>\n",
              "      <td>MORTGAGE</td>\n",
              "      <td>59280.0</td>\n",
              "      <td>Source Verified</td>\n",
              "      <td>Dec-2018</td>\n",
              "      <td>Current</td>\n",
              "      <td>n</td>\n",
              "      <td>debt_consolidation</td>\n",
              "      <td>Debt consolidation</td>\n",
              "      <td>490xx</td>\n",
              "      <td>MI</td>\n",
              "      <td>10.51</td>\n",
              "      <td>3.0</td>\n",
              "      <td>4.0</td>\n",
              "      <td>6.0</td>\n",
              "      <td>7.0</td>\n",
              "      <td>3.0</td>\n",
              "      <td>8.0</td>\n",
              "      <td>0.0</td>\n",
              "      <td>0.0</td>\n",
              "      <td>0.0</td>\n",
              "      <td>0.0</td>\n",
              "      <td>100.0</td>\n",
              "      <td>0.0</td>\n",
              "      <td>0.0</td>\n",
              "      <td>0.0</td>\n",
              "      <td>136927.0</td>\n",
              "      <td>11749.0</td>\n",
              "      <td>13800.0</td>\n",
              "      <td>10000.0</td>\n",
              "      <td>N</td>\n",
              "      <td>Cash</td>\n",
              "      <td>N</td>\n",
              "    </tr>\n",
              "    <tr>\n",
              "      <th>3</th>\n",
              "      <td>4000</td>\n",
              "      <td>4000</td>\n",
              "      <td>4000.0</td>\n",
              "      <td>36 months</td>\n",
              "      <td>18.94</td>\n",
              "      <td>146.51</td>\n",
              "      <td>D</td>\n",
              "      <td>D2</td>\n",
              "      <td>IT Supervisor</td>\n",
              "      <td>10+ years</td>\n",
              "      <td>MORTGAGE</td>\n",
              "      <td>92000.0</td>\n",
              "      <td>Source Verified</td>\n",
              "      <td>Dec-2018</td>\n",
              "      <td>Current</td>\n",
              "      <td>n</td>\n",
              "      <td>debt_consolidation</td>\n",
              "      <td>Debt consolidation</td>\n",
              "      <td>985xx</td>\n",
              "      <td>WA</td>\n",
              "      <td>16.74</td>\n",
              "      <td>2.0</td>\n",
              "      <td>7.0</td>\n",
              "      <td>2.0</td>\n",
              "      <td>3.0</td>\n",
              "      <td>2.0</td>\n",
              "      <td>10.0</td>\n",
              "      <td>0.0</td>\n",
              "      <td>0.0</td>\n",
              "      <td>0.0</td>\n",
              "      <td>3.0</td>\n",
              "      <td>100.0</td>\n",
              "      <td>100.0</td>\n",
              "      <td>0.0</td>\n",
              "      <td>0.0</td>\n",
              "      <td>385183.0</td>\n",
              "      <td>36151.0</td>\n",
              "      <td>5000.0</td>\n",
              "      <td>44984.0</td>\n",
              "      <td>N</td>\n",
              "      <td>Cash</td>\n",
              "      <td>N</td>\n",
              "    </tr>\n",
              "    <tr>\n",
              "      <th>4</th>\n",
              "      <td>30000</td>\n",
              "      <td>30000</td>\n",
              "      <td>30000.0</td>\n",
              "      <td>60 months</td>\n",
              "      <td>16.14</td>\n",
              "      <td>731.78</td>\n",
              "      <td>C</td>\n",
              "      <td>C4</td>\n",
              "      <td>Mechanic</td>\n",
              "      <td>10+ years</td>\n",
              "      <td>MORTGAGE</td>\n",
              "      <td>57250.0</td>\n",
              "      <td>Not Verified</td>\n",
              "      <td>Dec-2018</td>\n",
              "      <td>Current</td>\n",
              "      <td>n</td>\n",
              "      <td>debt_consolidation</td>\n",
              "      <td>Debt consolidation</td>\n",
              "      <td>212xx</td>\n",
              "      <td>MD</td>\n",
              "      <td>26.35</td>\n",
              "      <td>8.0</td>\n",
              "      <td>9.0</td>\n",
              "      <td>6.0</td>\n",
              "      <td>15.0</td>\n",
              "      <td>2.0</td>\n",
              "      <td>12.0</td>\n",
              "      <td>0.0</td>\n",
              "      <td>0.0</td>\n",
              "      <td>0.0</td>\n",
              "      <td>5.0</td>\n",
              "      <td>92.3</td>\n",
              "      <td>0.0</td>\n",
              "      <td>0.0</td>\n",
              "      <td>0.0</td>\n",
              "      <td>157548.0</td>\n",
              "      <td>29674.0</td>\n",
              "      <td>9300.0</td>\n",
              "      <td>32332.0</td>\n",
              "      <td>N</td>\n",
              "      <td>Cash</td>\n",
              "      <td>N</td>\n",
              "    </tr>\n",
              "  </tbody>\n",
              "</table>\n",
              "</div>"
            ],
            "text/plain": [
              "   loan_amnt  funded_amnt  ...  disbursement_method debt_settlement_flag\n",
              "0       2500         2500  ...                 Cash                    N\n",
              "1      30000        30000  ...                 Cash                    N\n",
              "2       5000         5000  ...                 Cash                    N\n",
              "3       4000         4000  ...                 Cash                    N\n",
              "4      30000        30000  ...                 Cash                    N\n",
              "\n",
              "[5 rows x 87 columns]"
            ]
          },
          "metadata": {
            "tags": []
          },
          "execution_count": 8
        }
      ]
    },
    {
      "cell_type": "markdown",
      "metadata": {
        "colab_type": "text",
        "id": "OkwA9dPvP_Iu"
      },
      "source": [
        "## Data Dictionary"
      ]
    },
    {
      "cell_type": "code",
      "metadata": {
        "colab_type": "code",
        "id": "vw87nrSlwf1T",
        "colab": {
          "base_uri": "https://localhost:8080/",
          "height": 402
        },
        "outputId": "f7be2f5d-1eec-4a0e-deba-c5f7ef1bcfbe"
      },
      "source": [
        "dataDict"
      ],
      "execution_count": null,
      "outputs": [
        {
          "output_type": "execute_result",
          "data": {
            "text/html": [
              "<div>\n",
              "<style scoped>\n",
              "    .dataframe tbody tr th:only-of-type {\n",
              "        vertical-align: middle;\n",
              "    }\n",
              "\n",
              "    .dataframe tbody tr th {\n",
              "        vertical-align: top;\n",
              "    }\n",
              "\n",
              "    .dataframe thead th {\n",
              "        text-align: right;\n",
              "    }\n",
              "</style>\n",
              "<table border=\"1\" class=\"dataframe\">\n",
              "  <thead>\n",
              "    <tr style=\"text-align: right;\">\n",
              "      <th></th>\n",
              "      <th>LoanStatNew</th>\n",
              "      <th>Description</th>\n",
              "    </tr>\n",
              "  </thead>\n",
              "  <tbody>\n",
              "    <tr>\n",
              "      <th>0</th>\n",
              "      <td>acc_now_delinq</td>\n",
              "      <td>The number of accounts on which the borrower i...</td>\n",
              "    </tr>\n",
              "    <tr>\n",
              "      <th>1</th>\n",
              "      <td>acc_open_past_24mths</td>\n",
              "      <td>Number of trades opened in past 24 months.</td>\n",
              "    </tr>\n",
              "    <tr>\n",
              "      <th>2</th>\n",
              "      <td>addr_state</td>\n",
              "      <td>The state provided by the borrower in the loan...</td>\n",
              "    </tr>\n",
              "    <tr>\n",
              "      <th>3</th>\n",
              "      <td>all_util</td>\n",
              "      <td>Balance to credit limit on all trades</td>\n",
              "    </tr>\n",
              "    <tr>\n",
              "      <th>4</th>\n",
              "      <td>annual_inc</td>\n",
              "      <td>The self-reported annual income provided by th...</td>\n",
              "    </tr>\n",
              "    <tr>\n",
              "      <th>...</th>\n",
              "      <td>...</td>\n",
              "      <td>...</td>\n",
              "    </tr>\n",
              "    <tr>\n",
              "      <th>148</th>\n",
              "      <td>settlement_amount</td>\n",
              "      <td>The loan amount that the borrower has agreed t...</td>\n",
              "    </tr>\n",
              "    <tr>\n",
              "      <th>149</th>\n",
              "      <td>settlement_percentage</td>\n",
              "      <td>The settlement amount as a percentage of the p...</td>\n",
              "    </tr>\n",
              "    <tr>\n",
              "      <th>150</th>\n",
              "      <td>settlement_term</td>\n",
              "      <td>The number of months that the borrower will be...</td>\n",
              "    </tr>\n",
              "    <tr>\n",
              "      <th>151</th>\n",
              "      <td>NaN</td>\n",
              "      <td>NaN</td>\n",
              "    </tr>\n",
              "    <tr>\n",
              "      <th>152</th>\n",
              "      <td>NaN</td>\n",
              "      <td>* Employer Title replaces Employer Name for al...</td>\n",
              "    </tr>\n",
              "  </tbody>\n",
              "</table>\n",
              "<p>153 rows × 2 columns</p>\n",
              "</div>"
            ],
            "text/plain": [
              "               LoanStatNew                                        Description\n",
              "0           acc_now_delinq  The number of accounts on which the borrower i...\n",
              "1     acc_open_past_24mths         Number of trades opened in past 24 months.\n",
              "2               addr_state  The state provided by the borrower in the loan...\n",
              "3                 all_util              Balance to credit limit on all trades\n",
              "4               annual_inc  The self-reported annual income provided by th...\n",
              "..                     ...                                                ...\n",
              "148      settlement_amount  The loan amount that the borrower has agreed t...\n",
              "149  settlement_percentage  The settlement amount as a percentage of the p...\n",
              "150        settlement_term  The number of months that the borrower will be...\n",
              "151                    NaN                                                NaN\n",
              "152                    NaN  * Employer Title replaces Employer Name for al...\n",
              "\n",
              "[153 rows x 2 columns]"
            ]
          },
          "metadata": {
            "tags": []
          },
          "execution_count": 64
        }
      ]
    },
    {
      "cell_type": "code",
      "metadata": {
        "colab_type": "code",
        "id": "BtgJnQ3U0Otc",
        "colab": {}
      },
      "source": [
        "dt_series = pd.to_datetime(cdf.to_pandas()['issue_d'])\n",
        "cdf['year'] = dt_series.dt.year"
      ],
      "execution_count": null,
      "outputs": []
    },
    {
      "cell_type": "markdown",
      "metadata": {
        "id": "EUMOUZ20QqGR",
        "colab_type": "text"
      },
      "source": [
        "The average loan amount issued by year"
      ]
    },
    {
      "cell_type": "code",
      "metadata": {
        "colab_type": "code",
        "id": "I6rSb113wYDd",
        "colab": {
          "base_uri": "https://localhost:8080/",
          "height": 536
        },
        "outputId": "d0ed7e0b-9ee6-4182-f66a-7d3a00e2fa95"
      },
      "source": [
        "plt.figure(figsize=(12,8))\n",
        "sns.barplot('year', 'loan_amnt', data=cdf)\n",
        "plt.title('Issuance of Loans', fontsize=16)\n",
        "plt.xlabel('Year', fontsize=14)\n",
        "plt.ylabel('Average loan amount issued', fontsize=14)"
      ],
      "execution_count": null,
      "outputs": [
        {
          "output_type": "execute_result",
          "data": {
            "text/plain": [
              "Text(0, 0.5, 'Average loan amount issued')"
            ]
          },
          "metadata": {
            "tags": []
          },
          "execution_count": 50
        },
        {
          "output_type": "display_data",
          "data": {
            "image/png": "[encoded data removed]",
            "text/plain": [
              "<Figure size 864x576 with 1 Axes>"
            ]
          },
          "metadata": {
            "tags": []
          }
        }
      ]
    },
    {
      "cell_type": "markdown",
      "metadata": {
        "id": "fyKB5_DjQ-y_",
        "colab_type": "text"
      },
      "source": [
        "So how are these borrowers are getting paid on average in a year"
      ]
    },
    {
      "cell_type": "code",
      "metadata": {
        "colab_type": "code",
        "id": "i3XDiKWd0xSB",
        "colab": {
          "base_uri": "https://localhost:8080/",
          "height": 536
        },
        "outputId": "26fc4cf6-d49a-47af-944f-f1366ec3031f"
      },
      "source": [
        "plt.figure(figsize=(12,8))\n",
        "sns.barplot('year', 'annual_inc', data=cdf)\n",
        "plt.title('Annual Income Average', fontsize=16)\n",
        "plt.xlabel('Year', fontsize=14)\n",
        "plt.ylabel('Income', fontsize=14)"
      ],
      "execution_count": null,
      "outputs": [
        {
          "output_type": "execute_result",
          "data": {
            "text/plain": [
              "Text(0, 0.5, 'Income')"
            ]
          },
          "metadata": {
            "tags": []
          },
          "execution_count": 53
        },
        {
          "output_type": "display_data",
          "data": {
            "image/png": "[encoded data removed]",
            "text/plain": [
              "<Figure size 864x576 with 1 Axes>"
            ]
          },
          "metadata": {
            "tags": []
          }
        }
      ]
    },
    {
      "cell_type": "markdown",
      "metadata": {
        "colab_type": "text",
        "id": "f-H1fiJtLxiS"
      },
      "source": [
        "Loan Categories by Lendeing Club"
      ]
    },
    {
      "cell_type": "code",
      "metadata": {
        "colab_type": "code",
        "id": "u4pYG5Lg9BIU",
        "colab": {
          "base_uri": "https://localhost:8080/",
          "height": 185
        },
        "outputId": "bc3ab667-f60d-45df-fc1d-d60165226d2c"
      },
      "source": [
        "cdf.loan_status.unique()"
      ],
      "execution_count": null,
      "outputs": [
        {
          "output_type": "execute_result",
          "data": {
            "text/plain": [
              "0                                          Charged Off\n",
              "1                                              Current\n",
              "2                                              Default\n",
              "3    Does not meet the credit policy. Status:Charge...\n",
              "4    Does not meet the credit policy. Status:Fully ...\n",
              "5                                           Fully Paid\n",
              "6                                      In Grace Period\n",
              "7                                    Late (16-30 days)\n",
              "8                                   Late (31-120 days)\n",
              "Name: loan_status, dtype: object"
            ]
          },
          "metadata": {
            "tags": []
          },
          "execution_count": 24
        }
      ]
    },
    {
      "cell_type": "markdown",
      "metadata": {
        "colab_type": "text",
        "id": "psWnXlKJMJk6"
      },
      "source": [
        "Total count of loans given by lending club grouped by each category "
      ]
    },
    {
      "cell_type": "code",
      "metadata": {
        "colab_type": "code",
        "id": "0-ZLOMDAtCQB",
        "colab": {
          "base_uri": "https://localhost:8080/",
          "height": 185
        },
        "outputId": "9d6da258-22c6-4aca-d468-921f03ca8770"
      },
      "source": [
        "cdf.loan_status.value_counts()"
      ],
      "execution_count": null,
      "outputs": [
        {
          "output_type": "execute_result",
          "data": {
            "text/plain": [
              "Fully Paid                                             1041952\n",
              "Current                                                 919695\n",
              "Charged Off                                             261655\n",
              "Late (31-120 days)                                       21897\n",
              "In Grace Period                                           8952\n",
              "Late (16-30 days)                                         3737\n",
              "Does not meet the credit policy. Status:Fully Paid        1988\n",
              "Does not meet the credit policy. Status:Charged Off        761\n",
              "Default                                                     31\n",
              "Name: loan_status, dtype: int32"
            ]
          },
          "metadata": {
            "tags": []
          },
          "execution_count": 36
        }
      ]
    },
    {
      "cell_type": "markdown",
      "metadata": {
        "colab_type": "text",
        "id": "E_Sa9FF7-TBw"
      },
      "source": [
        "We can see the various categories of loans here. Majority of loans are fully paid. However we need to understand that loans which are in 'Current' period have risk of defaulting.\n",
        "\n",
        "Lets merge all the bad loan categories together since they have already passed the repayment period."
      ]
    },
    {
      "cell_type": "code",
      "metadata": {
        "colab_type": "code",
        "id": "F4YJzQqDDpof",
        "colab": {}
      },
      "source": [
        "#I'll not worry about the current loans and paid loans for now. We'll drop those categories for now.\n",
        "cdf = cdf[cdf.loan_status != 'Current']\n",
        "cdf = cdf[cdf.loan_status != 'Does not meet the credit policy. Status:Fully Paid']\n",
        "cdf = cdf[cdf.loan_status != 'Late (31-120 days)']\n",
        "cdf = cdf[cdf.loan_status != 'Late (16-30 days)']\n",
        "\n",
        "\n",
        "# bad_loan = [\"Charged Off\", \"Late (16-30 days)\",\"In Grace Period\",  \"Late (31-120 days)\", \n",
        "#             \"Does not meet the credit policy. Status:Charged Off\",\"Default\" ]\n",
        "# def merge_status(status):\n",
        "#     if status in bad_loan:\n",
        "#         return 'Default'\n",
        "#     else:\n",
        "#         return 'Non-Default'\n",
        "#cud['loan_condition'] = ['Default' if status in bad_loan else 'Non-Default' for status in cud['loan_status'] ]\n",
        "\n",
        "cdf['loan_status'] = cdf['loan_status'].replace(\"Fully Paid\",\"Non-Default\")\n",
        "cdf['loan_status'] = cdf['loan_status'].replace('Charged Off','Default')\n",
        "cdf['loan_status'] = cdf['loan_status'].replace('In Grace Period','Default')\n",
        "cdf['loan_status'] = cdf['loan_status'].replace('Does not meet the credit policy. Status:Default','Default')"
      ],
      "execution_count": null,
      "outputs": []
    },
    {
      "cell_type": "markdown",
      "metadata": {
        "colab_type": "text",
        "id": "BbFhlDtRwOQc"
      },
      "source": [
        "Let's visualize the number of defaulted and non defaulted loans"
      ]
    },
    {
      "cell_type": "code",
      "metadata": {
        "colab_type": "code",
        "id": "gCWPqSXBLH3t",
        "colab": {
          "base_uri": "https://localhost:8080/",
          "height": 487
        },
        "outputId": "ca3839ba-ff20-4da5-a9c3-63ec1453e35f"
      },
      "source": [
        "loan_status = cdf.loan_status.value_counts()\n",
        "labels =\"Non-Default\", \"Default\"\n",
        "\n",
        "fig1, ax1 = plt.subplots(figsize=(16,8))\n",
        "loan_status.to_pandas().plot.pie(explode=[0,0.25], labels=labels, autopct='%1.1f%%',\n",
        "        shadow=True, startangle=90)\n",
        "ax1.axis('equal')  \n",
        "plt.ylabel('% of Condition of Loans', fontsize=14)\n",
        "plt.title('Information on Loan Conditions', fontsize=20)\n",
        "\n",
        "plt.show()"
      ],
      "execution_count": null,
      "outputs": [
        {
          "output_type": "display_data",
          "data": {
            "image/png": "[encoded data removed]",
            "text/plain": [
              "<Figure size 1152x576 with 1 Axes>"
            ]
          },
          "metadata": {
            "tags": []
          }
        }
      ]
    },
    {
      "cell_type": "markdown",
      "metadata": {
        "colab_type": "text",
        "id": "tsh4jJ_bzkAS"
      },
      "source": [
        "We can see from the piechart that the heavily unbalanced which could make the model biased. We'll handle it later."
      ]
    },
    {
      "cell_type": "code",
      "metadata": {
        "colab_type": "code",
        "id": "QLnyDp79yCKl",
        "colab": {
          "base_uri": "https://localhost:8080/",
          "height": 347
        },
        "outputId": "a88edb0c-1ae3-4f45-a651-c66a0a619e8c"
      },
      "source": [
        "#When given a quick glance we can see many non-numeric features. Lets check mumber of each type of column\n",
        "cdf.dtypes.value_counts().sort_values().plot(kind='bar')\n",
        "plt.title('Number of columns distributed by Data Types',fontsize=20)\n",
        "plt.xlabel('Number of columns',fontsize=15)\n",
        "plt.ylabel('Data type',fontsize=15)"
      ],
      "execution_count": null,
      "outputs": [
        {
          "output_type": "execute_result",
          "data": {
            "text/plain": [
              "Text(0, 0.5, 'Data type')"
            ]
          },
          "metadata": {
            "tags": []
          },
          "execution_count": 34
        },
        {
          "output_type": "display_data",
          "data": {
            "image/png": "[encoded data removed]",
            "text/plain": [
              "<Figure size 432x288 with 1 Axes>"
            ]
          },
          "metadata": {
            "tags": []
          }
        }
      ]
    },
    {
      "cell_type": "code",
      "metadata": {
        "colab_type": "code",
        "id": "bHmDjiepXjxj",
        "colab": {
          "base_uri": "https://localhost:8080/",
          "height": 350
        },
        "outputId": "4b58e732-5809-4369-ffce-6bc97e120db7"
      },
      "source": [
        "cdf.select_dtypes('object').head()"
      ],
      "execution_count": null,
      "outputs": [
        {
          "output_type": "execute_result",
          "data": {
            "text/html": [
              "<div>\n",
              "<style scoped>\n",
              "    .dataframe tbody tr th:only-of-type {\n",
              "        vertical-align: middle;\n",
              "    }\n",
              "\n",
              "    .dataframe tbody tr th {\n",
              "        vertical-align: top;\n",
              "    }\n",
              "\n",
              "    .dataframe thead th {\n",
              "        text-align: right;\n",
              "    }\n",
              "</style>\n",
              "<table border=\"1\" class=\"dataframe\">\n",
              "  <thead>\n",
              "    <tr style=\"text-align: right;\">\n",
              "      <th></th>\n",
              "      <th>term</th>\n",
              "      <th>grade</th>\n",
              "      <th>sub_grade</th>\n",
              "      <th>emp_title</th>\n",
              "      <th>emp_length</th>\n",
              "      <th>home_ownership</th>\n",
              "      <th>verification_status</th>\n",
              "      <th>issue_d</th>\n",
              "      <th>loan_status</th>\n",
              "      <th>pymnt_plan</th>\n",
              "      <th>purpose</th>\n",
              "      <th>title</th>\n",
              "      <th>zip_code</th>\n",
              "      <th>addr_state</th>\n",
              "      <th>earliest_cr_line</th>\n",
              "      <th>initial_list_status</th>\n",
              "      <th>last_pymnt_d</th>\n",
              "      <th>last_credit_pull_d</th>\n",
              "      <th>application_type</th>\n",
              "      <th>hardship_flag</th>\n",
              "      <th>disbursement_method</th>\n",
              "      <th>debt_settlement_flag</th>\n",
              "    </tr>\n",
              "  </thead>\n",
              "  <tbody>\n",
              "    <tr>\n",
              "      <th>100</th>\n",
              "      <td>36 months</td>\n",
              "      <td>D</td>\n",
              "      <td>D5</td>\n",
              "      <td>Supervisor</td>\n",
              "      <td>5 years</td>\n",
              "      <td>MORTGAGE</td>\n",
              "      <td>Source Verified</td>\n",
              "      <td>Dec-2018</td>\n",
              "      <td>Non-Default</td>\n",
              "      <td>n</td>\n",
              "      <td>debt_consolidation</td>\n",
              "      <td>Debt consolidation</td>\n",
              "      <td>917xx</td>\n",
              "      <td>CA</td>\n",
              "      <td>Jan-2012</td>\n",
              "      <td>w</td>\n",
              "      <td>Jan-2019</td>\n",
              "      <td>Jan-2019</td>\n",
              "      <td>Joint App</td>\n",
              "      <td>N</td>\n",
              "      <td>Cash</td>\n",
              "      <td>N</td>\n",
              "    </tr>\n",
              "    <tr>\n",
              "      <th>152</th>\n",
              "      <td>60 months</td>\n",
              "      <td>C</td>\n",
              "      <td>C4</td>\n",
              "      <td>Assistant to the Treasurer (Payroll)</td>\n",
              "      <td>&lt; 1 year</td>\n",
              "      <td>MORTGAGE</td>\n",
              "      <td>Verified</td>\n",
              "      <td>Dec-2018</td>\n",
              "      <td>Non-Default</td>\n",
              "      <td>n</td>\n",
              "      <td>credit_card</td>\n",
              "      <td>Credit card refinancing</td>\n",
              "      <td>456xx</td>\n",
              "      <td>OH</td>\n",
              "      <td>Jun-2009</td>\n",
              "      <td>w</td>\n",
              "      <td>Feb-2019</td>\n",
              "      <td>Feb-2019</td>\n",
              "      <td>Joint App</td>\n",
              "      <td>N</td>\n",
              "      <td>Cash</td>\n",
              "      <td>N</td>\n",
              "    </tr>\n",
              "    <tr>\n",
              "      <th>170</th>\n",
              "      <td>36 months</td>\n",
              "      <td>A</td>\n",
              "      <td>A3</td>\n",
              "      <td>Teacher</td>\n",
              "      <td>10+ years</td>\n",
              "      <td>MORTGAGE</td>\n",
              "      <td>Not Verified</td>\n",
              "      <td>Dec-2018</td>\n",
              "      <td>Non-Default</td>\n",
              "      <td>n</td>\n",
              "      <td>credit_card</td>\n",
              "      <td>Credit card refinancing</td>\n",
              "      <td>982xx</td>\n",
              "      <td>WA</td>\n",
              "      <td>Feb-1999</td>\n",
              "      <td>w</td>\n",
              "      <td>Feb-2019</td>\n",
              "      <td>Feb-2019</td>\n",
              "      <td>Joint App</td>\n",
              "      <td>N</td>\n",
              "      <td>Cash</td>\n",
              "      <td>N</td>\n",
              "    </tr>\n",
              "    <tr>\n",
              "      <th>186</th>\n",
              "      <td>36 months</td>\n",
              "      <td>B</td>\n",
              "      <td>B3</td>\n",
              "      <td>Accounts Examiner III</td>\n",
              "      <td>10+ years</td>\n",
              "      <td>RENT</td>\n",
              "      <td>Not Verified</td>\n",
              "      <td>Dec-2018</td>\n",
              "      <td>Non-Default</td>\n",
              "      <td>n</td>\n",
              "      <td>credit_card</td>\n",
              "      <td>Credit card refinancing</td>\n",
              "      <td>786xx</td>\n",
              "      <td>TX</td>\n",
              "      <td>Dec-2003</td>\n",
              "      <td>w</td>\n",
              "      <td>Feb-2019</td>\n",
              "      <td>Feb-2019</td>\n",
              "      <td>Individual</td>\n",
              "      <td>N</td>\n",
              "      <td>Cash</td>\n",
              "      <td>N</td>\n",
              "    </tr>\n",
              "    <tr>\n",
              "      <th>215</th>\n",
              "      <td>36 months</td>\n",
              "      <td>E</td>\n",
              "      <td>E5</td>\n",
              "      <td>Senior Director Risk Management</td>\n",
              "      <td>3 years</td>\n",
              "      <td>MORTGAGE</td>\n",
              "      <td>Verified</td>\n",
              "      <td>Dec-2018</td>\n",
              "      <td>Non-Default</td>\n",
              "      <td>n</td>\n",
              "      <td>credit_card</td>\n",
              "      <td>Credit card refinancing</td>\n",
              "      <td>020xx</td>\n",
              "      <td>MA</td>\n",
              "      <td>Oct-1997</td>\n",
              "      <td>w</td>\n",
              "      <td>Feb-2019</td>\n",
              "      <td>Feb-2019</td>\n",
              "      <td>Joint App</td>\n",
              "      <td>N</td>\n",
              "      <td>Cash</td>\n",
              "      <td>N</td>\n",
              "    </tr>\n",
              "  </tbody>\n",
              "</table>\n",
              "</div>"
            ],
            "text/plain": [
              "           term grade  ... disbursement_method debt_settlement_flag\n",
              "100   36 months     D  ...                Cash                    N\n",
              "152   60 months     C  ...                Cash                    N\n",
              "170   36 months     A  ...                Cash                    N\n",
              "186   36 months     B  ...                Cash                    N\n",
              "215   36 months     E  ...                Cash                    N\n",
              "\n",
              "[5 rows x 22 columns]"
            ]
          },
          "metadata": {
            "tags": []
          },
          "execution_count": 36
        }
      ]
    },
    {
      "cell_type": "code",
      "metadata": {
        "colab_type": "code",
        "id": "NlWmCpz51avu",
        "colab": {
          "base_uri": "https://localhost:8080/",
          "height": 403
        },
        "outputId": "29af3612-e30c-4f59-e803-f26991aa17bf"
      },
      "source": [
        "#Number of Categories each column has\n",
        "cdf.to_pandas().select_dtypes('object').apply(pd.Series.nunique, axis = 0)"
      ],
      "execution_count": null,
      "outputs": [
        {
          "output_type": "execute_result",
          "data": {
            "text/plain": [
              "term                         2\n",
              "grade                        7\n",
              "sub_grade                   35\n",
              "emp_title               373513\n",
              "emp_length                  11\n",
              "home_ownership               6\n",
              "verification_status          3\n",
              "issue_d                    139\n",
              "loan_status                  2\n",
              "pymnt_plan                   2\n",
              "purpose                     14\n",
              "title                    62108\n",
              "zip_code                   944\n",
              "addr_state                  51\n",
              "earliest_cr_line           738\n",
              "initial_list_status          2\n",
              "last_pymnt_d               135\n",
              "last_credit_pull_d         139\n",
              "application_type             2\n",
              "hardship_flag                2\n",
              "disbursement_method          2\n",
              "debt_settlement_flag         2\n",
              "dtype: int64"
            ]
          },
          "metadata": {
            "tags": []
          },
          "execution_count": 38
        }
      ]
    },
    {
      "cell_type": "markdown",
      "metadata": {
        "colab_type": "text",
        "id": "8aOH_Rf14gui"
      },
      "source": [
        "We'll encode columns using one hot encoding where necessary. But there are few columns like emp_title, title,zip_code these needs to be dropped for now. Also I'll drop the debt settlement flag since it'll be correlated to the target variable since I dropped other categories from the loan status and we have only two categories in our dependent variable"
      ]
    },
    {
      "cell_type": "code",
      "metadata": {
        "colab_type": "code",
        "id": "fsZ82BUn3cvD",
        "colab": {}
      },
      "source": [
        "cdf = cdf.drop(columns=['emp_title','title','zip_code','debt_settlement_flag','earliest_cr_line','last_credit_pull_d'])"
      ],
      "execution_count": null,
      "outputs": []
    },
    {
      "cell_type": "code",
      "metadata": {
        "colab_type": "code",
        "id": "vsHUvYP48Gwm",
        "colab": {
          "base_uri": "https://localhost:8080/",
          "height": 581
        },
        "outputId": "9904c695-7441-4a95-99d0-b01083c0e837"
      },
      "source": [
        "print('number of total null values from the column employment length {}'.format(cdf.emp_length.isnull().sum()))\n",
        "\n",
        "cdf.emp_length.to_pandas().value_counts().sort_values().plot(kind='bar',figsize=(18,8))\n",
        "plt.title('Number of loans distributed by Employment Years',fontsize=20)\n",
        "plt.xlabel('Number of loans',fontsize=15)\n",
        "plt.ylabel('Years worked',fontsize=15);"
      ],
      "execution_count": null,
      "outputs": [
        {
          "output_type": "stream",
          "text": [
            "number of total null values from the column employment length 76044\n"
          ],
          "name": "stdout"
        },
        {
          "output_type": "display_data",
          "data": {
            "image/png": "[encoded data removed]",
            "text/plain": [
              "<Figure size 1296x576 with 1 Axes>"
            ]
          },
          "metadata": {
            "tags": []
          }
        }
      ]
    },
    {
      "cell_type": "markdown",
      "metadata": {
        "colab_type": "text",
        "id": "onLgbAaVDARo"
      },
      "source": [
        "The number of null values are few compared to the categorical distribution and total dataset. So we can make a seperate category for the missing values with 0 years of experience also there is similar category already present category '<1'. So I'll fill the missing data with 0 and make replace all the '<1' year with 0\n",
        "'"
      ]
    },
    {
      "cell_type": "code",
      "metadata": {
        "colab_type": "code",
        "id": "NeffG4ZY_ZjS",
        "colab": {
          "base_uri": "https://localhost:8080/",
          "height": 217
        },
        "outputId": "5446ad10-5c9d-4c6c-b46c-099015266605"
      },
      "source": [
        "cdf['emp_length']= cdf['emp_length'].replace(to_replace='< 1 year', replacement='0')\n",
        "cdf['emp_length'].fillna(value='0',inplace=True)\n",
        "cdf['emp_length']= cdf['emp_length'].replace(to_replace='[^0-9]+', replacement='')\n",
        "cdf.emp_length.value_counts()"
      ],
      "execution_count": null,
      "outputs": [
        {
          "output_type": "execute_result",
          "data": {
            "text/plain": [
              "10    431613\n",
              "0     181560\n",
              "2     118752\n",
              "3     105029\n",
              "1      86360\n",
              "5      82227\n",
              "4      78650\n",
              "6      61408\n",
              "8      59499\n",
              "7      58486\n",
              "9      49767\n",
              "Name: emp_length, dtype: int32"
            ]
          },
          "metadata": {
            "tags": []
          },
          "execution_count": 11
        }
      ]
    },
    {
      "cell_type": "code",
      "metadata": {
        "colab_type": "code",
        "id": "95Qxtw16Fjqj",
        "colab": {
          "base_uri": "https://localhost:8080/",
          "height": 1000
        },
        "outputId": "ca10bcb7-bd6c-41b5-f06d-81e0f0ded2b9"
      },
      "source": [
        "plt.figure(figsize=(15,15))\n",
        "sns.set_context(\"paper\", font_scale=1)\n",
        "correlationdf = cdf.to_pandas().corr()\n",
        "sns.heatmap(correlationdf,vmin=-1, vmax=1)"
      ],
      "execution_count": null,
      "outputs": [
        {
          "output_type": "execute_result",
          "data": {
            "text/plain": [
              "<matplotlib.axes._subplots.AxesSubplot at 0x7f8de49be438>"
            ]
          },
          "metadata": {
            "tags": []
          },
          "execution_count": 39
        },
        {
          "output_type": "display_data",
          "data": {
            "image/png": "[encoded data removed]",
            "text/plain": [
              "<Figure size 1080x1080 with 2 Axes>"
            ]
          },
          "metadata": {
            "tags": []
          }
        }
      ]
    },
    {
      "cell_type": "markdown",
      "metadata": {
        "colab_type": "text",
        "id": "6bD1RerlhPZS"
      },
      "source": [
        "From the heat map we can see that the loan amount and loan installment have really hight correlation with each other, which makes sense. If you have big loan amount then obviously your installment will be big as well"
      ]
    },
    {
      "cell_type": "code",
      "metadata": {
        "colab_type": "code",
        "id": "DQ_HCfU0suNL",
        "colab": {
          "base_uri": "https://localhost:8080/",
          "height": 101
        },
        "outputId": "a955ce9c-c3ef-4b02-d541-8ea7800fbbdb"
      },
      "source": [
        "num_feat = cdf.select_dtypes('int64').columns.values\n",
        "cdf[num_feat].to_pandas().nunique().sort_values()"
      ],
      "execution_count": null,
      "outputs": [
        {
          "output_type": "execute_result",
          "data": {
            "text/plain": [
              "policy_code        1\n",
              "loan_amnt       1556\n",
              "funded_amnt     1556\n",
              "revol_bal      83108\n",
              "dtype: int64"
            ]
          },
          "metadata": {
            "tags": []
          },
          "execution_count": 86
        }
      ]
    },
    {
      "cell_type": "code",
      "metadata": {
        "colab_type": "code",
        "id": "1MAg_oHJsud-",
        "colab": {
          "base_uri": "https://localhost:8080/",
          "height": 592
        },
        "outputId": "1f5a7993-87f4-4ee0-b5c2-63129a2e6f8b"
      },
      "source": [
        "cdf.drop(columns=['installment','policy_code'])"
      ],
      "execution_count": null,
      "outputs": [
        {
          "output_type": "execute_result",
          "data": {
            "text/html": [
              "<div>\n",
              "<style scoped>\n",
              "    .dataframe tbody tr th:only-of-type {\n",
              "        vertical-align: middle;\n",
              "    }\n",
              "\n",
              "    .dataframe tbody tr th {\n",
              "        vertical-align: top;\n",
              "    }\n",
              "\n",
              "    .dataframe thead th {\n",
              "        text-align: right;\n",
              "    }\n",
              "</style>\n",
              "<table border=\"1\" class=\"dataframe\">\n",
              "  <thead>\n",
              "    <tr style=\"text-align: right;\">\n",
              "      <th></th>\n",
              "      <th>loan_amnt</th>\n",
              "      <th>funded_amnt</th>\n",
              "      <th>funded_amnt_inv</th>\n",
              "      <th>term</th>\n",
              "      <th>int_rate</th>\n",
              "      <th>grade</th>\n",
              "      <th>sub_grade</th>\n",
              "      <th>emp_length</th>\n",
              "      <th>home_ownership</th>\n",
              "      <th>annual_inc</th>\n",
              "      <th>verification_status</th>\n",
              "      <th>issue_d</th>\n",
              "      <th>loan_status</th>\n",
              "      <th>pymnt_plan</th>\n",
              "      <th>purpose</th>\n",
              "      <th>addr_state</th>\n",
              "      <th>dti</th>\n",
              "      <th>delinq_2yrs</th>\n",
              "      <th>inq_last_6mths</th>\n",
              "      <th>open_acc</th>\n",
              "      <th>pub_rec</th>\n",
              "      <th>num_bc_sats</th>\n",
              "      <th>num_bc_tl</th>\n",
              "      <th>num_il_tl</th>\n",
              "      <th>num_op_rev_tl</th>\n",
              "      <th>num_rev_accts</th>\n",
              "      <th>num_rev_tl_bal_gt_0</th>\n",
              "      <th>num_sats</th>\n",
              "      <th>num_tl_120dpd_2m</th>\n",
              "      <th>num_tl_30dpd</th>\n",
              "      <th>num_tl_90g_dpd_24m</th>\n",
              "      <th>num_tl_op_past_12m</th>\n",
              "      <th>pct_tl_nvr_dlq</th>\n",
              "      <th>percent_bc_gt_75</th>\n",
              "      <th>pub_rec_bankruptcies</th>\n",
              "      <th>tax_liens</th>\n",
              "      <th>tot_hi_cred_lim</th>\n",
              "      <th>total_bal_ex_mort</th>\n",
              "      <th>total_bc_limit</th>\n",
              "      <th>total_il_high_credit_limit</th>\n",
              "      <th>hardship_flag</th>\n",
              "      <th>disbursement_method</th>\n",
              "    </tr>\n",
              "  </thead>\n",
              "  <tbody>\n",
              "    <tr>\n",
              "      <th>100</th>\n",
              "      <td>30000</td>\n",
              "      <td>30000</td>\n",
              "      <td>30000.0</td>\n",
              "      <td>36 months</td>\n",
              "      <td>22.35</td>\n",
              "      <td>D</td>\n",
              "      <td>D5</td>\n",
              "      <td>5</td>\n",
              "      <td>MORTGAGE</td>\n",
              "      <td>100000.0</td>\n",
              "      <td>Source Verified</td>\n",
              "      <td>Dec-2018</td>\n",
              "      <td>Non-Default</td>\n",
              "      <td>n</td>\n",
              "      <td>debt_consolidation</td>\n",
              "      <td>CA</td>\n",
              "      <td>30.46</td>\n",
              "      <td>0.0</td>\n",
              "      <td>0.0</td>\n",
              "      <td>11.0</td>\n",
              "      <td>1.0</td>\n",
              "      <td>3.0</td>\n",
              "      <td>5.0</td>\n",
              "      <td>10.0</td>\n",
              "      <td>6.0</td>\n",
              "      <td>8.0</td>\n",
              "      <td>4.0</td>\n",
              "      <td>11.0</td>\n",
              "      <td>0.0</td>\n",
              "      <td>0.0</td>\n",
              "      <td>0.0</td>\n",
              "      <td>2.0</td>\n",
              "      <td>89.5</td>\n",
              "      <td>33.3</td>\n",
              "      <td>1.0</td>\n",
              "      <td>0.0</td>\n",
              "      <td>527120.0</td>\n",
              "      <td>98453.0</td>\n",
              "      <td>28600.0</td>\n",
              "      <td>101984.0</td>\n",
              "      <td>N</td>\n",
              "      <td>Cash</td>\n",
              "    </tr>\n",
              "    <tr>\n",
              "      <th>152</th>\n",
              "      <td>40000</td>\n",
              "      <td>40000</td>\n",
              "      <td>40000.0</td>\n",
              "      <td>60 months</td>\n",
              "      <td>16.14</td>\n",
              "      <td>C</td>\n",
              "      <td>C4</td>\n",
              "      <td>0</td>\n",
              "      <td>MORTGAGE</td>\n",
              "      <td>45000.0</td>\n",
              "      <td>Verified</td>\n",
              "      <td>Dec-2018</td>\n",
              "      <td>Non-Default</td>\n",
              "      <td>n</td>\n",
              "      <td>credit_card</td>\n",
              "      <td>OH</td>\n",
              "      <td>50.53</td>\n",
              "      <td>0.0</td>\n",
              "      <td>0.0</td>\n",
              "      <td>18.0</td>\n",
              "      <td>0.0</td>\n",
              "      <td>7.0</td>\n",
              "      <td>7.0</td>\n",
              "      <td>26.0</td>\n",
              "      <td>9.0</td>\n",
              "      <td>10.0</td>\n",
              "      <td>9.0</td>\n",
              "      <td>18.0</td>\n",
              "      <td>0.0</td>\n",
              "      <td>0.0</td>\n",
              "      <td>0.0</td>\n",
              "      <td>4.0</td>\n",
              "      <td>100.0</td>\n",
              "      <td>42.9</td>\n",
              "      <td>0.0</td>\n",
              "      <td>0.0</td>\n",
              "      <td>344802.0</td>\n",
              "      <td>161720.0</td>\n",
              "      <td>45700.0</td>\n",
              "      <td>167965.0</td>\n",
              "      <td>N</td>\n",
              "      <td>Cash</td>\n",
              "    </tr>\n",
              "    <tr>\n",
              "      <th>170</th>\n",
              "      <td>20000</td>\n",
              "      <td>20000</td>\n",
              "      <td>20000.0</td>\n",
              "      <td>36 months</td>\n",
              "      <td>7.56</td>\n",
              "      <td>A</td>\n",
              "      <td>A3</td>\n",
              "      <td>10</td>\n",
              "      <td>MORTGAGE</td>\n",
              "      <td>100000.0</td>\n",
              "      <td>Not Verified</td>\n",
              "      <td>Dec-2018</td>\n",
              "      <td>Non-Default</td>\n",
              "      <td>n</td>\n",
              "      <td>credit_card</td>\n",
              "      <td>WA</td>\n",
              "      <td>18.92</td>\n",
              "      <td>0.0</td>\n",
              "      <td>0.0</td>\n",
              "      <td>9.0</td>\n",
              "      <td>0.0</td>\n",
              "      <td>5.0</td>\n",
              "      <td>6.0</td>\n",
              "      <td>5.0</td>\n",
              "      <td>5.0</td>\n",
              "      <td>9.0</td>\n",
              "      <td>5.0</td>\n",
              "      <td>9.0</td>\n",
              "      <td>0.0</td>\n",
              "      <td>0.0</td>\n",
              "      <td>0.0</td>\n",
              "      <td>1.0</td>\n",
              "      <td>94.7</td>\n",
              "      <td>20.0</td>\n",
              "      <td>0.0</td>\n",
              "      <td>0.0</td>\n",
              "      <td>622183.0</td>\n",
              "      <td>71569.0</td>\n",
              "      <td>85100.0</td>\n",
              "      <td>74833.0</td>\n",
              "      <td>N</td>\n",
              "      <td>Cash</td>\n",
              "    </tr>\n",
              "    <tr>\n",
              "      <th>186</th>\n",
              "      <td>4500</td>\n",
              "      <td>4500</td>\n",
              "      <td>4500.0</td>\n",
              "      <td>36 months</td>\n",
              "      <td>11.31</td>\n",
              "      <td>B</td>\n",
              "      <td>B3</td>\n",
              "      <td>10</td>\n",
              "      <td>RENT</td>\n",
              "      <td>38500.0</td>\n",
              "      <td>Not Verified</td>\n",
              "      <td>Dec-2018</td>\n",
              "      <td>Non-Default</td>\n",
              "      <td>n</td>\n",
              "      <td>credit_card</td>\n",
              "      <td>TX</td>\n",
              "      <td>4.64</td>\n",
              "      <td>0.0</td>\n",
              "      <td>0.0</td>\n",
              "      <td>12.0</td>\n",
              "      <td>0.0</td>\n",
              "      <td>5.0</td>\n",
              "      <td>6.0</td>\n",
              "      <td>10.0</td>\n",
              "      <td>11.0</td>\n",
              "      <td>15.0</td>\n",
              "      <td>5.0</td>\n",
              "      <td>12.0</td>\n",
              "      <td>0.0</td>\n",
              "      <td>0.0</td>\n",
              "      <td>0.0</td>\n",
              "      <td>4.0</td>\n",
              "      <td>91.7</td>\n",
              "      <td>0.0</td>\n",
              "      <td>0.0</td>\n",
              "      <td>0.0</td>\n",
              "      <td>53795.0</td>\n",
              "      <td>29137.0</td>\n",
              "      <td>15100.0</td>\n",
              "      <td>24595.0</td>\n",
              "      <td>N</td>\n",
              "      <td>Cash</td>\n",
              "    </tr>\n",
              "    <tr>\n",
              "      <th>215</th>\n",
              "      <td>8425</td>\n",
              "      <td>8425</td>\n",
              "      <td>8425.0</td>\n",
              "      <td>36 months</td>\n",
              "      <td>27.27</td>\n",
              "      <td>E</td>\n",
              "      <td>E5</td>\n",
              "      <td>3</td>\n",
              "      <td>MORTGAGE</td>\n",
              "      <td>450000.0</td>\n",
              "      <td>Verified</td>\n",
              "      <td>Dec-2018</td>\n",
              "      <td>Non-Default</td>\n",
              "      <td>n</td>\n",
              "      <td>credit_card</td>\n",
              "      <td>MA</td>\n",
              "      <td>12.37</td>\n",
              "      <td>0.0</td>\n",
              "      <td>0.0</td>\n",
              "      <td>21.0</td>\n",
              "      <td>0.0</td>\n",
              "      <td>8.0</td>\n",
              "      <td>10.0</td>\n",
              "      <td>16.0</td>\n",
              "      <td>13.0</td>\n",
              "      <td>17.0</td>\n",
              "      <td>8.0</td>\n",
              "      <td>21.0</td>\n",
              "      <td>0.0</td>\n",
              "      <td>0.0</td>\n",
              "      <td>0.0</td>\n",
              "      <td>2.0</td>\n",
              "      <td>100.0</td>\n",
              "      <td>50.0</td>\n",
              "      <td>0.0</td>\n",
              "      <td>0.0</td>\n",
              "      <td>768304.0</td>\n",
              "      <td>189194.0</td>\n",
              "      <td>45800.0</td>\n",
              "      <td>189054.0</td>\n",
              "      <td>N</td>\n",
              "      <td>Cash</td>\n",
              "    </tr>\n",
              "    <tr>\n",
              "      <th>...</th>\n",
              "      <td>...</td>\n",
              "      <td>...</td>\n",
              "      <td>...</td>\n",
              "      <td>...</td>\n",
              "      <td>...</td>\n",
              "      <td>...</td>\n",
              "      <td>...</td>\n",
              "      <td>...</td>\n",
              "      <td>...</td>\n",
              "      <td>...</td>\n",
              "      <td>...</td>\n",
              "      <td>...</td>\n",
              "      <td>...</td>\n",
              "      <td>...</td>\n",
              "      <td>...</td>\n",
              "      <td>...</td>\n",
              "      <td>...</td>\n",
              "      <td>...</td>\n",
              "      <td>...</td>\n",
              "      <td>...</td>\n",
              "      <td>...</td>\n",
              "      <td>...</td>\n",
              "      <td>...</td>\n",
              "      <td>...</td>\n",
              "      <td>...</td>\n",
              "      <td>...</td>\n",
              "      <td>...</td>\n",
              "      <td>...</td>\n",
              "      <td>...</td>\n",
              "      <td>...</td>\n",
              "      <td>...</td>\n",
              "      <td>...</td>\n",
              "      <td>...</td>\n",
              "      <td>...</td>\n",
              "      <td>...</td>\n",
              "      <td>...</td>\n",
              "      <td>...</td>\n",
              "      <td>...</td>\n",
              "      <td>...</td>\n",
              "      <td>...</td>\n",
              "      <td>...</td>\n",
              "      <td>...</td>\n",
              "    </tr>\n",
              "    <tr>\n",
              "      <th>2260655</th>\n",
              "      <td>18000</td>\n",
              "      <td>18000</td>\n",
              "      <td>18000.0</td>\n",
              "      <td>60 months</td>\n",
              "      <td>30.65</td>\n",
              "      <td>F</td>\n",
              "      <td>F4</td>\n",
              "      <td>10</td>\n",
              "      <td>MORTGAGE</td>\n",
              "      <td>77000.0</td>\n",
              "      <td>Verified</td>\n",
              "      <td>Oct-2017</td>\n",
              "      <td>Default</td>\n",
              "      <td>n</td>\n",
              "      <td>debt_consolidation</td>\n",
              "      <td>TX</td>\n",
              "      <td>8.08</td>\n",
              "      <td>0.0</td>\n",
              "      <td>1.0</td>\n",
              "      <td>9.0</td>\n",
              "      <td>0.0</td>\n",
              "      <td>4.0</td>\n",
              "      <td>4.0</td>\n",
              "      <td>7.0</td>\n",
              "      <td>6.0</td>\n",
              "      <td>6.0</td>\n",
              "      <td>5.0</td>\n",
              "      <td>9.0</td>\n",
              "      <td>0.0</td>\n",
              "      <td>0.0</td>\n",
              "      <td>0.0</td>\n",
              "      <td>5.0</td>\n",
              "      <td>93.3</td>\n",
              "      <td>50.0</td>\n",
              "      <td>0.0</td>\n",
              "      <td>0.0</td>\n",
              "      <td>338546.0</td>\n",
              "      <td>18113.0</td>\n",
              "      <td>13800.0</td>\n",
              "      <td>7058.0</td>\n",
              "      <td>N</td>\n",
              "      <td>Cash</td>\n",
              "    </tr>\n",
              "    <tr>\n",
              "      <th>2260656</th>\n",
              "      <td>17950</td>\n",
              "      <td>17950</td>\n",
              "      <td>17950.0</td>\n",
              "      <td>60 months</td>\n",
              "      <td>30.17</td>\n",
              "      <td>F</td>\n",
              "      <td>F3</td>\n",
              "      <td>10</td>\n",
              "      <td>MORTGAGE</td>\n",
              "      <td>53758.0</td>\n",
              "      <td>Source Verified</td>\n",
              "      <td>Oct-2017</td>\n",
              "      <td>Non-Default</td>\n",
              "      <td>n</td>\n",
              "      <td>debt_consolidation</td>\n",
              "      <td>IL</td>\n",
              "      <td>33.24</td>\n",
              "      <td>0.0</td>\n",
              "      <td>1.0</td>\n",
              "      <td>11.0</td>\n",
              "      <td>1.0</td>\n",
              "      <td>1.0</td>\n",
              "      <td>4.0</td>\n",
              "      <td>7.0</td>\n",
              "      <td>7.0</td>\n",
              "      <td>14.0</td>\n",
              "      <td>5.0</td>\n",
              "      <td>11.0</td>\n",
              "      <td>0.0</td>\n",
              "      <td>0.0</td>\n",
              "      <td>0.0</td>\n",
              "      <td>2.0</td>\n",
              "      <td>100.0</td>\n",
              "      <td>0.0</td>\n",
              "      <td>1.0</td>\n",
              "      <td>0.0</td>\n",
              "      <td>203667.0</td>\n",
              "      <td>36652.0</td>\n",
              "      <td>4000.0</td>\n",
              "      <td>63002.0</td>\n",
              "      <td>N</td>\n",
              "      <td>Cash</td>\n",
              "    </tr>\n",
              "    <tr>\n",
              "      <th>2260658</th>\n",
              "      <td>15000</td>\n",
              "      <td>15000</td>\n",
              "      <td>15000.0</td>\n",
              "      <td>60 months</td>\n",
              "      <td>16.02</td>\n",
              "      <td>C</td>\n",
              "      <td>C5</td>\n",
              "      <td>0</td>\n",
              "      <td>RENT</td>\n",
              "      <td>85000.0</td>\n",
              "      <td>Verified</td>\n",
              "      <td>Oct-2017</td>\n",
              "      <td>Non-Default</td>\n",
              "      <td>n</td>\n",
              "      <td>debt_consolidation</td>\n",
              "      <td>NY</td>\n",
              "      <td>14.66</td>\n",
              "      <td>0.0</td>\n",
              "      <td>3.0</td>\n",
              "      <td>19.0</td>\n",
              "      <td>0.0</td>\n",
              "      <td>8.0</td>\n",
              "      <td>17.0</td>\n",
              "      <td>55.0</td>\n",
              "      <td>13.0</td>\n",
              "      <td>31.0</td>\n",
              "      <td>6.0</td>\n",
              "      <td>19.0</td>\n",
              "      <td>0.0</td>\n",
              "      <td>0.0</td>\n",
              "      <td>0.0</td>\n",
              "      <td>7.0</td>\n",
              "      <td>89.0</td>\n",
              "      <td>0.0</td>\n",
              "      <td>0.0</td>\n",
              "      <td>0.0</td>\n",
              "      <td>267274.0</td>\n",
              "      <td>239081.0</td>\n",
              "      <td>22900.0</td>\n",
              "      <td>239074.0</td>\n",
              "      <td>N</td>\n",
              "      <td>Cash</td>\n",
              "    </tr>\n",
              "    <tr>\n",
              "      <th>2260661</th>\n",
              "      <td>21000</td>\n",
              "      <td>21000</td>\n",
              "      <td>21000.0</td>\n",
              "      <td>60 months</td>\n",
              "      <td>30.94</td>\n",
              "      <td>G</td>\n",
              "      <td>G4</td>\n",
              "      <td>0</td>\n",
              "      <td>MORTGAGE</td>\n",
              "      <td>90000.0</td>\n",
              "      <td>Verified</td>\n",
              "      <td>Oct-2017</td>\n",
              "      <td>Default</td>\n",
              "      <td>n</td>\n",
              "      <td>medical</td>\n",
              "      <td>GA</td>\n",
              "      <td>26.44</td>\n",
              "      <td>1.0</td>\n",
              "      <td>2.0</td>\n",
              "      <td>8.0</td>\n",
              "      <td>0.0</td>\n",
              "      <td>2.0</td>\n",
              "      <td>5.0</td>\n",
              "      <td>17.0</td>\n",
              "      <td>4.0</td>\n",
              "      <td>10.0</td>\n",
              "      <td>4.0</td>\n",
              "      <td>8.0</td>\n",
              "      <td>0.0</td>\n",
              "      <td>0.0</td>\n",
              "      <td>0.0</td>\n",
              "      <td>3.0</td>\n",
              "      <td>86.2</td>\n",
              "      <td>50.0</td>\n",
              "      <td>0.0</td>\n",
              "      <td>0.0</td>\n",
              "      <td>328405.0</td>\n",
              "      <td>68445.0</td>\n",
              "      <td>1300.0</td>\n",
              "      <td>57142.0</td>\n",
              "      <td>N</td>\n",
              "      <td>Cash</td>\n",
              "    </tr>\n",
              "    <tr>\n",
              "      <th>2260664</th>\n",
              "      <td>12000</td>\n",
              "      <td>12000</td>\n",
              "      <td>12000.0</td>\n",
              "      <td>60 months</td>\n",
              "      <td>25.82</td>\n",
              "      <td>E</td>\n",
              "      <td>E4</td>\n",
              "      <td>0</td>\n",
              "      <td>MORTGAGE</td>\n",
              "      <td>30000.0</td>\n",
              "      <td>Not Verified</td>\n",
              "      <td>Oct-2017</td>\n",
              "      <td>Non-Default</td>\n",
              "      <td>n</td>\n",
              "      <td>debt_consolidation</td>\n",
              "      <td>OR</td>\n",
              "      <td>19.28</td>\n",
              "      <td>3.0</td>\n",
              "      <td>1.0</td>\n",
              "      <td>10.0</td>\n",
              "      <td>0.0</td>\n",
              "      <td>2.0</td>\n",
              "      <td>5.0</td>\n",
              "      <td>4.0</td>\n",
              "      <td>7.0</td>\n",
              "      <td>18.0</td>\n",
              "      <td>4.0</td>\n",
              "      <td>10.0</td>\n",
              "      <td>0.0</td>\n",
              "      <td>0.0</td>\n",
              "      <td>0.0</td>\n",
              "      <td>1.0</td>\n",
              "      <td>76.9</td>\n",
              "      <td>50.0</td>\n",
              "      <td>0.0</td>\n",
              "      <td>0.0</td>\n",
              "      <td>382275.0</td>\n",
              "      <td>12928.0</td>\n",
              "      <td>11400.0</td>\n",
              "      <td>12125.0</td>\n",
              "      <td>N</td>\n",
              "      <td>Cash</td>\n",
              "    </tr>\n",
              "  </tbody>\n",
              "</table>\n",
              "<p>1313351 rows × 79 columns</p>\n",
              "</div>"
            ],
            "text/plain": [
              "         loan_amnt  funded_amnt  ...  hardship_flag disbursement_method\n",
              "100          30000        30000  ...              N                Cash\n",
              "152          40000        40000  ...              N                Cash\n",
              "170          20000        20000  ...              N                Cash\n",
              "186           4500         4500  ...              N                Cash\n",
              "215           8425         8425  ...              N                Cash\n",
              "...            ...          ...  ...            ...                 ...\n",
              "2260655      18000        18000  ...              N                Cash\n",
              "2260656      17950        17950  ...              N                Cash\n",
              "2260658      15000        15000  ...              N                Cash\n",
              "2260661      21000        21000  ...              N                Cash\n",
              "2260664      12000        12000  ...              N                Cash\n",
              "\n",
              "[1313351 rows x 79 columns]"
            ]
          },
          "metadata": {
            "tags": []
          },
          "execution_count": 12
        }
      ]
    },
    {
      "cell_type": "code",
      "metadata": {
        "colab_type": "code",
        "id": "id4PRDsTsteY",
        "colab": {
          "base_uri": "https://localhost:8080/",
          "height": 360
        },
        "outputId": "bc21050e-e177-4df1-e3a4-5bbf00480c15"
      },
      "source": [
        "fig = plt.figure(figsize=(10,5))\n",
        "sns.violinplot(x=\"loan_status\",y=\"loan_amnt\",data=cdf.to_pandas(), hue=\"term\", split=True,color='blue')\n",
        "plt.title(\"Loan Term vs Loan Amount\", fontsize=20)\n",
        "plt.xlabel(\"Loan Status\", fontsize=15)\n",
        "plt.ylabel(\"Loan Amount\", fontsize=15);"
      ],
      "execution_count": null,
      "outputs": [
        {
          "output_type": "display_data",
          "data": {
            "image/png": "[encoded data removed]",
            "text/plain": [
              "<Figure size 720x360 with 1 Axes>"
            ]
          },
          "metadata": {
            "tags": []
          }
        }
      ]
    },
    {
      "cell_type": "markdown",
      "metadata": {
        "colab_type": "text",
        "id": "i0PDEaecCxeR"
      },
      "source": [
        "Loans with higher amount have higher term"
      ]
    },
    {
      "cell_type": "markdown",
      "metadata": {
        "colab_type": "text",
        "id": "Ys8pu7tMjIzD"
      },
      "source": [
        "Converting features with 2 categories using label encoders to 1 and 0"
      ]
    },
    {
      "cell_type": "code",
      "metadata": {
        "colab_type": "code",
        "id": "PecbCBnVXAH_",
        "colab": {
          "base_uri": "https://localhost:8080/",
          "height": 151
        },
        "outputId": "0c1a2838-a4fa-4542-e26d-5a8b2a0546c7"
      },
      "source": [
        "#before encoding the features lets make sure that there are no nulls\n",
        "\n",
        "categories = cdf.to_pandas().select_dtypes('object').apply(pd.Series.nunique, axis=0)\n",
        "categories.where(categories==2).dropna()\n"
      ],
      "execution_count": null,
      "outputs": [
        {
          "output_type": "execute_result",
          "data": {
            "text/plain": [
              "term                   2.0\n",
              "loan_status            2.0\n",
              "pymnt_plan             2.0\n",
              "initial_list_status    2.0\n",
              "application_type       2.0\n",
              "hardship_flag          2.0\n",
              "disbursement_method    2.0\n",
              "dtype: float64"
            ]
          },
          "metadata": {
            "tags": []
          },
          "execution_count": 22
        }
      ]
    },
    {
      "cell_type": "code",
      "metadata": {
        "colab_type": "code",
        "id": "8aik5Nf0PpkI",
        "colab": {
          "base_uri": "https://localhost:8080/",
          "height": 150
        },
        "outputId": "5da5f705-590d-4a9f-94c6-6ccfef8a5d00"
      },
      "source": [
        "count = 0\n",
        "\n",
        "for col in cdf:\n",
        "    if cdf[col].dtype == 'object':\n",
        "        if len(list(cdf[col].unique())) <= 2:     \n",
        "            leb = LabelEncoder()\n",
        "            cdf[col] = leb.fit_transform(cdf.to_pandas()[col])\n",
        "            count += 1\n",
        "            print (col)\n",
        "            \n",
        "print('%d columns were label encoded.' % count)"
      ],
      "execution_count": null,
      "outputs": [
        {
          "output_type": "stream",
          "text": [
            "term\n",
            "loan_status\n",
            "pymnt_plan\n",
            "initial_list_status\n",
            "application_type\n",
            "hardship_flag\n",
            "disbursement_method\n",
            "7 columns were label encoded.\n"
          ],
          "name": "stdout"
        }
      ]
    },
    {
      "cell_type": "code",
      "metadata": {
        "colab_type": "code",
        "id": "5Dn-I6TbRt67",
        "colab": {
          "base_uri": "https://localhost:8080/",
          "height": 184
        },
        "outputId": "c3567bc0-9cfe-42fb-ca2a-de73fee21743"
      },
      "source": [
        "#We have still have categorical variables in these columns\n",
        "cdf.to_pandas().select_dtypes('object').apply(pd.Series.nunique, axis = 0)"
      ],
      "execution_count": null,
      "outputs": [
        {
          "output_type": "execute_result",
          "data": {
            "text/plain": [
              "grade                    7\n",
              "sub_grade               35\n",
              "emp_length              11\n",
              "home_ownership           6\n",
              "verification_status      3\n",
              "issue_d                139\n",
              "purpose                 14\n",
              "addr_state              51\n",
              "last_pymnt_d           135\n",
              "dtype: int64"
            ]
          },
          "metadata": {
            "tags": []
          },
          "execution_count": 56
        }
      ]
    },
    {
      "cell_type": "code",
      "metadata": {
        "colab_type": "code",
        "id": "lVKL1-sWSqpv",
        "colab": {}
      },
      "source": [
        "cdf['issue_d']=pd.to_datetime(cdf.to_pandas()['issue_d']).apply(lambda x: int(x.strftime('%Y')))\n",
        "cdf['last_pymnt_m'] = pd.to_datetime(cdf.to_pandas()['last_pymnt_d'].fillna('2018-08-01')).apply(lambda x: int(x.strftime('%m')))\n",
        "cdf['last_pymnt_y'] = pd.to_datetime(cdf.to_pandas()['last_pymnt_d'].fillna('2018-08-01')).apply(lambda x: int(x.strftime('%Y')))"
      ],
      "execution_count": null,
      "outputs": []
    },
    {
      "cell_type": "code",
      "metadata": {
        "colab_type": "code",
        "id": "VdietUSeWxfL",
        "colab": {
          "base_uri": "https://localhost:8080/",
          "height": 424
        },
        "outputId": "4625638c-eea6-4432-b5dd-77c81808e468"
      },
      "source": [
        "#lets drop the last_pymnt_d since we have already converted it\n",
        "cdf.drop(columns=['last_pymnt_d'],inplace=True)"
      ],
      "execution_count": null,
      "outputs": [
        {
          "output_type": "execute_result",
          "data": {
            "text/html": [
              "<div>\n",
              "<style scoped>\n",
              "    .dataframe tbody tr th:only-of-type {\n",
              "        vertical-align: middle;\n",
              "    }\n",
              "\n",
              "    .dataframe tbody tr th {\n",
              "        vertical-align: top;\n",
              "    }\n",
              "\n",
              "    .dataframe thead th {\n",
              "        text-align: right;\n",
              "    }\n",
              "</style>\n",
              "<table border=\"1\" class=\"dataframe\">\n",
              "  <thead>\n",
              "    <tr style=\"text-align: right;\">\n",
              "      <th></th>\n",
              "      <th>loan_amnt</th>\n",
              "      <th>funded_amnt</th>\n",
              "      <th>funded_amnt_inv</th>\n",
              "      <th>term</th>\n",
              "      <th>int_rate</th>\n",
              "      <th>installment</th>\n",
              "      <th>grade</th>\n",
              "      <th>sub_grade</th>\n",
              "      <th>emp_length</th>\n",
              "      <th>home_ownership</th>\n",
              "      <th>annual_inc</th>\n",
              "      <th>verification_status</th>\n",
              "      <th>issue_d</th>\n",
              "      <th>loan_status</th>\n",
              "      <th>pymnt_plan</th>\n",
              "      <th>purpose</th>\n",
              "      <th>addr_state</th>\n",
              "      <th>dti</th>\n",
              "      <th>delinq_2yrs</th>\n",
              "      <th>inq_last_6mths</th>\n",
              "      <th>open_acc</th>\n",
              "      <th>num_il_tl</th>\n",
              "      <th>num_op_rev_tl</th>\n",
              "      <th>num_rev_accts</th>\n",
              "      <th>num_rev_tl_bal_gt_0</th>\n",
              "      <th>num_sats</th>\n",
              "      <th>num_tl_120dpd_2m</th>\n",
              "      <th>num_tl_30dpd</th>\n",
              "      <th>num_tl_90g_dpd_24m</th>\n",
              "      <th>num_tl_op_past_12m</th>\n",
              "      <th>pct_tl_nvr_dlq</th>\n",
              "      <th>percent_bc_gt_75</th>\n",
              "      <th>pub_rec_bankruptcies</th>\n",
              "      <th>tax_liens</th>\n",
              "      <th>tot_hi_cred_lim</th>\n",
              "      <th>total_bal_ex_mort</th>\n",
              "      <th>total_bc_limit</th>\n",
              "      <th>total_il_high_credit_limit</th>\n",
              "      <th>hardship_flag</th>\n",
              "      <th>disbursement_method</th>\n",
              "      <th>last_pymnt_m</th>\n",
              "      <th>last_pymnt_y</th>\n",
              "    </tr>\n",
              "  </thead>\n",
              "  <tbody>\n",
              "    <tr>\n",
              "      <th>100</th>\n",
              "      <td>30000</td>\n",
              "      <td>30000</td>\n",
              "      <td>30000.0</td>\n",
              "      <td>0</td>\n",
              "      <td>22.35</td>\n",
              "      <td>1151.16</td>\n",
              "      <td>D</td>\n",
              "      <td>D5</td>\n",
              "      <td>5</td>\n",
              "      <td>MORTGAGE</td>\n",
              "      <td>100000.0</td>\n",
              "      <td>Source Verified</td>\n",
              "      <td>2018</td>\n",
              "      <td>1</td>\n",
              "      <td>0</td>\n",
              "      <td>debt_consolidation</td>\n",
              "      <td>CA</td>\n",
              "      <td>30.46</td>\n",
              "      <td>0.0</td>\n",
              "      <td>0.0</td>\n",
              "      <td>11.0</td>\n",
              "      <td>10.0</td>\n",
              "      <td>6.0</td>\n",
              "      <td>8.0</td>\n",
              "      <td>4.0</td>\n",
              "      <td>11.0</td>\n",
              "      <td>0.0</td>\n",
              "      <td>0.0</td>\n",
              "      <td>0.0</td>\n",
              "      <td>2.0</td>\n",
              "      <td>89.5</td>\n",
              "      <td>33.3</td>\n",
              "      <td>1.0</td>\n",
              "      <td>0.0</td>\n",
              "      <td>527120.0</td>\n",
              "      <td>98453.0</td>\n",
              "      <td>28600.0</td>\n",
              "      <td>101984.0</td>\n",
              "      <td>0</td>\n",
              "      <td>0</td>\n",
              "      <td>1</td>\n",
              "      <td>2019</td>\n",
              "    </tr>\n",
              "    <tr>\n",
              "      <th>152</th>\n",
              "      <td>40000</td>\n",
              "      <td>40000</td>\n",
              "      <td>40000.0</td>\n",
              "      <td>1</td>\n",
              "      <td>16.14</td>\n",
              "      <td>975.71</td>\n",
              "      <td>C</td>\n",
              "      <td>C4</td>\n",
              "      <td>0</td>\n",
              "      <td>MORTGAGE</td>\n",
              "      <td>45000.0</td>\n",
              "      <td>Verified</td>\n",
              "      <td>2018</td>\n",
              "      <td>1</td>\n",
              "      <td>0</td>\n",
              "      <td>credit_card</td>\n",
              "      <td>OH</td>\n",
              "      <td>50.53</td>\n",
              "      <td>0.0</td>\n",
              "      <td>0.0</td>\n",
              "      <td>18.0</td>\n",
              "      <td>26.0</td>\n",
              "      <td>9.0</td>\n",
              "      <td>10.0</td>\n",
              "      <td>9.0</td>\n",
              "      <td>18.0</td>\n",
              "      <td>0.0</td>\n",
              "      <td>0.0</td>\n",
              "      <td>0.0</td>\n",
              "      <td>4.0</td>\n",
              "      <td>100.0</td>\n",
              "      <td>42.9</td>\n",
              "      <td>0.0</td>\n",
              "      <td>0.0</td>\n",
              "      <td>344802.0</td>\n",
              "      <td>161720.0</td>\n",
              "      <td>45700.0</td>\n",
              "      <td>167965.0</td>\n",
              "      <td>0</td>\n",
              "      <td>0</td>\n",
              "      <td>2</td>\n",
              "      <td>2019</td>\n",
              "    </tr>\n",
              "    <tr>\n",
              "      <th>170</th>\n",
              "      <td>20000</td>\n",
              "      <td>20000</td>\n",
              "      <td>20000.0</td>\n",
              "      <td>0</td>\n",
              "      <td>7.56</td>\n",
              "      <td>622.68</td>\n",
              "      <td>A</td>\n",
              "      <td>A3</td>\n",
              "      <td>10</td>\n",
              "      <td>MORTGAGE</td>\n",
              "      <td>100000.0</td>\n",
              "      <td>Not Verified</td>\n",
              "      <td>2018</td>\n",
              "      <td>1</td>\n",
              "      <td>0</td>\n",
              "      <td>credit_card</td>\n",
              "      <td>WA</td>\n",
              "      <td>18.92</td>\n",
              "      <td>0.0</td>\n",
              "      <td>0.0</td>\n",
              "      <td>9.0</td>\n",
              "      <td>5.0</td>\n",
              "      <td>5.0</td>\n",
              "      <td>9.0</td>\n",
              "      <td>5.0</td>\n",
              "      <td>9.0</td>\n",
              "      <td>0.0</td>\n",
              "      <td>0.0</td>\n",
              "      <td>0.0</td>\n",
              "      <td>1.0</td>\n",
              "      <td>94.7</td>\n",
              "      <td>20.0</td>\n",
              "      <td>0.0</td>\n",
              "      <td>0.0</td>\n",
              "      <td>622183.0</td>\n",
              "      <td>71569.0</td>\n",
              "      <td>85100.0</td>\n",
              "      <td>74833.0</td>\n",
              "      <td>0</td>\n",
              "      <td>0</td>\n",
              "      <td>2</td>\n",
              "      <td>2019</td>\n",
              "    </tr>\n",
              "    <tr>\n",
              "      <th>186</th>\n",
              "      <td>4500</td>\n",
              "      <td>4500</td>\n",
              "      <td>4500.0</td>\n",
              "      <td>0</td>\n",
              "      <td>11.31</td>\n",
              "      <td>147.99</td>\n",
              "      <td>B</td>\n",
              "      <td>B3</td>\n",
              "      <td>10</td>\n",
              "      <td>RENT</td>\n",
              "      <td>38500.0</td>\n",
              "      <td>Not Verified</td>\n",
              "      <td>2018</td>\n",
              "      <td>1</td>\n",
              "      <td>0</td>\n",
              "      <td>credit_card</td>\n",
              "      <td>TX</td>\n",
              "      <td>4.64</td>\n",
              "      <td>0.0</td>\n",
              "      <td>0.0</td>\n",
              "      <td>12.0</td>\n",
              "      <td>10.0</td>\n",
              "      <td>11.0</td>\n",
              "      <td>15.0</td>\n",
              "      <td>5.0</td>\n",
              "      <td>12.0</td>\n",
              "      <td>0.0</td>\n",
              "      <td>0.0</td>\n",
              "      <td>0.0</td>\n",
              "      <td>4.0</td>\n",
              "      <td>91.7</td>\n",
              "      <td>0.0</td>\n",
              "      <td>0.0</td>\n",
              "      <td>0.0</td>\n",
              "      <td>53795.0</td>\n",
              "      <td>29137.0</td>\n",
              "      <td>15100.0</td>\n",
              "      <td>24595.0</td>\n",
              "      <td>0</td>\n",
              "      <td>0</td>\n",
              "      <td>2</td>\n",
              "      <td>2019</td>\n",
              "    </tr>\n",
              "    <tr>\n",
              "      <th>215</th>\n",
              "      <td>8425</td>\n",
              "      <td>8425</td>\n",
              "      <td>8425.0</td>\n",
              "      <td>0</td>\n",
              "      <td>27.27</td>\n",
              "      <td>345.18</td>\n",
              "      <td>E</td>\n",
              "      <td>E5</td>\n",
              "      <td>3</td>\n",
              "      <td>MORTGAGE</td>\n",
              "      <td>450000.0</td>\n",
              "      <td>Verified</td>\n",
              "      <td>2018</td>\n",
              "      <td>1</td>\n",
              "      <td>0</td>\n",
              "      <td>credit_card</td>\n",
              "      <td>MA</td>\n",
              "      <td>12.37</td>\n",
              "      <td>0.0</td>\n",
              "      <td>0.0</td>\n",
              "      <td>21.0</td>\n",
              "      <td>16.0</td>\n",
              "      <td>13.0</td>\n",
              "      <td>17.0</td>\n",
              "      <td>8.0</td>\n",
              "      <td>21.0</td>\n",
              "      <td>0.0</td>\n",
              "      <td>0.0</td>\n",
              "      <td>0.0</td>\n",
              "      <td>2.0</td>\n",
              "      <td>100.0</td>\n",
              "      <td>50.0</td>\n",
              "      <td>0.0</td>\n",
              "      <td>0.0</td>\n",
              "      <td>768304.0</td>\n",
              "      <td>189194.0</td>\n",
              "      <td>45800.0</td>\n",
              "      <td>189054.0</td>\n",
              "      <td>0</td>\n",
              "      <td>0</td>\n",
              "      <td>2</td>\n",
              "      <td>2019</td>\n",
              "    </tr>\n",
              "    <tr>\n",
              "      <th>...</th>\n",
              "      <td>...</td>\n",
              "      <td>...</td>\n",
              "      <td>...</td>\n",
              "      <td>...</td>\n",
              "      <td>...</td>\n",
              "      <td>...</td>\n",
              "      <td>...</td>\n",
              "      <td>...</td>\n",
              "      <td>...</td>\n",
              "      <td>...</td>\n",
              "      <td>...</td>\n",
              "      <td>...</td>\n",
              "      <td>...</td>\n",
              "      <td>...</td>\n",
              "      <td>...</td>\n",
              "      <td>...</td>\n",
              "      <td>...</td>\n",
              "      <td>...</td>\n",
              "      <td>...</td>\n",
              "      <td>...</td>\n",
              "      <td>...</td>\n",
              "      <td>...</td>\n",
              "      <td>...</td>\n",
              "      <td>...</td>\n",
              "      <td>...</td>\n",
              "      <td>...</td>\n",
              "      <td>...</td>\n",
              "      <td>...</td>\n",
              "      <td>...</td>\n",
              "      <td>...</td>\n",
              "      <td>...</td>\n",
              "      <td>...</td>\n",
              "      <td>...</td>\n",
              "      <td>...</td>\n",
              "      <td>...</td>\n",
              "      <td>...</td>\n",
              "      <td>...</td>\n",
              "      <td>...</td>\n",
              "      <td>...</td>\n",
              "      <td>...</td>\n",
              "      <td>...</td>\n",
              "      <td>...</td>\n",
              "    </tr>\n",
              "    <tr>\n",
              "      <th>2260655</th>\n",
              "      <td>18000</td>\n",
              "      <td>18000</td>\n",
              "      <td>18000.0</td>\n",
              "      <td>1</td>\n",
              "      <td>30.65</td>\n",
              "      <td>589.57</td>\n",
              "      <td>F</td>\n",
              "      <td>F4</td>\n",
              "      <td>10</td>\n",
              "      <td>MORTGAGE</td>\n",
              "      <td>77000.0</td>\n",
              "      <td>Verified</td>\n",
              "      <td>2017</td>\n",
              "      <td>0</td>\n",
              "      <td>0</td>\n",
              "      <td>debt_consolidation</td>\n",
              "      <td>TX</td>\n",
              "      <td>8.08</td>\n",
              "      <td>0.0</td>\n",
              "      <td>1.0</td>\n",
              "      <td>9.0</td>\n",
              "      <td>7.0</td>\n",
              "      <td>6.0</td>\n",
              "      <td>6.0</td>\n",
              "      <td>5.0</td>\n",
              "      <td>9.0</td>\n",
              "      <td>0.0</td>\n",
              "      <td>0.0</td>\n",
              "      <td>0.0</td>\n",
              "      <td>5.0</td>\n",
              "      <td>93.3</td>\n",
              "      <td>50.0</td>\n",
              "      <td>0.0</td>\n",
              "      <td>0.0</td>\n",
              "      <td>338546.0</td>\n",
              "      <td>18113.0</td>\n",
              "      <td>13800.0</td>\n",
              "      <td>7058.0</td>\n",
              "      <td>0</td>\n",
              "      <td>0</td>\n",
              "      <td>8</td>\n",
              "      <td>2018</td>\n",
              "    </tr>\n",
              "    <tr>\n",
              "      <th>2260656</th>\n",
              "      <td>17950</td>\n",
              "      <td>17950</td>\n",
              "      <td>17950.0</td>\n",
              "      <td>1</td>\n",
              "      <td>30.17</td>\n",
              "      <td>582.62</td>\n",
              "      <td>F</td>\n",
              "      <td>F3</td>\n",
              "      <td>10</td>\n",
              "      <td>MORTGAGE</td>\n",
              "      <td>53758.0</td>\n",
              "      <td>Source Verified</td>\n",
              "      <td>2017</td>\n",
              "      <td>1</td>\n",
              "      <td>0</td>\n",
              "      <td>debt_consolidation</td>\n",
              "      <td>IL</td>\n",
              "      <td>33.24</td>\n",
              "      <td>0.0</td>\n",
              "      <td>1.0</td>\n",
              "      <td>11.0</td>\n",
              "      <td>7.0</td>\n",
              "      <td>7.0</td>\n",
              "      <td>14.0</td>\n",
              "      <td>5.0</td>\n",
              "      <td>11.0</td>\n",
              "      <td>0.0</td>\n",
              "      <td>0.0</td>\n",
              "      <td>0.0</td>\n",
              "      <td>2.0</td>\n",
              "      <td>100.0</td>\n",
              "      <td>0.0</td>\n",
              "      <td>1.0</td>\n",
              "      <td>0.0</td>\n",
              "      <td>203667.0</td>\n",
              "      <td>36652.0</td>\n",
              "      <td>4000.0</td>\n",
              "      <td>63002.0</td>\n",
              "      <td>0</td>\n",
              "      <td>0</td>\n",
              "      <td>4</td>\n",
              "      <td>2018</td>\n",
              "    </tr>\n",
              "    <tr>\n",
              "      <th>2260658</th>\n",
              "      <td>15000</td>\n",
              "      <td>15000</td>\n",
              "      <td>15000.0</td>\n",
              "      <td>1</td>\n",
              "      <td>16.02</td>\n",
              "      <td>364.94</td>\n",
              "      <td>C</td>\n",
              "      <td>C5</td>\n",
              "      <td>0</td>\n",
              "      <td>RENT</td>\n",
              "      <td>85000.0</td>\n",
              "      <td>Verified</td>\n",
              "      <td>2017</td>\n",
              "      <td>1</td>\n",
              "      <td>0</td>\n",
              "      <td>debt_consolidation</td>\n",
              "      <td>NY</td>\n",
              "      <td>14.66</td>\n",
              "      <td>0.0</td>\n",
              "      <td>3.0</td>\n",
              "      <td>19.0</td>\n",
              "      <td>55.0</td>\n",
              "      <td>13.0</td>\n",
              "      <td>31.0</td>\n",
              "      <td>6.0</td>\n",
              "      <td>19.0</td>\n",
              "      <td>0.0</td>\n",
              "      <td>0.0</td>\n",
              "      <td>0.0</td>\n",
              "      <td>7.0</td>\n",
              "      <td>89.0</td>\n",
              "      <td>0.0</td>\n",
              "      <td>0.0</td>\n",
              "      <td>0.0</td>\n",
              "      <td>267274.0</td>\n",
              "      <td>239081.0</td>\n",
              "      <td>22900.0</td>\n",
              "      <td>239074.0</td>\n",
              "      <td>0</td>\n",
              "      <td>0</td>\n",
              "      <td>3</td>\n",
              "      <td>2018</td>\n",
              "    </tr>\n",
              "    <tr>\n",
              "      <th>2260661</th>\n",
              "      <td>21000</td>\n",
              "      <td>21000</td>\n",
              "      <td>21000.0</td>\n",
              "      <td>1</td>\n",
              "      <td>30.94</td>\n",
              "      <td>691.60</td>\n",
              "      <td>G</td>\n",
              "      <td>G4</td>\n",
              "      <td>0</td>\n",
              "      <td>MORTGAGE</td>\n",
              "      <td>90000.0</td>\n",
              "      <td>Verified</td>\n",
              "      <td>2017</td>\n",
              "      <td>0</td>\n",
              "      <td>0</td>\n",
              "      <td>medical</td>\n",
              "      <td>GA</td>\n",
              "      <td>26.44</td>\n",
              "      <td>1.0</td>\n",
              "      <td>2.0</td>\n",
              "      <td>8.0</td>\n",
              "      <td>17.0</td>\n",
              "      <td>4.0</td>\n",
              "      <td>10.0</td>\n",
              "      <td>4.0</td>\n",
              "      <td>8.0</td>\n",
              "      <td>0.0</td>\n",
              "      <td>0.0</td>\n",
              "      <td>0.0</td>\n",
              "      <td>3.0</td>\n",
              "      <td>86.2</td>\n",
              "      <td>50.0</td>\n",
              "      <td>0.0</td>\n",
              "      <td>0.0</td>\n",
              "      <td>328405.0</td>\n",
              "      <td>68445.0</td>\n",
              "      <td>1300.0</td>\n",
              "      <td>57142.0</td>\n",
              "      <td>0</td>\n",
              "      <td>0</td>\n",
              "      <td>2</td>\n",
              "      <td>2019</td>\n",
              "    </tr>\n",
              "    <tr>\n",
              "      <th>2260664</th>\n",
              "      <td>12000</td>\n",
              "      <td>12000</td>\n",
              "      <td>12000.0</td>\n",
              "      <td>1</td>\n",
              "      <td>25.82</td>\n",
              "      <td>358.01</td>\n",
              "      <td>E</td>\n",
              "      <td>E4</td>\n",
              "      <td>0</td>\n",
              "      <td>MORTGAGE</td>\n",
              "      <td>30000.0</td>\n",
              "      <td>Not Verified</td>\n",
              "      <td>2017</td>\n",
              "      <td>1</td>\n",
              "      <td>0</td>\n",
              "      <td>debt_consolidation</td>\n",
              "      <td>OR</td>\n",
              "      <td>19.28</td>\n",
              "      <td>3.0</td>\n",
              "      <td>1.0</td>\n",
              "      <td>10.0</td>\n",
              "      <td>4.0</td>\n",
              "      <td>7.0</td>\n",
              "      <td>18.0</td>\n",
              "      <td>4.0</td>\n",
              "      <td>10.0</td>\n",
              "      <td>0.0</td>\n",
              "      <td>0.0</td>\n",
              "      <td>0.0</td>\n",
              "      <td>1.0</td>\n",
              "      <td>76.9</td>\n",
              "      <td>50.0</td>\n",
              "      <td>0.0</td>\n",
              "      <td>0.0</td>\n",
              "      <td>382275.0</td>\n",
              "      <td>12928.0</td>\n",
              "      <td>11400.0</td>\n",
              "      <td>12125.0</td>\n",
              "      <td>0</td>\n",
              "      <td>0</td>\n",
              "      <td>8</td>\n",
              "      <td>2018</td>\n",
              "    </tr>\n",
              "  </tbody>\n",
              "</table>\n",
              "<p>1313351 rows × 82 columns</p>\n",
              "</div>"
            ],
            "text/plain": [
              "         loan_amnt  funded_amnt  ...  last_pymnt_m  last_pymnt_y\n",
              "100          30000        30000  ...             1          2019\n",
              "152          40000        40000  ...             2          2019\n",
              "170          20000        20000  ...             2          2019\n",
              "186           4500         4500  ...             2          2019\n",
              "215           8425         8425  ...             2          2019\n",
              "...            ...          ...  ...           ...           ...\n",
              "2260655      18000        18000  ...             8          2018\n",
              "2260656      17950        17950  ...             4          2018\n",
              "2260658      15000        15000  ...             3          2018\n",
              "2260661      21000        21000  ...             2          2019\n",
              "2260664      12000        12000  ...             8          2018\n",
              "\n",
              "[1313351 rows x 82 columns]"
            ]
          },
          "metadata": {
            "tags": []
          },
          "execution_count": 15
        }
      ]
    },
    {
      "cell_type": "markdown",
      "metadata": {
        "colab_type": "text",
        "id": "fKPP4r8gwZXr"
      },
      "source": [
        "Convert those categorical features from non-integer to integer"
      ]
    },
    {
      "cell_type": "code",
      "metadata": {
        "colab_type": "code",
        "id": "hKlP2ABdb6-b",
        "colab": {}
      },
      "source": [
        "cdf = pd.get_dummies(cdf.to_pandas(),drop_first=True)"
      ],
      "execution_count": null,
      "outputs": []
    },
    {
      "cell_type": "code",
      "metadata": {
        "colab_type": "code",
        "id": "RsXCbX_58ueD",
        "colab": {}
      },
      "source": [
        "cdf['mths_since_recent_inq'] = cdf['mths_since_recent_inq'].fillna(cdf['mths_since_recent_inq'].median())\n",
        "cdf['num_tl_120dpd_2m'] = cdf['num_tl_120dpd_2m'].fillna(cdf['num_tl_120dpd_2m'].median())\n",
        "cdf['mo_sin_old_il_acct'] = cdf['mo_sin_old_il_acct'].fillna(cdf['mo_sin_old_il_acct'].median())"
      ],
      "execution_count": null,
      "outputs": []
    },
    {
      "cell_type": "code",
      "metadata": {
        "colab_type": "code",
        "id": "uXAt2VXv-VNk",
        "colab": {}
      },
      "source": [
        "cdf.dropna(inplace=True)"
      ],
      "execution_count": null,
      "outputs": []
    },
    {
      "cell_type": "code",
      "metadata": {
        "id": "qKC5ZKEsQD9m",
        "colab_type": "code",
        "colab": {}
      },
      "source": [
        "cdf.to_csv('DatasetProcessed.csv')"
      ],
      "execution_count": null,
      "outputs": []
    },
    {
      "cell_type": "markdown",
      "metadata": {
        "colab_type": "text",
        "id": "N9sKOm6tw3mx"
      },
      "source": [
        "### Data Preparation for model\n",
        "coverting data to training and testing sets.\n",
        "Splitting dataset into 80-20 ratio"
      ]
    },
    {
      "cell_type": "code",
      "metadata": {
        "colab_type": "code",
        "id": "Yv8J1uPpi2Of",
        "colab": {}
      },
      "source": [
        "#split data into training and testing\n",
        "X_train, X_test, y_train, y_test = train_test_split(cdf.drop('loan_status',axis=1),cdf['loan_status'],test_size=0.20)"
      ],
      "execution_count": null,
      "outputs": []
    },
    {
      "cell_type": "markdown",
      "metadata": {
        "id": "0OLRnZBy7fE-",
        "colab_type": "text"
      },
      "source": [
        "Model Evaluation"
      ]
    },
    {
      "cell_type": "code",
      "metadata": {
        "colab_type": "code",
        "id": "LvxbI5nLnDGS",
        "colab": {}
      },
      "source": [
        "def modelScore(clf, X_train, y_train, X_test, y_test, train=True):\n",
        "    if train:\n",
        "        print(\"Train Result:\\n\")\n",
        "        print(\"Accuracy score: {0:.4f}\\n\".format(accuracy_score(y_train, clf.predict(X_train))))\n",
        "        print(\"Classification Report: \\n {}\\n\".format(classification_report(y_train, clf.predict(X_train))))\n",
        "        print(\"Confusion Matrix: \\n {}\\n\".format(confusion_matrix(y_train, clf.predict(X_train))))\n",
        "\n",
        "        res = cross_val_score(clf, X_train, y_train, cv=5, scoring='accuracy')\n",
        "        print(\"Average Accuracy: \\t {0:.4f}\".format(np.mean(res)))\n",
        "        \n",
        "    elif train==False:\n",
        "        print(\"Test Result:\\n\")        \n",
        "        print(\"Accuracy Score: {0:.5f}\\n\".format(accuracy_score(y_test, clf.predict(X_test))))\n",
        "        print(\"Classification Report: \\n {}\\n\".format(classification_report(y_test, clf.predict(X_test))))\n",
        "        print(\"Confusion Matrix: \\n {}\\n\".format(confusion_matrix(y_test, clf.predict(X_test))))    \n",
        "        "
      ],
      "execution_count": null,
      "outputs": []
    },
    {
      "cell_type": "code",
      "metadata": {
        "id": "zksodmYC_q_e",
        "colab_type": "code",
        "colab": {}
      },
      "source": [
        "def modelScoreXGB(xgb,y_test,y_pred):\n",
        "  cm = confusion_matrix(y_test, (y_pred>0.5))\n",
        "  print('The Confusion Matrix is: ','\\n', cm)\n",
        "\n",
        "  # Calculate the accuracy on test set\n",
        "  accuracy_test = (accuracy_score(y_test, (y_pred>0.5)))\n",
        "  print('The Accuracy on Test Set is: {}'.format(accuracy_test))\n",
        "  print(\"Classification Report: \\n {}\\n\".format(classification_report(y_test, (y_pred>0.5))))"
      ],
      "execution_count": null,
      "outputs": []
    },
    {
      "cell_type": "markdown",
      "metadata": {
        "id": "Jr2oQOWKjbTy",
        "colab_type": "text"
      },
      "source": [
        "## Model Designing"
      ]
    },
    {
      "cell_type": "code",
      "metadata": {
        "colab_type": "code",
        "id": "A0Gm_FwXxt4J",
        "colab": {}
      },
      "source": [
        "from sklearn.ensemble import RandomForestClassifier"
      ],
      "execution_count": null,
      "outputs": []
    },
    {
      "cell_type": "code",
      "metadata": {
        "colab_type": "code",
        "id": "V5ifYIqm5aon",
        "colab": {
          "base_uri": "https://localhost:8080/",
          "height": 33
        },
        "outputId": "46f5dcb7-3c0d-4844-9c42-2d364c372c2f"
      },
      "source": [
        "t = time.time()\n",
        "clf_rf = RandomForestClassifier(n_estimators=50, random_state=21,n_jobs=-1)\n",
        "clf_rf.fit(X_train, y_train)\n",
        "print('Time to train the model {}'.format(time.time()-t))"
      ],
      "execution_count": null,
      "outputs": [
        {
          "output_type": "stream",
          "text": [
            "Time to train the model 99.60076642036438\n"
          ],
          "name": "stdout"
        }
      ]
    },
    {
      "cell_type": "code",
      "metadata": {
        "colab_type": "code",
        "id": "_Ad6kvG3GGTb",
        "colab": {
          "base_uri": "https://localhost:8080/",
          "height": 368
        },
        "outputId": "7a8373a0-6da3-400a-f3c9-ffb0b0908ae4"
      },
      "source": [
        "t = time.time()\n",
        "modelScore(clf_rf,X_train,y_train,X_test,y_test)\n",
        "print('Time for Cross validation- {}'.format(time.time()-t))"
      ],
      "execution_count": null,
      "outputs": [
        {
          "output_type": "stream",
          "text": [
            "Train Result:\n",
            "\n",
            "Accuracy score: 1.0000\n",
            "\n",
            "Classification Report: \n",
            "               precision    recall  f1-score   support\n",
            "\n",
            "           0       1.00      1.00      1.00    205729\n",
            "           1       1.00      1.00      1.00    778448\n",
            "\n",
            "    accuracy                           1.00    984177\n",
            "   macro avg       1.00      1.00      1.00    984177\n",
            "weighted avg       1.00      1.00      1.00    984177\n",
            "\n",
            "\n",
            "Confusion Matrix: \n",
            " [[205726      3]\n",
            " [     0 778448]]\n",
            "\n",
            "Average Accuracy: \t 0.9961\n",
            "Time for Cross validation- 451.18876814842224\n"
          ],
          "name": "stdout"
        }
      ]
    },
    {
      "cell_type": "markdown",
      "metadata": {
        "id": "6gvzvjJULrQk",
        "colab_type": "text"
      },
      "source": [
        "We can see from the cross validation that the model is trained well. We see some consistent accuracy there which means that the model is well trained and can be used for prediction"
      ]
    },
    {
      "cell_type": "markdown",
      "metadata": {
        "id": "m1D0DWrnMtWn",
        "colab_type": "text"
      },
      "source": [
        "### Let's test the model with out of sample data"
      ]
    },
    {
      "cell_type": "code",
      "metadata": {
        "id": "kCsSSkaiMeYU",
        "colab_type": "code",
        "colab": {
          "base_uri": "https://localhost:8080/",
          "height": 334
        },
        "outputId": "62b59df4-6f2e-451d-839b-7c9fa5cae81f"
      },
      "source": [
        "modelScore(clf_rf,X_train,y_train,X_test,y_test,train=False)"
      ],
      "execution_count": null,
      "outputs": [
        {
          "output_type": "stream",
          "text": [
            "Test Result:\n",
            "\n",
            "Accuracy Score: 0.99633\n",
            "\n",
            "Classification Report: \n",
            "               precision    recall  f1-score   support\n",
            "\n",
            "           0       1.00      0.98      0.99     51336\n",
            "           1       1.00      1.00      1.00    194709\n",
            "\n",
            "    accuracy                           1.00    246045\n",
            "   macro avg       1.00      0.99      0.99    246045\n",
            "weighted avg       1.00      1.00      1.00    246045\n",
            "\n",
            "\n",
            "Confusion Matrix: \n",
            " [[ 50432    904]\n",
            " [     0 194709]]\n",
            "\n"
          ],
          "name": "stdout"
        }
      ]
    },
    {
      "cell_type": "code",
      "metadata": {
        "id": "eTdQi6AuM5Vt",
        "colab_type": "code",
        "colab": {
          "base_uri": "https://localhost:8080/",
          "height": 296
        },
        "outputId": "b46edca7-3fc1-419b-b3fa-c0136942d15a"
      },
      "source": [
        "features = X_train.columns.values\n",
        "impt = clf_rf.feature_importances_\n",
        "df = pd.DataFrame({'Feature': features, 'Importance': impt})\n",
        "df = df.sort_values('Importance', ascending=False)[:15]\n",
        "sns.barplot(x='Importance', y='Feature', data=df)\n"
      ],
      "execution_count": null,
      "outputs": [
        {
          "output_type": "execute_result",
          "data": {
            "text/plain": [
              "<matplotlib.axes._subplots.AxesSubplot at 0x7f742a9c8978>"
            ]
          },
          "metadata": {
            "tags": []
          },
          "execution_count": 41
        },
        {
          "output_type": "display_data",
          "data": {
            "image/png": "[encoded data removed]",
            "text/plain": [
              "<Figure size 432x288 with 1 Axes>"
            ]
          },
          "metadata": {
            "tags": []
          }
        }
      ]
    },
    {
      "cell_type": "markdown",
      "metadata": {
        "id": "TKXoeCkIU5mA",
        "colab_type": "text"
      },
      "source": [
        "The previous model is trained with full computational power i.e 8 cores.\n",
        "Lets see the training time and performace by changing the number of cores"
      ]
    },
    {
      "cell_type": "code",
      "metadata": {
        "id": "tx8zbhV_U2aH",
        "colab_type": "code",
        "colab": {
          "base_uri": "https://localhost:8080/",
          "height": 201
        },
        "outputId": "179b5d4a-7bb8-4b3b-da63-3b0e10e0851a"
      },
      "source": [
        "elapsed_time=[]\n",
        "\n",
        "for cores in [1,2,-1]:\n",
        "  t = time.time()\n",
        "  clf_rf = RandomForestClassifier(n_estimators=100, random_state=21,n_jobs=cores,verbose=1)\n",
        "  clf_rf.fit(X_train, y_train)\n",
        "  elapsed = time.time()-t\n",
        "  elapsed_time.append(elapsed)\n",
        "  print('Time to train the model {}'.format(elapsed))"
      ],
      "execution_count": null,
      "outputs": [
        {
          "output_type": "stream",
          "text": [
            "[Parallel(n_jobs=1)]: Using backend SequentialBackend with 1 concurrent workers.\n",
            "[Parallel(n_jobs=1)]: Done 100 out of 100 | elapsed: 10.5min finished\n"
          ],
          "name": "stderr"
        },
        {
          "output_type": "stream",
          "text": [
            "Time to train the model 632.7417728900909\n"
          ],
          "name": "stdout"
        },
        {
          "output_type": "stream",
          "text": [
            "[Parallel(n_jobs=2)]: Using backend ThreadingBackend with 2 concurrent workers.\n",
            "[Parallel(n_jobs=2)]: Done  46 tasks      | elapsed:  2.6min\n",
            "[Parallel(n_jobs=2)]: Done 100 out of 100 | elapsed:  5.5min finished\n"
          ],
          "name": "stderr"
        },
        {
          "output_type": "stream",
          "text": [
            "Time to train the model 332.4882299900055\n"
          ],
          "name": "stdout"
        },
        {
          "output_type": "stream",
          "text": [
            "[Parallel(n_jobs=-1)]: Using backend ThreadingBackend with 4 concurrent workers.\n",
            "[Parallel(n_jobs=-1)]: Done  42 tasks      | elapsed:  1.8min\n"
          ],
          "name": "stderr"
        },
        {
          "output_type": "stream",
          "text": [
            "Time to train the model 251.53646326065063\n"
          ],
          "name": "stdout"
        },
        {
          "output_type": "stream",
          "text": [
            "[Parallel(n_jobs=-1)]: Done 100 out of 100 | elapsed:  4.2min finished\n"
          ],
          "name": "stderr"
        }
      ]
    },
    {
      "cell_type": "code",
      "metadata": {
        "id": "IGZaUqciuTBs",
        "colab_type": "code",
        "colab": {
          "base_uri": "https://localhost:8080/",
          "height": 542
        },
        "outputId": "ea6dc634-b2ad-4e07-84cc-eb19ce106860"
      },
      "source": [
        "#Lets plot the graps for run time\n",
        "cores = [1,2,4]\n",
        "\n",
        "fig =go.Figure()\n",
        "fig.add_trace(go.Scatter(x=cores,y=elapsed_time,mode='lines+markers'))\n",
        "\n",
        "fig.update_layout(title='Random Forest training time vs number of cores',\n",
        "                  xaxis_title='Number of Threads',\n",
        "                  yaxis_title= 'Speed (seconds)')\n",
        "fig.show()"
      ],
      "execution_count": null,
      "outputs": [
        {
          "output_type": "display_data",
          "data": {
            "text/html": [
              "<html>\n",
              "<head><meta charset=\"utf-8\" /></head>\n",
              "<body>\n",
              "    <div>\n",
              "            <script src=\"https://cdnjs.cloudflare.com/ajax/libs/mathjax/2.7.5/MathJax.js?config=TeX-AMS-MML_SVG\"></script><script type=\"text/javascript\">if (window.MathJax) {MathJax.Hub.Config({SVG: {font: \"STIX-Web\"}});}</script>\n",
              "                <script type=\"text/javascript\">window.PlotlyConfig = {MathJaxConfig: 'local'};</script>\n",
              "        <script src=\"https://cdn.plot.ly/plotly-latest.min.js\"></script>    \n",
              "            <div id=\"c482df1a-03a8-4929-8574-280ac80f4356\" class=\"plotly-graph-div\" style=\"height:525px; width:100%;\"></div>\n",
              "            <script type=\"text/javascript\">\n",
              "                \n",
              "                    window.PLOTLYENV=window.PLOTLYENV || {};\n",
              "                    \n",
              "                if (document.getElementById(\"c482df1a-03a8-4929-8574-280ac80f4356\")) {\n",
              "                    Plotly.newPlot(\n",
              "                        'c482df1a-03a8-4929-8574-280ac80f4356',\n",
              "                        [{\"mode\": \"lines+markers\", \"type\": \"scatter\", \"x\": [1, 2, 4], \"y\": [632.7417728900909, 332.4882299900055, 251.53646326065063]}],\n",
              "                        {\"template\": {\"data\": {\"bar\": [{\"error_x\": {\"color\": \"#2a3f5f\"}, \"error_y\": {\"color\": \"#2a3f5f\"}, \"marker\": {\"line\": {\"color\": \"#E5ECF6\", \"width\": 0.5}}, \"type\": \"bar\"}], \"barpolar\": [{\"marker\": {\"line\": {\"color\": \"#E5ECF6\", \"width\": 0.5}}, \"type\": \"barpolar\"}], \"carpet\": [{\"aaxis\": {\"endlinecolor\": \"#2a3f5f\", \"gridcolor\": \"white\", \"linecolor\": \"white\", \"minorgridcolor\": \"white\", \"startlinecolor\": \"#2a3f5f\"}, \"baxis\": {\"endlinecolor\": \"#2a3f5f\", \"gridcolor\": \"white\", \"linecolor\": \"white\", \"minorgridcolor\": \"white\", \"startlinecolor\": \"#2a3f5f\"}, \"type\": \"carpet\"}], \"choropleth\": [{\"colorbar\": {\"outlinewidth\": 0, \"ticks\": \"\"}, \"type\": \"choropleth\"}], \"contour\": [{\"colorbar\": {\"outlinewidth\": 0, \"ticks\": \"\"}, \"colorscale\": [[0.0, \"#0d0887\"], [0.1111111111111111, \"#46039f\"], [0.2222222222222222, \"#7201a8\"], [0.3333333333333333, \"#9c179e\"], [0.4444444444444444, \"#bd3786\"], [0.5555555555555556, \"#d8576b\"], [0.6666666666666666, \"#ed7953\"], [0.7777777777777778, \"#fb9f3a\"], [0.8888888888888888, \"#fdca26\"], [1.0, \"#f0f921\"]], \"type\": \"contour\"}], \"contourcarpet\": [{\"colorbar\": {\"outlinewidth\": 0, \"ticks\": \"\"}, \"type\": \"contourcarpet\"}], \"heatmap\": [{\"colorbar\": {\"outlinewidth\": 0, \"ticks\": \"\"}, \"colorscale\": [[0.0, \"#0d0887\"], [0.1111111111111111, \"#46039f\"], [0.2222222222222222, \"#7201a8\"], [0.3333333333333333, \"#9c179e\"], [0.4444444444444444, \"#bd3786\"], [0.5555555555555556, \"#d8576b\"], [0.6666666666666666, \"#ed7953\"], [0.7777777777777778, \"#fb9f3a\"], [0.8888888888888888, \"#fdca26\"], [1.0, \"#f0f921\"]], \"type\": \"heatmap\"}], \"heatmapgl\": [{\"colorbar\": {\"outlinewidth\": 0, \"ticks\": \"\"}, \"colorscale\": [[0.0, \"#0d0887\"], [0.1111111111111111, \"#46039f\"], [0.2222222222222222, \"#7201a8\"], [0.3333333333333333, \"#9c179e\"], [0.4444444444444444, \"#bd3786\"], [0.5555555555555556, \"#d8576b\"], [0.6666666666666666, \"#ed7953\"], [0.7777777777777778, \"#fb9f3a\"], [0.8888888888888888, \"#fdca26\"], [1.0, \"#f0f921\"]], \"type\": \"heatmapgl\"}], \"histogram\": [{\"marker\": {\"colorbar\": {\"outlinewidth\": 0, \"ticks\": \"\"}}, \"type\": \"histogram\"}], \"histogram2d\": [{\"colorbar\": {\"outlinewidth\": 0, \"ticks\": \"\"}, \"colorscale\": [[0.0, \"#0d0887\"], [0.1111111111111111, \"#46039f\"], [0.2222222222222222, \"#7201a8\"], [0.3333333333333333, \"#9c179e\"], [0.4444444444444444, \"#bd3786\"], [0.5555555555555556, \"#d8576b\"], [0.6666666666666666, \"#ed7953\"], [0.7777777777777778, \"#fb9f3a\"], [0.8888888888888888, \"#fdca26\"], [1.0, \"#f0f921\"]], \"type\": \"histogram2d\"}], \"histogram2dcontour\": [{\"colorbar\": {\"outlinewidth\": 0, \"ticks\": \"\"}, \"colorscale\": [[0.0, \"#0d0887\"], [0.1111111111111111, \"#46039f\"], [0.2222222222222222, \"#7201a8\"], [0.3333333333333333, \"#9c179e\"], [0.4444444444444444, \"#bd3786\"], [0.5555555555555556, \"#d8576b\"], [0.6666666666666666, \"#ed7953\"], [0.7777777777777778, \"#fb9f3a\"], [0.8888888888888888, \"#fdca26\"], [1.0, \"#f0f921\"]], \"type\": \"histogram2dcontour\"}], \"mesh3d\": [{\"colorbar\": {\"outlinewidth\": 0, \"ticks\": \"\"}, \"type\": \"mesh3d\"}], \"parcoords\": [{\"line\": {\"colorbar\": {\"outlinewidth\": 0, \"ticks\": \"\"}}, \"type\": \"parcoords\"}], \"pie\": [{\"automargin\": true, \"type\": \"pie\"}], \"scatter\": [{\"marker\": {\"colorbar\": {\"outlinewidth\": 0, \"ticks\": \"\"}}, \"type\": \"scatter\"}], \"scatter3d\": [{\"line\": {\"colorbar\": {\"outlinewidth\": 0, \"ticks\": \"\"}}, \"marker\": {\"colorbar\": {\"outlinewidth\": 0, \"ticks\": \"\"}}, \"type\": \"scatter3d\"}], \"scattercarpet\": [{\"marker\": {\"colorbar\": {\"outlinewidth\": 0, \"ticks\": \"\"}}, \"type\": \"scattercarpet\"}], \"scattergeo\": [{\"marker\": {\"colorbar\": {\"outlinewidth\": 0, \"ticks\": \"\"}}, \"type\": \"scattergeo\"}], \"scattergl\": [{\"marker\": {\"colorbar\": {\"outlinewidth\": 0, \"ticks\": \"\"}}, \"type\": \"scattergl\"}], \"scattermapbox\": [{\"marker\": {\"colorbar\": {\"outlinewidth\": 0, \"ticks\": \"\"}}, \"type\": \"scattermapbox\"}], \"scatterpolar\": [{\"marker\": {\"colorbar\": {\"outlinewidth\": 0, \"ticks\": \"\"}}, \"type\": \"scatterpolar\"}], \"scatterpolargl\": [{\"marker\": {\"colorbar\": {\"outlinewidth\": 0, \"ticks\": \"\"}}, \"type\": \"scatterpolargl\"}], \"scatterternary\": [{\"marker\": {\"colorbar\": {\"outlinewidth\": 0, \"ticks\": \"\"}}, \"type\": \"scatterternary\"}], \"surface\": [{\"colorbar\": {\"outlinewidth\": 0, \"ticks\": \"\"}, \"colorscale\": [[0.0, \"#0d0887\"], [0.1111111111111111, \"#46039f\"], [0.2222222222222222, \"#7201a8\"], [0.3333333333333333, \"#9c179e\"], [0.4444444444444444, \"#bd3786\"], [0.5555555555555556, \"#d8576b\"], [0.6666666666666666, \"#ed7953\"], [0.7777777777777778, \"#fb9f3a\"], [0.8888888888888888, \"#fdca26\"], [1.0, \"#f0f921\"]], \"type\": \"surface\"}], \"table\": [{\"cells\": {\"fill\": {\"color\": \"#EBF0F8\"}, \"line\": {\"color\": \"white\"}}, \"header\": {\"fill\": {\"color\": \"#C8D4E3\"}, \"line\": {\"color\": \"white\"}}, \"type\": \"table\"}]}, \"layout\": {\"annotationdefaults\": {\"arrowcolor\": \"#2a3f5f\", \"arrowhead\": 0, \"arrowwidth\": 1}, \"coloraxis\": {\"colorbar\": {\"outlinewidth\": 0, \"ticks\": \"\"}}, \"colorscale\": {\"diverging\": [[0, \"#8e0152\"], [0.1, \"#c51b7d\"], [0.2, \"#de77ae\"], [0.3, \"#f1b6da\"], [0.4, \"#fde0ef\"], [0.5, \"#f7f7f7\"], [0.6, \"#e6f5d0\"], [0.7, \"#b8e186\"], [0.8, \"#7fbc41\"], [0.9, \"#4d9221\"], [1, \"#276419\"]], \"sequential\": [[0.0, \"#0d0887\"], [0.1111111111111111, \"#46039f\"], [0.2222222222222222, \"#7201a8\"], [0.3333333333333333, \"#9c179e\"], [0.4444444444444444, \"#bd3786\"], [0.5555555555555556, \"#d8576b\"], [0.6666666666666666, \"#ed7953\"], [0.7777777777777778, \"#fb9f3a\"], [0.8888888888888888, \"#fdca26\"], [1.0, \"#f0f921\"]], \"sequentialminus\": [[0.0, \"#0d0887\"], [0.1111111111111111, \"#46039f\"], [0.2222222222222222, \"#7201a8\"], [0.3333333333333333, \"#9c179e\"], [0.4444444444444444, \"#bd3786\"], [0.5555555555555556, \"#d8576b\"], [0.6666666666666666, \"#ed7953\"], [0.7777777777777778, \"#fb9f3a\"], [0.8888888888888888, \"#fdca26\"], [1.0, \"#f0f921\"]]}, \"colorway\": [\"#636efa\", \"#EF553B\", \"#00cc96\", \"#ab63fa\", \"#FFA15A\", \"#19d3f3\", \"#FF6692\", \"#B6E880\", \"#FF97FF\", \"#FECB52\"], \"font\": {\"color\": \"#2a3f5f\"}, \"geo\": {\"bgcolor\": \"white\", \"lakecolor\": \"white\", \"landcolor\": \"#E5ECF6\", \"showlakes\": true, \"showland\": true, \"subunitcolor\": \"white\"}, \"hoverlabel\": {\"align\": \"left\"}, \"hovermode\": \"closest\", \"mapbox\": {\"style\": \"light\"}, \"paper_bgcolor\": \"white\", \"plot_bgcolor\": \"#E5ECF6\", \"polar\": {\"angularaxis\": {\"gridcolor\": \"white\", \"linecolor\": \"white\", \"ticks\": \"\"}, \"bgcolor\": \"#E5ECF6\", \"radialaxis\": {\"gridcolor\": \"white\", \"linecolor\": \"white\", \"ticks\": \"\"}}, \"scene\": {\"xaxis\": {\"backgroundcolor\": \"#E5ECF6\", \"gridcolor\": \"white\", \"gridwidth\": 2, \"linecolor\": \"white\", \"showbackground\": true, \"ticks\": \"\", \"zerolinecolor\": \"white\"}, \"yaxis\": {\"backgroundcolor\": \"#E5ECF6\", \"gridcolor\": \"white\", \"gridwidth\": 2, \"linecolor\": \"white\", \"showbackground\": true, \"ticks\": \"\", \"zerolinecolor\": \"white\"}, \"zaxis\": {\"backgroundcolor\": \"#E5ECF6\", \"gridcolor\": \"white\", \"gridwidth\": 2, \"linecolor\": \"white\", \"showbackground\": true, \"ticks\": \"\", \"zerolinecolor\": \"white\"}}, \"shapedefaults\": {\"line\": {\"color\": \"#2a3f5f\"}}, \"ternary\": {\"aaxis\": {\"gridcolor\": \"white\", \"linecolor\": \"white\", \"ticks\": \"\"}, \"baxis\": {\"gridcolor\": \"white\", \"linecolor\": \"white\", \"ticks\": \"\"}, \"bgcolor\": \"#E5ECF6\", \"caxis\": {\"gridcolor\": \"white\", \"linecolor\": \"white\", \"ticks\": \"\"}}, \"title\": {\"x\": 0.05}, \"xaxis\": {\"automargin\": true, \"gridcolor\": \"white\", \"linecolor\": \"white\", \"ticks\": \"\", \"title\": {\"standoff\": 15}, \"zerolinecolor\": \"white\", \"zerolinewidth\": 2}, \"yaxis\": {\"automargin\": true, \"gridcolor\": \"white\", \"linecolor\": \"white\", \"ticks\": \"\", \"title\": {\"standoff\": 15}, \"zerolinecolor\": \"white\", \"zerolinewidth\": 2}}}, \"title\": {\"text\": \"Random Forest training time vs number of cores\"}, \"xaxis\": {\"title\": {\"text\": \"Number of Threads\"}}, \"yaxis\": {\"title\": {\"text\": \"Speed (seconds)\"}}},\n",
              "                        {\"responsive\": true}\n",
              "                    ).then(function(){\n",
              "                            \n",
              "var gd = document.getElementById('c482df1a-03a8-4929-8574-280ac80f4356');\n",
              "var x = new MutationObserver(function (mutations, observer) {{\n",
              "        var display = window.getComputedStyle(gd).display;\n",
              "        if (!display || display === 'none') {{\n",
              "            console.log([gd, 'removed!']);\n",
              "            Plotly.purge(gd);\n",
              "            observer.disconnect();\n",
              "        }}\n",
              "}});\n",
              "\n",
              "// Listen for the removal of the full notebook cells\n",
              "var notebookContainer = gd.closest('#notebook-container');\n",
              "if (notebookContainer) {{\n",
              "    x.observe(notebookContainer, {childList: true});\n",
              "}}\n",
              "\n",
              "// Listen for the clearing of the current output cell\n",
              "var outputEl = gd.closest('.output');\n",
              "if (outputEl) {{\n",
              "    x.observe(outputEl, {childList: true});\n",
              "}}\n",
              "\n",
              "                        })\n",
              "                };\n",
              "                \n",
              "            </script>\n",
              "        </div>\n",
              "</body>\n",
              "</html>"
            ]
          },
          "metadata": {
            "tags": []
          }
        }
      ]
    },
    {
      "cell_type": "markdown",
      "metadata": {
        "id": "h-cY2AgySAwi",
        "colab_type": "text"
      },
      "source": [
        "The catboost library implements gradient boosting algorithm on GPU memory\n",
        "To install catboost you can use pip install catboost"
      ]
    },
    {
      "cell_type": "code",
      "metadata": {
        "id": "8OenSn7YR_x5",
        "colab_type": "code",
        "colab": {}
      },
      "source": [
        "!pip install catboost"
      ],
      "execution_count": null,
      "outputs": []
    },
    {
      "cell_type": "code",
      "metadata": {
        "id": "afNm5Ut-SW74",
        "colab_type": "code",
        "colab": {}
      },
      "source": [
        "from catboost import CatBoostClassifier, Pool\n",
        "model = CatBoostClassifier(iterations=100,\n",
        "                           depth=15,\n",
        "                           learning_rate=0.01,\n",
        "                           loss_function='Logloss',\n",
        "                           verbose=True)"
      ],
      "execution_count": null,
      "outputs": []
    },
    {
      "cell_type": "code",
      "metadata": {
        "id": "hl4LQ7rtU6YJ",
        "colab_type": "code",
        "colab": {}
      },
      "source": [
        "t = time.time()\n",
        "model.fit(X_train,y_train)\n",
        "print('Elapsed time-{}'.format(time.time()-t))"
      ],
      "execution_count": null,
      "outputs": []
    },
    {
      "cell_type": "code",
      "metadata": {
        "id": "W0iRmrZWV0Mi",
        "colab_type": "code",
        "colab": {}
      },
      "source": [
        "#lets see how model performs during k-fold cross validation"
      ],
      "execution_count": null,
      "outputs": []
    },
    {
      "cell_type": "code",
      "metadata": {
        "id": "gN3qQ-DlVVSy",
        "colab_type": "code",
        "colab": {
          "base_uri": "https://localhost:8080/",
          "height": 1000
        },
        "outputId": "b4e3dea6-3984-4d1b-c488-83c4ca290205"
      },
      "source": [
        "t = time.time()\n",
        "modelScore(model,X_train,y_train,X_test,y_test)\n",
        "print('Elapsed time-{}'.format(time.time()-t))"
      ],
      "execution_count": null,
      "outputs": [
        {
          "output_type": "stream",
          "text": [
            "Train Result:\n",
            "\n",
            "Accuracy score: 0.9972\n",
            "\n",
            "Classification Report: \n",
            "               precision    recall  f1-score   support\n",
            "\n",
            "           0       1.00      0.99      0.99    205730\n",
            "           1       1.00      1.00      1.00    778447\n",
            "\n",
            "    accuracy                           1.00    984177\n",
            "   macro avg       1.00      0.99      1.00    984177\n",
            "weighted avg       1.00      1.00      1.00    984177\n",
            "\n",
            "\n",
            "Confusion Matrix: \n",
            " [[202968   2762]\n",
            " [     3 778444]]\n",
            "\n",
            "0:\tlearn: 0.6618609\ttotal: 3.8s\tremaining: 6m 16s\n",
            "1:\tlearn: 0.6317375\ttotal: 7.07s\tremaining: 5m 46s\n",
            "2:\tlearn: 0.6097457\ttotal: 10.4s\tremaining: 5m 35s\n",
            "3:\tlearn: 0.5823722\ttotal: 13.6s\tremaining: 5m 25s\n",
            "4:\tlearn: 0.5585187\ttotal: 16.8s\tremaining: 5m 18s\n",
            "5:\tlearn: 0.5405720\ttotal: 20s\tremaining: 5m 13s\n",
            "6:\tlearn: 0.5149200\ttotal: 23.2s\tremaining: 5m 8s\n",
            "7:\tlearn: 0.4955864\ttotal: 24.9s\tremaining: 4m 46s\n",
            "8:\tlearn: 0.4736492\ttotal: 28.1s\tremaining: 4m 44s\n",
            "9:\tlearn: 0.4565964\ttotal: 31.3s\tremaining: 4m 41s\n",
            "10:\tlearn: 0.4404045\ttotal: 34.5s\tremaining: 4m 38s\n",
            "11:\tlearn: 0.4267815\ttotal: 37.6s\tremaining: 4m 35s\n",
            "12:\tlearn: 0.4109234\ttotal: 40.8s\tremaining: 4m 33s\n",
            "13:\tlearn: 0.3980152\ttotal: 44s\tremaining: 4m 30s\n",
            "14:\tlearn: 0.3852955\ttotal: 47.2s\tremaining: 4m 27s\n",
            "15:\tlearn: 0.3700875\ttotal: 50.5s\tremaining: 4m 25s\n",
            "16:\tlearn: 0.3574750\ttotal: 53.7s\tremaining: 4m 22s\n",
            "17:\tlearn: 0.3434680\ttotal: 56.9s\tremaining: 4m 19s\n",
            "18:\tlearn: 0.3315850\ttotal: 1m\tremaining: 4m 15s\n",
            "19:\tlearn: 0.3187923\ttotal: 1m 3s\tremaining: 4m 12s\n",
            "20:\tlearn: 0.3090165\ttotal: 1m 6s\tremaining: 4m 10s\n",
            "21:\tlearn: 0.2994481\ttotal: 1m 9s\tremaining: 4m 7s\n",
            "22:\tlearn: 0.2899053\ttotal: 1m 12s\tremaining: 4m 4s\n",
            "23:\tlearn: 0.2793935\ttotal: 1m 16s\tremaining: 4m 1s\n",
            "24:\tlearn: 0.2721342\ttotal: 1m 19s\tremaining: 3m 58s\n",
            "25:\tlearn: 0.2610995\ttotal: 1m 22s\tremaining: 3m 55s\n",
            "26:\tlearn: 0.2499420\ttotal: 1m 25s\tremaining: 3m 52s\n",
            "27:\tlearn: 0.2393931\ttotal: 1m 29s\tremaining: 3m 49s\n",
            "28:\tlearn: 0.2290009\ttotal: 1m 32s\tremaining: 3m 46s\n",
            "29:\tlearn: 0.2196038\ttotal: 1m 35s\tremaining: 3m 43s\n",
            "30:\tlearn: 0.2134694\ttotal: 1m 38s\tremaining: 3m 39s\n",
            "31:\tlearn: 0.2038723\ttotal: 1m 42s\tremaining: 3m 36s\n",
            "32:\tlearn: 0.1952904\ttotal: 1m 45s\tremaining: 3m 33s\n",
            "33:\tlearn: 0.1875894\ttotal: 1m 48s\tremaining: 3m 30s\n",
            "34:\tlearn: 0.1797661\ttotal: 1m 51s\tremaining: 3m 27s\n",
            "35:\tlearn: 0.1722618\ttotal: 1m 54s\tremaining: 3m 24s\n",
            "36:\tlearn: 0.1651833\ttotal: 1m 58s\tremaining: 3m 21s\n",
            "37:\tlearn: 0.1589500\ttotal: 2m 1s\tremaining: 3m 17s\n",
            "38:\tlearn: 0.1526151\ttotal: 2m 4s\tremaining: 3m 14s\n",
            "39:\tlearn: 0.1464225\ttotal: 2m 7s\tremaining: 3m 11s\n",
            "40:\tlearn: 0.1404662\ttotal: 2m 10s\tremaining: 3m 8s\n",
            "41:\tlearn: 0.1349492\ttotal: 2m 14s\tremaining: 3m 5s\n",
            "42:\tlearn: 0.1301410\ttotal: 2m 17s\tremaining: 3m 1s\n",
            "43:\tlearn: 0.1254824\ttotal: 2m 20s\tremaining: 2m 58s\n",
            "44:\tlearn: 0.1206786\ttotal: 2m 23s\tremaining: 2m 55s\n",
            "45:\tlearn: 0.1162640\ttotal: 2m 26s\tremaining: 2m 52s\n",
            "46:\tlearn: 0.1121279\ttotal: 2m 30s\tremaining: 2m 49s\n",
            "47:\tlearn: 0.1085826\ttotal: 2m 33s\tremaining: 2m 45s\n",
            "48:\tlearn: 0.1047871\ttotal: 2m 36s\tremaining: 2m 42s\n",
            "49:\tlearn: 0.1011361\ttotal: 2m 39s\tremaining: 2m 39s\n",
            "50:\tlearn: 0.0978674\ttotal: 2m 42s\tremaining: 2m 36s\n",
            "51:\tlearn: 0.0946470\ttotal: 2m 46s\tremaining: 2m 33s\n",
            "52:\tlearn: 0.0911448\ttotal: 2m 49s\tremaining: 2m 30s\n",
            "53:\tlearn: 0.0880938\ttotal: 2m 52s\tremaining: 2m 26s\n",
            "54:\tlearn: 0.0851907\ttotal: 2m 55s\tremaining: 2m 23s\n",
            "55:\tlearn: 0.0826120\ttotal: 2m 58s\tremaining: 2m 20s\n",
            "56:\tlearn: 0.0801228\ttotal: 3m 2s\tremaining: 2m 17s\n",
            "57:\tlearn: 0.0775040\ttotal: 3m 5s\tremaining: 2m 14s\n",
            "58:\tlearn: 0.0751626\ttotal: 3m 8s\tremaining: 2m 10s\n",
            "59:\tlearn: 0.0728298\ttotal: 3m 11s\tremaining: 2m 7s\n",
            "60:\tlearn: 0.0704261\ttotal: 3m 14s\tremaining: 2m 4s\n",
            "61:\tlearn: 0.0684239\ttotal: 3m 18s\tremaining: 2m 1s\n",
            "62:\tlearn: 0.0663425\ttotal: 3m 21s\tremaining: 1m 58s\n",
            "63:\tlearn: 0.0645479\ttotal: 3m 24s\tremaining: 1m 55s\n",
            "64:\tlearn: 0.0626774\ttotal: 3m 27s\tremaining: 1m 51s\n",
            "65:\tlearn: 0.0610955\ttotal: 3m 30s\tremaining: 1m 48s\n",
            "66:\tlearn: 0.0594855\ttotal: 3m 34s\tremaining: 1m 45s\n",
            "67:\tlearn: 0.0578342\ttotal: 3m 37s\tremaining: 1m 42s\n",
            "68:\tlearn: 0.0562729\ttotal: 3m 40s\tremaining: 1m 39s\n",
            "69:\tlearn: 0.0549024\ttotal: 3m 43s\tremaining: 1m 35s\n",
            "70:\tlearn: 0.0534620\ttotal: 3m 46s\tremaining: 1m 32s\n",
            "71:\tlearn: 0.0523235\ttotal: 3m 49s\tremaining: 1m 29s\n",
            "72:\tlearn: 0.0510543\ttotal: 3m 52s\tremaining: 1m 26s\n",
            "73:\tlearn: 0.0498639\ttotal: 3m 56s\tremaining: 1m 22s\n",
            "74:\tlearn: 0.0487787\ttotal: 3m 59s\tremaining: 1m 19s\n",
            "75:\tlearn: 0.0475388\ttotal: 4m 2s\tremaining: 1m 16s\n",
            "76:\tlearn: 0.0464044\ttotal: 4m 5s\tremaining: 1m 13s\n",
            "77:\tlearn: 0.0454918\ttotal: 4m 8s\tremaining: 1m 10s\n",
            "78:\tlearn: 0.0444038\ttotal: 4m 12s\tremaining: 1m 7s\n",
            "79:\tlearn: 0.0435483\ttotal: 4m 15s\tremaining: 1m 3s\n",
            "80:\tlearn: 0.0425773\ttotal: 4m 18s\tremaining: 1m\n",
            "81:\tlearn: 0.0415627\ttotal: 4m 21s\tremaining: 57.4s\n",
            "82:\tlearn: 0.0406097\ttotal: 4m 24s\tremaining: 54.2s\n",
            "83:\tlearn: 0.0397538\ttotal: 4m 27s\tremaining: 51s\n",
            "84:\tlearn: 0.0390182\ttotal: 4m 31s\tremaining: 47.8s\n",
            "85:\tlearn: 0.0381926\ttotal: 4m 34s\tremaining: 44.7s\n",
            "86:\tlearn: 0.0374802\ttotal: 4m 37s\tremaining: 41.5s\n",
            "87:\tlearn: 0.0367901\ttotal: 4m 40s\tremaining: 38.3s\n",
            "88:\tlearn: 0.0361075\ttotal: 4m 43s\tremaining: 35.1s\n",
            "89:\tlearn: 0.0354789\ttotal: 4m 46s\tremaining: 31.9s\n",
            "90:\tlearn: 0.0349345\ttotal: 4m 50s\tremaining: 28.7s\n",
            "91:\tlearn: 0.0343627\ttotal: 4m 53s\tremaining: 25.5s\n",
            "92:\tlearn: 0.0337876\ttotal: 4m 56s\tremaining: 22.3s\n",
            "93:\tlearn: 0.0331250\ttotal: 4m 59s\tremaining: 19.1s\n",
            "94:\tlearn: 0.0325630\ttotal: 5m 2s\tremaining: 15.9s\n",
            "95:\tlearn: 0.0319567\ttotal: 5m 5s\tremaining: 12.7s\n",
            "96:\tlearn: 0.0314553\ttotal: 5m 9s\tremaining: 9.56s\n",
            "97:\tlearn: 0.0309922\ttotal: 5m 12s\tremaining: 6.37s\n",
            "98:\tlearn: 0.0305410\ttotal: 5m 15s\tremaining: 3.19s\n",
            "99:\tlearn: 0.0300104\ttotal: 5m 18s\tremaining: 0us\n",
            "0:\tlearn: 0.6647421\ttotal: 3.67s\tremaining: 6m 3s\n",
            "1:\tlearn: 0.6373559\ttotal: 6.98s\tremaining: 5m 41s\n",
            "2:\tlearn: 0.6105339\ttotal: 10.3s\tremaining: 5m 32s\n",
            "3:\tlearn: 0.5839053\ttotal: 13.6s\tremaining: 5m 25s\n",
            "4:\tlearn: 0.5645766\ttotal: 16.8s\tremaining: 5m 18s\n",
            "5:\tlearn: 0.5401393\ttotal: 20s\tremaining: 5m 12s\n",
            "6:\tlearn: 0.5163048\ttotal: 23.2s\tremaining: 5m 8s\n",
            "7:\tlearn: 0.4995989\ttotal: 26.4s\tremaining: 5m 3s\n",
            "8:\tlearn: 0.4819505\ttotal: 29.6s\tremaining: 4m 59s\n",
            "9:\tlearn: 0.4656975\ttotal: 32.9s\tremaining: 4m 56s\n",
            "10:\tlearn: 0.4477246\ttotal: 36.2s\tremaining: 4m 52s\n",
            "11:\tlearn: 0.4270580\ttotal: 39.4s\tremaining: 4m 49s\n",
            "12:\tlearn: 0.4103917\ttotal: 42.7s\tremaining: 4m 45s\n",
            "13:\tlearn: 0.3960292\ttotal: 46s\tremaining: 4m 42s\n",
            "14:\tlearn: 0.3823358\ttotal: 49.3s\tremaining: 4m 39s\n",
            "15:\tlearn: 0.3677387\ttotal: 52.5s\tremaining: 4m 35s\n",
            "16:\tlearn: 0.3551616\ttotal: 55.8s\tremaining: 4m 32s\n",
            "17:\tlearn: 0.3426946\ttotal: 59s\tremaining: 4m 28s\n",
            "18:\tlearn: 0.3299940\ttotal: 1m 2s\tremaining: 4m 25s\n",
            "19:\tlearn: 0.3192792\ttotal: 1m 5s\tremaining: 4m 22s\n",
            "20:\tlearn: 0.3086651\ttotal: 1m 8s\tremaining: 4m 18s\n",
            "21:\tlearn: 0.2979556\ttotal: 1m 12s\tremaining: 4m 15s\n",
            "22:\tlearn: 0.2884926\ttotal: 1m 15s\tremaining: 4m 12s\n",
            "23:\tlearn: 0.2811524\ttotal: 1m 15s\tremaining: 3m 59s\n",
            "24:\tlearn: 0.2692610\ttotal: 1m 18s\tremaining: 3m 56s\n",
            "25:\tlearn: 0.2605946\ttotal: 1m 22s\tremaining: 3m 53s\n",
            "26:\tlearn: 0.2503830\ttotal: 1m 25s\tremaining: 3m 51s\n",
            "27:\tlearn: 0.2395049\ttotal: 1m 28s\tremaining: 3m 48s\n",
            "28:\tlearn: 0.2323089\ttotal: 1m 32s\tremaining: 3m 45s\n",
            "29:\tlearn: 0.2250411\ttotal: 1m 35s\tremaining: 3m 42s\n",
            "30:\tlearn: 0.2153269\ttotal: 1m 38s\tremaining: 3m 39s\n",
            "31:\tlearn: 0.2073002\ttotal: 1m 42s\tremaining: 3m 36s\n",
            "32:\tlearn: 0.2018932\ttotal: 1m 45s\tremaining: 3m 33s\n",
            "33:\tlearn: 0.1945313\ttotal: 1m 48s\tremaining: 3m 30s\n",
            "34:\tlearn: 0.1867985\ttotal: 1m 51s\tremaining: 3m 27s\n",
            "35:\tlearn: 0.1817061\ttotal: 1m 55s\tremaining: 3m 24s\n",
            "36:\tlearn: 0.1742102\ttotal: 1m 58s\tremaining: 3m 21s\n",
            "37:\tlearn: 0.1671548\ttotal: 2m 1s\tremaining: 3m 18s\n",
            "38:\tlearn: 0.1601905\ttotal: 2m 4s\tremaining: 3m 15s\n",
            "39:\tlearn: 0.1540363\ttotal: 2m 8s\tremaining: 3m 12s\n",
            "40:\tlearn: 0.1480113\ttotal: 2m 11s\tremaining: 3m 9s\n",
            "41:\tlearn: 0.1422977\ttotal: 2m 14s\tremaining: 3m 6s\n",
            "42:\tlearn: 0.1371758\ttotal: 2m 18s\tremaining: 3m 3s\n",
            "43:\tlearn: 0.1321936\ttotal: 2m 21s\tremaining: 2m 59s\n",
            "44:\tlearn: 0.1274724\ttotal: 2m 24s\tremaining: 2m 56s\n",
            "45:\tlearn: 0.1231341\ttotal: 2m 27s\tremaining: 2m 53s\n",
            "46:\tlearn: 0.1188760\ttotal: 2m 31s\tremaining: 2m 50s\n",
            "47:\tlearn: 0.1141953\ttotal: 2m 34s\tremaining: 2m 47s\n",
            "48:\tlearn: 0.1097510\ttotal: 2m 37s\tremaining: 2m 44s\n",
            "49:\tlearn: 0.1056790\ttotal: 2m 41s\tremaining: 2m 41s\n",
            "50:\tlearn: 0.1018878\ttotal: 2m 44s\tremaining: 2m 37s\n",
            "51:\tlearn: 0.0982640\ttotal: 2m 47s\tremaining: 2m 34s\n",
            "52:\tlearn: 0.0952100\ttotal: 2m 50s\tremaining: 2m 31s\n",
            "53:\tlearn: 0.0918851\ttotal: 2m 54s\tremaining: 2m 28s\n",
            "54:\tlearn: 0.0889658\ttotal: 2m 57s\tremaining: 2m 25s\n",
            "55:\tlearn: 0.0859471\ttotal: 3m\tremaining: 2m 22s\n",
            "56:\tlearn: 0.0832739\ttotal: 3m 4s\tremaining: 2m 18s\n",
            "57:\tlearn: 0.0807065\ttotal: 3m 7s\tremaining: 2m 15s\n",
            "58:\tlearn: 0.0780393\ttotal: 3m 10s\tremaining: 2m 12s\n",
            "59:\tlearn: 0.0757179\ttotal: 3m 13s\tremaining: 2m 9s\n",
            "60:\tlearn: 0.0736836\ttotal: 3m 17s\tremaining: 2m 6s\n",
            "61:\tlearn: 0.0715544\ttotal: 3m 20s\tremaining: 2m 2s\n",
            "62:\tlearn: 0.0695272\ttotal: 3m 23s\tremaining: 1m 59s\n",
            "63:\tlearn: 0.0675578\ttotal: 3m 26s\tremaining: 1m 56s\n",
            "64:\tlearn: 0.0656015\ttotal: 3m 30s\tremaining: 1m 53s\n",
            "65:\tlearn: 0.0637724\ttotal: 3m 33s\tremaining: 1m 49s\n",
            "66:\tlearn: 0.0619817\ttotal: 3m 36s\tremaining: 1m 46s\n",
            "67:\tlearn: 0.0604272\ttotal: 3m 39s\tremaining: 1m 43s\n",
            "68:\tlearn: 0.0588149\ttotal: 3m 43s\tremaining: 1m 40s\n",
            "69:\tlearn: 0.0572971\ttotal: 3m 46s\tremaining: 1m 37s\n",
            "70:\tlearn: 0.0557233\ttotal: 3m 49s\tremaining: 1m 33s\n",
            "71:\tlearn: 0.0543214\ttotal: 3m 53s\tremaining: 1m 30s\n",
            "72:\tlearn: 0.0528939\ttotal: 3m 56s\tremaining: 1m 27s\n",
            "73:\tlearn: 0.0515788\ttotal: 3m 59s\tremaining: 1m 24s\n",
            "74:\tlearn: 0.0503938\ttotal: 4m 2s\tremaining: 1m 20s\n",
            "75:\tlearn: 0.0490667\ttotal: 4m 6s\tremaining: 1m 17s\n",
            "76:\tlearn: 0.0478303\ttotal: 4m 9s\tremaining: 1m 14s\n",
            "77:\tlearn: 0.0465986\ttotal: 4m 12s\tremaining: 1m 11s\n",
            "78:\tlearn: 0.0454217\ttotal: 4m 15s\tremaining: 1m 8s\n",
            "79:\tlearn: 0.0445717\ttotal: 4m 19s\tremaining: 1m 4s\n",
            "80:\tlearn: 0.0434952\ttotal: 4m 22s\tremaining: 1m 1s\n",
            "81:\tlearn: 0.0425257\ttotal: 4m 25s\tremaining: 58.3s\n",
            "82:\tlearn: 0.0415413\ttotal: 4m 28s\tremaining: 55.1s\n",
            "83:\tlearn: 0.0406040\ttotal: 4m 32s\tremaining: 51.8s\n",
            "84:\tlearn: 0.0397544\ttotal: 4m 35s\tremaining: 48.6s\n",
            "85:\tlearn: 0.0390416\ttotal: 4m 38s\tremaining: 45.4s\n",
            "86:\tlearn: 0.0382362\ttotal: 4m 41s\tremaining: 42.1s\n",
            "87:\tlearn: 0.0374688\ttotal: 4m 45s\tremaining: 38.9s\n",
            "88:\tlearn: 0.0367122\ttotal: 4m 48s\tremaining: 35.7s\n",
            "89:\tlearn: 0.0360222\ttotal: 4m 51s\tremaining: 32.4s\n",
            "90:\tlearn: 0.0353795\ttotal: 4m 54s\tremaining: 29.2s\n",
            "91:\tlearn: 0.0347734\ttotal: 4m 58s\tremaining: 25.9s\n",
            "92:\tlearn: 0.0340290\ttotal: 5m 1s\tremaining: 22.7s\n",
            "93:\tlearn: 0.0333605\ttotal: 5m 4s\tremaining: 19.5s\n",
            "94:\tlearn: 0.0328481\ttotal: 5m 8s\tremaining: 16.2s\n",
            "95:\tlearn: 0.0323377\ttotal: 5m 11s\tremaining: 13s\n",
            "96:\tlearn: 0.0318709\ttotal: 5m 14s\tremaining: 9.73s\n",
            "97:\tlearn: 0.0313380\ttotal: 5m 17s\tremaining: 6.49s\n",
            "98:\tlearn: 0.0307982\ttotal: 5m 21s\tremaining: 3.24s\n",
            "99:\tlearn: 0.0303648\ttotal: 5m 24s\tremaining: 0us\n",
            "0:\tlearn: 0.6610035\ttotal: 3.64s\tremaining: 6m\n",
            "1:\tlearn: 0.6316454\ttotal: 6.95s\tremaining: 5m 40s\n",
            "2:\tlearn: 0.6012001\ttotal: 10.2s\tremaining: 5m 30s\n",
            "3:\tlearn: 0.5733231\ttotal: 13.4s\tremaining: 5m 22s\n",
            "4:\tlearn: 0.5471537\ttotal: 16.7s\tremaining: 5m 16s\n",
            "5:\tlearn: 0.5271621\ttotal: 19.9s\tremaining: 5m 11s\n",
            "6:\tlearn: 0.5105494\ttotal: 23.1s\tremaining: 5m 6s\n",
            "7:\tlearn: 0.4893265\ttotal: 26.3s\tremaining: 5m 2s\n",
            "8:\tlearn: 0.4713590\ttotal: 29.5s\tremaining: 4m 58s\n",
            "9:\tlearn: 0.4539666\ttotal: 32.7s\tremaining: 4m 54s\n",
            "10:\tlearn: 0.4384801\ttotal: 35.8s\tremaining: 4m 49s\n",
            "11:\tlearn: 0.4230902\ttotal: 39s\tremaining: 4m 46s\n",
            "12:\tlearn: 0.4064048\ttotal: 40.2s\tremaining: 4m 28s\n",
            "13:\tlearn: 0.3931276\ttotal: 43.4s\tremaining: 4m 26s\n",
            "14:\tlearn: 0.3806621\ttotal: 46.7s\tremaining: 4m 24s\n",
            "15:\tlearn: 0.3628601\ttotal: 49.9s\tremaining: 4m 22s\n",
            "16:\tlearn: 0.3483079\ttotal: 53.1s\tremaining: 4m 19s\n",
            "17:\tlearn: 0.3324188\ttotal: 56.4s\tremaining: 4m 16s\n",
            "18:\tlearn: 0.3231241\ttotal: 59.6s\tremaining: 4m 14s\n",
            "19:\tlearn: 0.3118598\ttotal: 1m 2s\tremaining: 4m 11s\n",
            "20:\tlearn: 0.3010538\ttotal: 1m 6s\tremaining: 4m 8s\n",
            "21:\tlearn: 0.2876611\ttotal: 1m 9s\tremaining: 4m 5s\n",
            "22:\tlearn: 0.2781147\ttotal: 1m 12s\tremaining: 4m 3s\n",
            "23:\tlearn: 0.2694582\ttotal: 1m 15s\tremaining: 4m\n",
            "24:\tlearn: 0.2620020\ttotal: 1m 19s\tremaining: 3m 57s\n",
            "25:\tlearn: 0.2502435\ttotal: 1m 22s\tremaining: 3m 54s\n",
            "26:\tlearn: 0.2437859\ttotal: 1m 25s\tremaining: 3m 51s\n",
            "27:\tlearn: 0.2333662\ttotal: 1m 28s\tremaining: 3m 48s\n",
            "28:\tlearn: 0.2237943\ttotal: 1m 31s\tremaining: 3m 45s\n",
            "29:\tlearn: 0.2165946\ttotal: 1m 35s\tremaining: 3m 42s\n",
            "30:\tlearn: 0.2096848\ttotal: 1m 38s\tremaining: 3m 39s\n",
            "31:\tlearn: 0.2008407\ttotal: 1m 41s\tremaining: 3m 35s\n",
            "32:\tlearn: 0.1923137\ttotal: 1m 44s\tremaining: 3m 32s\n",
            "33:\tlearn: 0.1846192\ttotal: 1m 48s\tremaining: 3m 29s\n",
            "34:\tlearn: 0.1766703\ttotal: 1m 51s\tremaining: 3m 26s\n",
            "35:\tlearn: 0.1692882\ttotal: 1m 54s\tremaining: 3m 23s\n",
            "36:\tlearn: 0.1623254\ttotal: 1m 57s\tremaining: 3m 20s\n",
            "37:\tlearn: 0.1560191\ttotal: 2m\tremaining: 3m 17s\n",
            "38:\tlearn: 0.1496461\ttotal: 2m 4s\tremaining: 3m 14s\n",
            "39:\tlearn: 0.1433290\ttotal: 2m 7s\tremaining: 3m 11s\n",
            "40:\tlearn: 0.1377852\ttotal: 2m 10s\tremaining: 3m 8s\n",
            "41:\tlearn: 0.1327849\ttotal: 2m 13s\tremaining: 3m 4s\n",
            "42:\tlearn: 0.1274752\ttotal: 2m 17s\tremaining: 3m 1s\n",
            "43:\tlearn: 0.1227174\ttotal: 2m 20s\tremaining: 2m 58s\n",
            "44:\tlearn: 0.1187756\ttotal: 2m 23s\tremaining: 2m 55s\n",
            "45:\tlearn: 0.1143256\ttotal: 2m 26s\tremaining: 2m 52s\n",
            "46:\tlearn: 0.1105305\ttotal: 2m 30s\tremaining: 2m 49s\n",
            "47:\tlearn: 0.1068380\ttotal: 2m 33s\tremaining: 2m 46s\n",
            "48:\tlearn: 0.1029940\ttotal: 2m 36s\tremaining: 2m 42s\n",
            "49:\tlearn: 0.0993289\ttotal: 2m 39s\tremaining: 2m 39s\n",
            "50:\tlearn: 0.0958470\ttotal: 2m 43s\tremaining: 2m 36s\n",
            "51:\tlearn: 0.0927333\ttotal: 2m 46s\tremaining: 2m 33s\n",
            "52:\tlearn: 0.0895661\ttotal: 2m 49s\tremaining: 2m 30s\n",
            "53:\tlearn: 0.0865855\ttotal: 2m 52s\tremaining: 2m 27s\n",
            "54:\tlearn: 0.0837842\ttotal: 2m 55s\tremaining: 2m 23s\n",
            "55:\tlearn: 0.0814245\ttotal: 2m 59s\tremaining: 2m 20s\n",
            "56:\tlearn: 0.0791165\ttotal: 3m 2s\tremaining: 2m 17s\n",
            "57:\tlearn: 0.0764213\ttotal: 3m 5s\tremaining: 2m 14s\n",
            "58:\tlearn: 0.0741135\ttotal: 3m 8s\tremaining: 2m 11s\n",
            "59:\tlearn: 0.0718758\ttotal: 3m 12s\tremaining: 2m 8s\n",
            "60:\tlearn: 0.0694780\ttotal: 3m 15s\tremaining: 2m 4s\n",
            "61:\tlearn: 0.0675698\ttotal: 3m 18s\tremaining: 2m 1s\n",
            "62:\tlearn: 0.0657119\ttotal: 3m 21s\tremaining: 1m 58s\n",
            "63:\tlearn: 0.0638893\ttotal: 3m 25s\tremaining: 1m 55s\n",
            "64:\tlearn: 0.0621943\ttotal: 3m 28s\tremaining: 1m 52s\n",
            "65:\tlearn: 0.0603495\ttotal: 3m 31s\tremaining: 1m 48s\n",
            "66:\tlearn: 0.0586533\ttotal: 3m 34s\tremaining: 1m 45s\n",
            "67:\tlearn: 0.0572761\ttotal: 3m 37s\tremaining: 1m 42s\n",
            "68:\tlearn: 0.0557965\ttotal: 3m 41s\tremaining: 1m 39s\n",
            "69:\tlearn: 0.0545219\ttotal: 3m 44s\tremaining: 1m 36s\n",
            "70:\tlearn: 0.0530238\ttotal: 3m 47s\tremaining: 1m 32s\n",
            "71:\tlearn: 0.0518988\ttotal: 3m 50s\tremaining: 1m 29s\n",
            "72:\tlearn: 0.0508005\ttotal: 3m 53s\tremaining: 1m 26s\n",
            "73:\tlearn: 0.0495055\ttotal: 3m 57s\tremaining: 1m 23s\n",
            "74:\tlearn: 0.0481834\ttotal: 4m\tremaining: 1m 20s\n",
            "75:\tlearn: 0.0470659\ttotal: 4m 3s\tremaining: 1m 16s\n",
            "76:\tlearn: 0.0459425\ttotal: 4m 6s\tremaining: 1m 13s\n",
            "77:\tlearn: 0.0450225\ttotal: 4m 10s\tremaining: 1m 10s\n",
            "78:\tlearn: 0.0439791\ttotal: 4m 13s\tremaining: 1m 7s\n",
            "79:\tlearn: 0.0429742\ttotal: 4m 16s\tremaining: 1m 4s\n",
            "80:\tlearn: 0.0420595\ttotal: 4m 19s\tremaining: 1m\n",
            "81:\tlearn: 0.0411439\ttotal: 4m 22s\tremaining: 57.7s\n",
            "82:\tlearn: 0.0403562\ttotal: 4m 26s\tremaining: 54.5s\n",
            "83:\tlearn: 0.0395063\ttotal: 4m 29s\tremaining: 51.3s\n",
            "84:\tlearn: 0.0386836\ttotal: 4m 32s\tremaining: 48.1s\n",
            "85:\tlearn: 0.0379948\ttotal: 4m 35s\tremaining: 44.9s\n",
            "86:\tlearn: 0.0373432\ttotal: 4m 38s\tremaining: 41.7s\n",
            "87:\tlearn: 0.0366967\ttotal: 4m 42s\tremaining: 38.5s\n",
            "88:\tlearn: 0.0359396\ttotal: 4m 45s\tremaining: 35.3s\n",
            "89:\tlearn: 0.0351739\ttotal: 4m 48s\tremaining: 32.1s\n",
            "90:\tlearn: 0.0345091\ttotal: 4m 51s\tremaining: 28.9s\n",
            "91:\tlearn: 0.0339407\ttotal: 4m 55s\tremaining: 25.7s\n",
            "92:\tlearn: 0.0332351\ttotal: 4m 58s\tremaining: 22.5s\n",
            "93:\tlearn: 0.0326630\ttotal: 5m 1s\tremaining: 19.2s\n",
            "94:\tlearn: 0.0320440\ttotal: 5m 4s\tremaining: 16s\n",
            "95:\tlearn: 0.0314684\ttotal: 5m 7s\tremaining: 12.8s\n",
            "96:\tlearn: 0.0309150\ttotal: 5m 11s\tremaining: 9.63s\n",
            "97:\tlearn: 0.0303942\ttotal: 5m 14s\tremaining: 6.42s\n",
            "98:\tlearn: 0.0299646\ttotal: 5m 17s\tremaining: 3.21s\n",
            "99:\tlearn: 0.0294328\ttotal: 5m 20s\tremaining: 0us\n",
            "0:\tlearn: 0.6612115\ttotal: 3.62s\tremaining: 5m 58s\n",
            "1:\tlearn: 0.6304358\ttotal: 6.88s\tremaining: 5m 36s\n",
            "2:\tlearn: 0.6046054\ttotal: 10.1s\tremaining: 5m 27s\n",
            "3:\tlearn: 0.5788219\ttotal: 13.3s\tremaining: 5m 19s\n",
            "4:\tlearn: 0.5520769\ttotal: 16.6s\tremaining: 5m 15s\n",
            "5:\tlearn: 0.5316405\ttotal: 19.9s\tremaining: 5m 11s\n",
            "6:\tlearn: 0.5135263\ttotal: 23.1s\tremaining: 5m 6s\n",
            "7:\tlearn: 0.4957682\ttotal: 26.3s\tremaining: 5m 2s\n",
            "8:\tlearn: 0.4770423\ttotal: 29.5s\tremaining: 4m 58s\n",
            "9:\tlearn: 0.4582095\ttotal: 32.7s\tremaining: 4m 54s\n",
            "10:\tlearn: 0.4392771\ttotal: 36s\tremaining: 4m 51s\n",
            "11:\tlearn: 0.4237240\ttotal: 39.1s\tremaining: 4m 46s\n",
            "12:\tlearn: 0.4080197\ttotal: 42.3s\tremaining: 4m 42s\n",
            "13:\tlearn: 0.3928232\ttotal: 45.5s\tremaining: 4m 39s\n",
            "14:\tlearn: 0.3785992\ttotal: 48.7s\tremaining: 4m 35s\n",
            "15:\tlearn: 0.3615247\ttotal: 51.9s\tremaining: 4m 32s\n",
            "16:\tlearn: 0.3488023\ttotal: 55.1s\tremaining: 4m 28s\n",
            "17:\tlearn: 0.3359538\ttotal: 58.2s\tremaining: 4m 25s\n",
            "18:\tlearn: 0.3222663\ttotal: 1m 1s\tremaining: 4m 22s\n",
            "19:\tlearn: 0.3114155\ttotal: 1m 4s\tremaining: 4m 18s\n",
            "20:\tlearn: 0.3013049\ttotal: 1m 7s\tremaining: 4m 15s\n",
            "21:\tlearn: 0.2902193\ttotal: 1m 11s\tremaining: 4m 11s\n",
            "22:\tlearn: 0.2803110\ttotal: 1m 14s\tremaining: 4m 8s\n",
            "23:\tlearn: 0.2708052\ttotal: 1m 17s\tremaining: 4m 5s\n",
            "24:\tlearn: 0.2592963\ttotal: 1m 20s\tremaining: 4m 1s\n",
            "25:\tlearn: 0.2485351\ttotal: 1m 23s\tremaining: 3m 58s\n",
            "26:\tlearn: 0.2399234\ttotal: 1m 27s\tremaining: 3m 55s\n",
            "27:\tlearn: 0.2322528\ttotal: 1m 30s\tremaining: 3m 52s\n",
            "28:\tlearn: 0.2249308\ttotal: 1m 33s\tremaining: 3m 48s\n",
            "29:\tlearn: 0.2170714\ttotal: 1m 36s\tremaining: 3m 45s\n",
            "30:\tlearn: 0.2098317\ttotal: 1m 39s\tremaining: 3m 42s\n",
            "31:\tlearn: 0.2035585\ttotal: 1m 43s\tremaining: 3m 39s\n",
            "32:\tlearn: 0.1970699\ttotal: 1m 46s\tremaining: 3m 35s\n",
            "33:\tlearn: 0.1911235\ttotal: 1m 49s\tremaining: 3m 32s\n",
            "34:\tlearn: 0.1846273\ttotal: 1m 52s\tremaining: 3m 29s\n",
            "35:\tlearn: 0.1787696\ttotal: 1m 55s\tremaining: 3m 26s\n",
            "36:\tlearn: 0.1736033\ttotal: 1m 59s\tremaining: 3m 22s\n",
            "37:\tlearn: 0.1685043\ttotal: 2m 2s\tremaining: 3m 19s\n",
            "38:\tlearn: 0.1628155\ttotal: 2m 5s\tremaining: 3m 16s\n",
            "39:\tlearn: 0.1565743\ttotal: 2m 8s\tremaining: 3m 12s\n",
            "40:\tlearn: 0.1499513\ttotal: 2m 11s\tremaining: 3m 9s\n",
            "41:\tlearn: 0.1448243\ttotal: 2m 15s\tremaining: 3m 6s\n",
            "42:\tlearn: 0.1395407\ttotal: 2m 18s\tremaining: 3m 3s\n",
            "43:\tlearn: 0.1342113\ttotal: 2m 21s\tremaining: 3m\n",
            "44:\tlearn: 0.1294148\ttotal: 2m 24s\tremaining: 2m 56s\n",
            "45:\tlearn: 0.1242167\ttotal: 2m 27s\tremaining: 2m 53s\n",
            "46:\tlearn: 0.1193580\ttotal: 2m 31s\tremaining: 2m 50s\n",
            "47:\tlearn: 0.1156347\ttotal: 2m 34s\tremaining: 2m 47s\n",
            "48:\tlearn: 0.1118321\ttotal: 2m 37s\tremaining: 2m 43s\n",
            "49:\tlearn: 0.1080992\ttotal: 2m 40s\tremaining: 2m 40s\n",
            "50:\tlearn: 0.1044730\ttotal: 2m 43s\tremaining: 2m 37s\n",
            "51:\tlearn: 0.1007577\ttotal: 2m 47s\tremaining: 2m 34s\n",
            "52:\tlearn: 0.0976414\ttotal: 2m 50s\tremaining: 2m 30s\n",
            "53:\tlearn: 0.0947146\ttotal: 2m 53s\tremaining: 2m 27s\n",
            "54:\tlearn: 0.0916748\ttotal: 2m 56s\tremaining: 2m 24s\n",
            "55:\tlearn: 0.0889278\ttotal: 2m 59s\tremaining: 2m 21s\n",
            "56:\tlearn: 0.0861402\ttotal: 3m 2s\tremaining: 2m 18s\n",
            "57:\tlearn: 0.0836539\ttotal: 3m 6s\tremaining: 2m 14s\n",
            "58:\tlearn: 0.0811421\ttotal: 3m 9s\tremaining: 2m 11s\n",
            "59:\tlearn: 0.0783006\ttotal: 3m 12s\tremaining: 2m 8s\n",
            "60:\tlearn: 0.0761088\ttotal: 3m 15s\tremaining: 2m 5s\n",
            "61:\tlearn: 0.0739401\ttotal: 3m 18s\tremaining: 2m 1s\n",
            "62:\tlearn: 0.0718795\ttotal: 3m 22s\tremaining: 1m 58s\n",
            "63:\tlearn: 0.0695399\ttotal: 3m 25s\tremaining: 1m 55s\n",
            "64:\tlearn: 0.0674522\ttotal: 3m 28s\tremaining: 1m 52s\n",
            "65:\tlearn: 0.0656576\ttotal: 3m 31s\tremaining: 1m 49s\n",
            "66:\tlearn: 0.0635716\ttotal: 3m 34s\tremaining: 1m 45s\n",
            "67:\tlearn: 0.0618531\ttotal: 3m 38s\tremaining: 1m 42s\n",
            "68:\tlearn: 0.0599341\ttotal: 3m 41s\tremaining: 1m 39s\n",
            "69:\tlearn: 0.0583747\ttotal: 3m 44s\tremaining: 1m 36s\n",
            "70:\tlearn: 0.0568217\ttotal: 3m 47s\tremaining: 1m 32s\n",
            "71:\tlearn: 0.0554241\ttotal: 3m 50s\tremaining: 1m 29s\n",
            "72:\tlearn: 0.0540645\ttotal: 3m 54s\tremaining: 1m 26s\n",
            "73:\tlearn: 0.0528041\ttotal: 3m 57s\tremaining: 1m 23s\n",
            "74:\tlearn: 0.0515613\ttotal: 4m\tremaining: 1m 20s\n",
            "75:\tlearn: 0.0500178\ttotal: 4m 3s\tremaining: 1m 16s\n",
            "76:\tlearn: 0.0488201\ttotal: 4m 6s\tremaining: 1m 13s\n",
            "77:\tlearn: 0.0478069\ttotal: 4m 9s\tremaining: 1m 10s\n",
            "78:\tlearn: 0.0464711\ttotal: 4m 13s\tremaining: 1m 7s\n",
            "79:\tlearn: 0.0452803\ttotal: 4m 16s\tremaining: 1m 4s\n",
            "80:\tlearn: 0.0441319\ttotal: 4m 19s\tremaining: 1m\n",
            "81:\tlearn: 0.0428935\ttotal: 4m 22s\tremaining: 57.7s\n",
            "82:\tlearn: 0.0417255\ttotal: 4m 25s\tremaining: 54.5s\n",
            "83:\tlearn: 0.0407263\ttotal: 4m 29s\tremaining: 51.3s\n",
            "84:\tlearn: 0.0398282\ttotal: 4m 32s\tremaining: 48.1s\n",
            "85:\tlearn: 0.0390436\ttotal: 4m 35s\tremaining: 44.9s\n",
            "86:\tlearn: 0.0383150\ttotal: 4m 38s\tremaining: 41.7s\n",
            "87:\tlearn: 0.0375491\ttotal: 4m 42s\tremaining: 38.5s\n",
            "88:\tlearn: 0.0367536\ttotal: 4m 45s\tremaining: 35.3s\n",
            "89:\tlearn: 0.0361777\ttotal: 4m 48s\tremaining: 32s\n",
            "90:\tlearn: 0.0352708\ttotal: 4m 51s\tremaining: 28.8s\n",
            "91:\tlearn: 0.0347271\ttotal: 4m 54s\tremaining: 25.6s\n",
            "92:\tlearn: 0.0340171\ttotal: 4m 58s\tremaining: 22.4s\n",
            "93:\tlearn: 0.0334156\ttotal: 5m 1s\tremaining: 19.2s\n",
            "94:\tlearn: 0.0326891\ttotal: 5m 4s\tremaining: 16s\n",
            "95:\tlearn: 0.0320008\ttotal: 5m 7s\tremaining: 12.8s\n",
            "96:\tlearn: 0.0314626\ttotal: 5m 10s\tremaining: 9.61s\n",
            "97:\tlearn: 0.0309058\ttotal: 5m 14s\tremaining: 6.41s\n",
            "98:\tlearn: 0.0304113\ttotal: 5m 17s\tremaining: 3.2s\n",
            "99:\tlearn: 0.0299654\ttotal: 5m 20s\tremaining: 0us\n",
            "0:\tlearn: 0.6615022\ttotal: 3.67s\tremaining: 6m 3s\n",
            "1:\tlearn: 0.6319526\ttotal: 6.95s\tremaining: 5m 40s\n",
            "2:\tlearn: 0.6058887\ttotal: 10.1s\tremaining: 5m 27s\n",
            "3:\tlearn: 0.5798286\ttotal: 13.4s\tremaining: 5m 20s\n",
            "4:\tlearn: 0.5541224\ttotal: 16.6s\tremaining: 5m 16s\n",
            "5:\tlearn: 0.5335571\ttotal: 19.8s\tremaining: 5m 10s\n",
            "6:\tlearn: 0.5161035\ttotal: 23s\tremaining: 5m 5s\n",
            "7:\tlearn: 0.4979942\ttotal: 26.2s\tremaining: 5m 1s\n",
            "8:\tlearn: 0.4795285\ttotal: 29.4s\tremaining: 4m 57s\n",
            "9:\tlearn: 0.4590123\ttotal: 32.6s\tremaining: 4m 53s\n",
            "10:\tlearn: 0.4429656\ttotal: 35.8s\tremaining: 4m 49s\n",
            "11:\tlearn: 0.4290995\ttotal: 39s\tremaining: 4m 45s\n",
            "12:\tlearn: 0.4133083\ttotal: 42.2s\tremaining: 4m 42s\n",
            "13:\tlearn: 0.3996428\ttotal: 45.4s\tremaining: 4m 38s\n",
            "14:\tlearn: 0.3808601\ttotal: 48.6s\tremaining: 4m 35s\n",
            "15:\tlearn: 0.3646233\ttotal: 51.8s\tremaining: 4m 32s\n",
            "16:\tlearn: 0.3516394\ttotal: 55.1s\tremaining: 4m 28s\n",
            "17:\tlearn: 0.3390147\ttotal: 58.3s\tremaining: 4m 25s\n",
            "18:\tlearn: 0.3259648\ttotal: 1m 1s\tremaining: 4m 22s\n",
            "19:\tlearn: 0.3154167\ttotal: 1m 4s\tremaining: 4m 18s\n",
            "20:\tlearn: 0.3026577\ttotal: 1m 7s\tremaining: 4m 15s\n",
            "21:\tlearn: 0.2917586\ttotal: 1m 10s\tremaining: 4m 11s\n",
            "22:\tlearn: 0.2817692\ttotal: 1m 14s\tremaining: 4m 8s\n",
            "23:\tlearn: 0.2725980\ttotal: 1m 17s\tremaining: 4m 4s\n",
            "24:\tlearn: 0.2607392\ttotal: 1m 20s\tremaining: 4m 1s\n",
            "25:\tlearn: 0.2493846\ttotal: 1m 23s\tremaining: 3m 58s\n",
            "26:\tlearn: 0.2404088\ttotal: 1m 27s\tremaining: 3m 55s\n",
            "27:\tlearn: 0.2322738\ttotal: 1m 30s\tremaining: 3m 52s\n",
            "28:\tlearn: 0.2237873\ttotal: 1m 33s\tremaining: 3m 48s\n",
            "29:\tlearn: 0.2162111\ttotal: 1m 36s\tremaining: 3m 45s\n",
            "30:\tlearn: 0.2103451\ttotal: 1m 39s\tremaining: 3m 42s\n",
            "31:\tlearn: 0.2035077\ttotal: 1m 43s\tremaining: 3m 39s\n",
            "32:\tlearn: 0.1958186\ttotal: 1m 46s\tremaining: 3m 35s\n",
            "33:\tlearn: 0.1891145\ttotal: 1m 49s\tremaining: 3m 32s\n",
            "34:\tlearn: 0.1825704\ttotal: 1m 52s\tremaining: 3m 29s\n",
            "35:\tlearn: 0.1761499\ttotal: 1m 55s\tremaining: 3m 26s\n",
            "36:\tlearn: 0.1707901\ttotal: 1m 59s\tremaining: 3m 22s\n",
            "37:\tlearn: 0.1652098\ttotal: 2m 2s\tremaining: 3m 19s\n",
            "38:\tlearn: 0.1592987\ttotal: 2m 5s\tremaining: 3m 16s\n",
            "39:\tlearn: 0.1531957\ttotal: 2m 8s\tremaining: 3m 13s\n",
            "40:\tlearn: 0.1476718\ttotal: 2m 11s\tremaining: 3m 9s\n",
            "41:\tlearn: 0.1431768\ttotal: 2m 15s\tremaining: 3m 6s\n",
            "42:\tlearn: 0.1386365\ttotal: 2m 18s\tremaining: 3m 3s\n",
            "43:\tlearn: 0.1333341\ttotal: 2m 21s\tremaining: 2m 59s\n",
            "44:\tlearn: 0.1284030\ttotal: 2m 24s\tremaining: 2m 56s\n",
            "45:\tlearn: 0.1239988\ttotal: 2m 27s\tremaining: 2m 53s\n",
            "46:\tlearn: 0.1192920\ttotal: 2m 31s\tremaining: 2m 50s\n",
            "47:\tlearn: 0.1154954\ttotal: 2m 34s\tremaining: 2m 47s\n",
            "48:\tlearn: 0.1118090\ttotal: 2m 37s\tremaining: 2m 43s\n",
            "49:\tlearn: 0.1082769\ttotal: 2m 40s\tremaining: 2m 40s\n",
            "50:\tlearn: 0.1049396\ttotal: 2m 43s\tremaining: 2m 37s\n",
            "51:\tlearn: 0.1012709\ttotal: 2m 47s\tremaining: 2m 34s\n",
            "52:\tlearn: 0.0973596\ttotal: 2m 50s\tremaining: 2m 31s\n",
            "53:\tlearn: 0.0941937\ttotal: 2m 53s\tremaining: 2m 27s\n",
            "54:\tlearn: 0.0912369\ttotal: 2m 56s\tremaining: 2m 24s\n",
            "55:\tlearn: 0.0882788\ttotal: 2m 59s\tremaining: 2m 21s\n",
            "56:\tlearn: 0.0855598\ttotal: 3m 3s\tremaining: 2m 18s\n",
            "57:\tlearn: 0.0828944\ttotal: 3m 6s\tremaining: 2m 14s\n",
            "58:\tlearn: 0.0804110\ttotal: 3m 9s\tremaining: 2m 11s\n",
            "59:\tlearn: 0.0780738\ttotal: 3m 12s\tremaining: 2m 8s\n",
            "60:\tlearn: 0.0761078\ttotal: 3m 15s\tremaining: 2m 5s\n",
            "61:\tlearn: 0.0739053\ttotal: 3m 19s\tremaining: 2m 1s\n",
            "62:\tlearn: 0.0718440\ttotal: 3m 22s\tremaining: 1m 58s\n",
            "63:\tlearn: 0.0698680\ttotal: 3m 25s\tremaining: 1m 55s\n",
            "64:\tlearn: 0.0678976\ttotal: 3m 28s\tremaining: 1m 52s\n",
            "65:\tlearn: 0.0659518\ttotal: 3m 31s\tremaining: 1m 49s\n",
            "66:\tlearn: 0.0640529\ttotal: 3m 35s\tremaining: 1m 45s\n",
            "67:\tlearn: 0.0624055\ttotal: 3m 38s\tremaining: 1m 42s\n",
            "68:\tlearn: 0.0609486\ttotal: 3m 41s\tremaining: 1m 39s\n",
            "69:\tlearn: 0.0594110\ttotal: 3m 44s\tremaining: 1m 36s\n",
            "70:\tlearn: 0.0579126\ttotal: 3m 47s\tremaining: 1m 33s\n",
            "71:\tlearn: 0.0564390\ttotal: 3m 50s\tremaining: 1m 29s\n",
            "72:\tlearn: 0.0550053\ttotal: 3m 54s\tremaining: 1m 26s\n",
            "73:\tlearn: 0.0537393\ttotal: 3m 57s\tremaining: 1m 23s\n",
            "74:\tlearn: 0.0524862\ttotal: 4m\tremaining: 1m 20s\n",
            "75:\tlearn: 0.0512897\ttotal: 4m 3s\tremaining: 1m 16s\n",
            "76:\tlearn: 0.0497095\ttotal: 4m 7s\tremaining: 1m 13s\n",
            "77:\tlearn: 0.0485797\ttotal: 4m 10s\tremaining: 1m 10s\n",
            "78:\tlearn: 0.0475563\ttotal: 4m 13s\tremaining: 1m 7s\n",
            "79:\tlearn: 0.0463223\ttotal: 4m 16s\tremaining: 1m 4s\n",
            "80:\tlearn: 0.0454607\ttotal: 4m 19s\tremaining: 1m\n",
            "81:\tlearn: 0.0442468\ttotal: 4m 23s\tremaining: 57.7s\n",
            "82:\tlearn: 0.0430690\ttotal: 4m 26s\tremaining: 54.6s\n",
            "83:\tlearn: 0.0421433\ttotal: 4m 29s\tremaining: 51.3s\n",
            "84:\tlearn: 0.0410265\ttotal: 4m 32s\tremaining: 48.1s\n",
            "85:\tlearn: 0.0401447\ttotal: 4m 35s\tremaining: 44.9s\n",
            "86:\tlearn: 0.0391082\ttotal: 4m 39s\tremaining: 41.7s\n",
            "87:\tlearn: 0.0383013\ttotal: 4m 42s\tremaining: 38.5s\n",
            "88:\tlearn: 0.0376761\ttotal: 4m 45s\tremaining: 35.3s\n",
            "89:\tlearn: 0.0369915\ttotal: 4m 48s\tremaining: 32.1s\n",
            "90:\tlearn: 0.0361667\ttotal: 4m 51s\tremaining: 28.9s\n",
            "91:\tlearn: 0.0353314\ttotal: 4m 55s\tremaining: 25.7s\n",
            "92:\tlearn: 0.0346809\ttotal: 4m 58s\tremaining: 22.5s\n",
            "93:\tlearn: 0.0341840\ttotal: 5m 1s\tremaining: 19.2s\n",
            "94:\tlearn: 0.0334270\ttotal: 5m 4s\tremaining: 16s\n",
            "95:\tlearn: 0.0327180\ttotal: 5m 7s\tremaining: 12.8s\n",
            "96:\tlearn: 0.0321114\ttotal: 5m 11s\tremaining: 9.62s\n",
            "97:\tlearn: 0.0316313\ttotal: 5m 14s\tremaining: 6.41s\n",
            "98:\tlearn: 0.0312120\ttotal: 5m 17s\tremaining: 3.21s\n",
            "99:\tlearn: 0.0307594\ttotal: 5m 20s\tremaining: 0us\n",
            "Average Accuracy: \t 0.9969\n",
            "Elapsed time-1627.2118480205536\n"
          ],
          "name": "stdout"
        }
      ]
    },
    {
      "cell_type": "code",
      "metadata": {
        "id": "Z5W2SBKeWeDs",
        "colab_type": "code",
        "colab": {
          "base_uri": "https://localhost:8080/",
          "height": 334
        },
        "outputId": "acea3ad3-749f-4296-88b3-aef44e7dceca"
      },
      "source": [
        "modelScore(model,X_train,y_train,X_test,y_test,train=False)"
      ],
      "execution_count": null,
      "outputs": [
        {
          "output_type": "stream",
          "text": [
            "Test Result:\n",
            "\n",
            "Accuracy Score: 0.99713\n",
            "\n",
            "Classification Report: \n",
            "               precision    recall  f1-score   support\n",
            "\n",
            "           0       1.00      0.99      0.99     51335\n",
            "           1       1.00      1.00      1.00    194710\n",
            "\n",
            "    accuracy                           1.00    246045\n",
            "   macro avg       1.00      0.99      1.00    246045\n",
            "weighted avg       1.00      1.00      1.00    246045\n",
            "\n",
            "\n",
            "Confusion Matrix: \n",
            " [[ 50628    707]\n",
            " [     0 194710]]\n",
            "\n"
          ],
          "name": "stdout"
        }
      ]
    },
    {
      "cell_type": "markdown",
      "metadata": {
        "id": "b7Y6qhxXV8ur",
        "colab_type": "text"
      },
      "source": [
        "The model training time was bit slower compared to random forest model. However we see very poor performance for validation.\n",
        "The model did not perform well on training dataset. There are over 2000 obervations which are classified incorrectly. The recall and precision is low compared to random forest model.\n",
        "However the testing accuracy was better than random forest model. THe precsion and recall is better as well. "
      ]
    },
    {
      "cell_type": "markdown",
      "metadata": {
        "id": "iIfn0NzwrMHa",
        "colab_type": "text"
      },
      "source": [
        "Lets train the same model with GPU with same parameters"
      ]
    },
    {
      "cell_type": "code",
      "metadata": {
        "id": "IvNRxV0EpnM_",
        "colab_type": "code",
        "colab": {}
      },
      "source": [
        "GPU_model = CatBoostClassifier(iterations=100,\n",
        "                           depth=15,\n",
        "                           learning_rate=0.01,\n",
        "                           loss_function='Logloss',\n",
        "                           task_type='GPU')\n",
        "t = time.time()\n",
        "GPU_model.fit(X_train,y_train)\n",
        "print('Elapsed time-{}'.format(time.time()-t))"
      ],
      "execution_count": null,
      "outputs": []
    },
    {
      "cell_type": "code",
      "metadata": {
        "id": "yyDjuwhvreUa",
        "colab_type": "code",
        "colab": {
          "base_uri": "https://localhost:8080/",
          "height": 1000
        },
        "outputId": "28141a12-6ce0-487c-b6ce-de4ad500202f"
      },
      "source": [
        "t= time.time()\n",
        "modelScore(GPU_model,X_train,y_train,X_test,y_test)\n",
        "print('Elapsed time for model validation- {}'.format(time.time()-t))"
      ],
      "execution_count": null,
      "outputs": [
        {
          "output_type": "stream",
          "text": [
            "Train Result:\n",
            "\n",
            "Accuracy score: 0.9973\n",
            "\n",
            "Classification Report: \n",
            "               precision    recall  f1-score   support\n",
            "\n",
            "           0       1.00      0.99      0.99    205730\n",
            "           1       1.00      1.00      1.00    778447\n",
            "\n",
            "    accuracy                           1.00    984177\n",
            "   macro avg       1.00      0.99      1.00    984177\n",
            "weighted avg       1.00      1.00      1.00    984177\n",
            "\n",
            "\n",
            "Confusion Matrix: \n",
            " [[203117   2613]\n",
            " [    25 778422]]\n",
            "\n",
            "0:\tlearn: 0.6597871\ttotal: 673ms\tremaining: 1m 6s\n",
            "1:\tlearn: 0.6281010\ttotal: 1.33s\tremaining: 1m 5s\n",
            "2:\tlearn: 0.5993720\ttotal: 1.45s\tremaining: 46.8s\n",
            "3:\tlearn: 0.5747125\ttotal: 2.11s\tremaining: 50.7s\n",
            "4:\tlearn: 0.5481975\ttotal: 2.49s\tremaining: 47.4s\n",
            "5:\tlearn: 0.5277921\ttotal: 3.15s\tremaining: 49.4s\n",
            "6:\tlearn: 0.5034538\ttotal: 3.82s\tremaining: 50.7s\n",
            "7:\tlearn: 0.4809163\ttotal: 4.48s\tremaining: 51.6s\n",
            "8:\tlearn: 0.4593181\ttotal: 5.15s\tremaining: 52.1s\n",
            "9:\tlearn: 0.4372970\ttotal: 5.81s\tremaining: 52.3s\n",
            "10:\tlearn: 0.4171462\ttotal: 6.48s\tremaining: 52.4s\n",
            "11:\tlearn: 0.3976510\ttotal: 7.14s\tremaining: 52.4s\n",
            "12:\tlearn: 0.3779009\ttotal: 7.81s\tremaining: 52.2s\n",
            "13:\tlearn: 0.3643677\ttotal: 8.47s\tremaining: 52s\n",
            "14:\tlearn: 0.3467966\ttotal: 9.13s\tremaining: 51.7s\n",
            "15:\tlearn: 0.3301478\ttotal: 9.8s\tremaining: 51.4s\n",
            "16:\tlearn: 0.3157335\ttotal: 10.5s\tremaining: 51.1s\n",
            "17:\tlearn: 0.3002073\ttotal: 11.1s\tremaining: 50.7s\n",
            "18:\tlearn: 0.2864238\ttotal: 11.8s\tremaining: 50.3s\n",
            "19:\tlearn: 0.2729065\ttotal: 12.5s\tremaining: 49.8s\n",
            "20:\tlearn: 0.2604966\ttotal: 13.1s\tremaining: 49.4s\n",
            "21:\tlearn: 0.2492574\ttotal: 13.8s\tremaining: 48.9s\n",
            "22:\tlearn: 0.2386121\ttotal: 14.2s\tremaining: 47.4s\n",
            "23:\tlearn: 0.2281078\ttotal: 14.8s\tremaining: 47s\n",
            "24:\tlearn: 0.2182968\ttotal: 15.5s\tremaining: 46.5s\n",
            "25:\tlearn: 0.2094070\ttotal: 16.2s\tremaining: 46s\n",
            "26:\tlearn: 0.2008101\ttotal: 16.8s\tremaining: 45.5s\n",
            "27:\tlearn: 0.1923888\ttotal: 17.5s\tremaining: 45s\n",
            "28:\tlearn: 0.1845189\ttotal: 18.2s\tremaining: 44.4s\n",
            "29:\tlearn: 0.1768084\ttotal: 18.8s\tremaining: 43.9s\n",
            "30:\tlearn: 0.1691051\ttotal: 19.5s\tremaining: 43.4s\n",
            "31:\tlearn: 0.1624970\ttotal: 20.1s\tremaining: 42.8s\n",
            "32:\tlearn: 0.1558987\ttotal: 20.8s\tremaining: 42.2s\n",
            "33:\tlearn: 0.1495695\ttotal: 21.5s\tremaining: 41.7s\n",
            "34:\tlearn: 0.1440836\ttotal: 22.1s\tremaining: 41.1s\n",
            "35:\tlearn: 0.1384080\ttotal: 22.8s\tremaining: 40.5s\n",
            "36:\tlearn: 0.1331090\ttotal: 23.5s\tremaining: 39.9s\n",
            "37:\tlearn: 0.1283958\ttotal: 24.1s\tremaining: 39.4s\n",
            "38:\tlearn: 0.1237242\ttotal: 24.8s\tremaining: 38.8s\n",
            "39:\tlearn: 0.1190743\ttotal: 25.4s\tremaining: 38.2s\n",
            "40:\tlearn: 0.1147252\ttotal: 26.1s\tremaining: 37.6s\n",
            "41:\tlearn: 0.1103366\ttotal: 26.8s\tremaining: 37s\n",
            "42:\tlearn: 0.1061350\ttotal: 27.4s\tremaining: 36.4s\n",
            "43:\tlearn: 0.1025259\ttotal: 28.1s\tremaining: 35.8s\n",
            "44:\tlearn: 0.0988227\ttotal: 28.8s\tremaining: 35.2s\n",
            "45:\tlearn: 0.0953909\ttotal: 29.4s\tremaining: 34.5s\n",
            "46:\tlearn: 0.0921860\ttotal: 30.1s\tremaining: 33.9s\n",
            "47:\tlearn: 0.0890174\ttotal: 30.8s\tremaining: 33.3s\n",
            "48:\tlearn: 0.0862183\ttotal: 31.4s\tremaining: 32.7s\n",
            "49:\tlearn: 0.0833762\ttotal: 32.1s\tremaining: 32.1s\n",
            "50:\tlearn: 0.0806567\ttotal: 32.7s\tremaining: 31.5s\n",
            "51:\tlearn: 0.0781971\ttotal: 33.4s\tremaining: 30.8s\n",
            "52:\tlearn: 0.0758061\ttotal: 34.1s\tremaining: 30.2s\n",
            "53:\tlearn: 0.0734496\ttotal: 34.7s\tremaining: 29.6s\n",
            "54:\tlearn: 0.0712156\ttotal: 35.4s\tremaining: 29s\n",
            "55:\tlearn: 0.0691650\ttotal: 36.1s\tremaining: 28.3s\n",
            "56:\tlearn: 0.0670913\ttotal: 36.7s\tremaining: 27.7s\n",
            "57:\tlearn: 0.0651226\ttotal: 37.4s\tremaining: 27.1s\n",
            "58:\tlearn: 0.0632945\ttotal: 38s\tremaining: 26.4s\n",
            "59:\tlearn: 0.0614261\ttotal: 38.7s\tremaining: 25.8s\n",
            "60:\tlearn: 0.0597499\ttotal: 39.4s\tremaining: 25.2s\n",
            "61:\tlearn: 0.0581306\ttotal: 40s\tremaining: 24.5s\n",
            "62:\tlearn: 0.0565448\ttotal: 40.7s\tremaining: 23.9s\n",
            "63:\tlearn: 0.0551307\ttotal: 41.4s\tremaining: 23.3s\n",
            "64:\tlearn: 0.0537946\ttotal: 42s\tremaining: 22.6s\n",
            "65:\tlearn: 0.0523377\ttotal: 42.7s\tremaining: 22s\n",
            "66:\tlearn: 0.0509814\ttotal: 43.3s\tremaining: 21.3s\n",
            "67:\tlearn: 0.0497600\ttotal: 44s\tremaining: 20.7s\n",
            "68:\tlearn: 0.0485198\ttotal: 44.7s\tremaining: 20.1s\n",
            "69:\tlearn: 0.0474000\ttotal: 45.3s\tremaining: 19.4s\n",
            "70:\tlearn: 0.0462727\ttotal: 46s\tremaining: 18.8s\n",
            "71:\tlearn: 0.0450928\ttotal: 46.7s\tremaining: 18.1s\n",
            "72:\tlearn: 0.0441141\ttotal: 47.3s\tremaining: 17.5s\n",
            "73:\tlearn: 0.0431453\ttotal: 48s\tremaining: 16.9s\n",
            "74:\tlearn: 0.0421180\ttotal: 48.6s\tremaining: 16.2s\n",
            "75:\tlearn: 0.0412225\ttotal: 49.3s\tremaining: 15.6s\n",
            "76:\tlearn: 0.0402564\ttotal: 50s\tremaining: 14.9s\n",
            "77:\tlearn: 0.0394322\ttotal: 50.6s\tremaining: 14.3s\n",
            "78:\tlearn: 0.0386193\ttotal: 51.3s\tremaining: 13.6s\n",
            "79:\tlearn: 0.0377571\ttotal: 52s\tremaining: 13s\n",
            "80:\tlearn: 0.0369243\ttotal: 52.6s\tremaining: 12.3s\n",
            "81:\tlearn: 0.0362301\ttotal: 53.3s\tremaining: 11.7s\n",
            "82:\tlearn: 0.0355220\ttotal: 53.9s\tremaining: 11s\n",
            "83:\tlearn: 0.0347994\ttotal: 54.6s\tremaining: 10.4s\n",
            "84:\tlearn: 0.0340942\ttotal: 55.3s\tremaining: 9.75s\n",
            "85:\tlearn: 0.0334786\ttotal: 55.9s\tremaining: 9.1s\n",
            "86:\tlearn: 0.0328229\ttotal: 56.6s\tremaining: 8.46s\n",
            "87:\tlearn: 0.0321764\ttotal: 57.3s\tremaining: 7.81s\n",
            "88:\tlearn: 0.0316277\ttotal: 57.9s\tremaining: 7.16s\n",
            "89:\tlearn: 0.0310191\ttotal: 58.6s\tremaining: 6.51s\n",
            "90:\tlearn: 0.0305099\ttotal: 59.2s\tremaining: 5.86s\n",
            "91:\tlearn: 0.0299133\ttotal: 59.9s\tremaining: 5.21s\n",
            "92:\tlearn: 0.0294013\ttotal: 1m\tremaining: 4.56s\n",
            "93:\tlearn: 0.0288571\ttotal: 1m 1s\tremaining: 3.91s\n",
            "94:\tlearn: 0.0284047\ttotal: 1m 1s\tremaining: 3.26s\n",
            "95:\tlearn: 0.0278936\ttotal: 1m 2s\tremaining: 2.61s\n",
            "96:\tlearn: 0.0274166\ttotal: 1m 3s\tremaining: 1.95s\n",
            "97:\tlearn: 0.0269492\ttotal: 1m 3s\tremaining: 1.3s\n",
            "98:\tlearn: 0.0265499\ttotal: 1m 4s\tremaining: 652ms\n",
            "99:\tlearn: 0.0261583\ttotal: 1m 5s\tremaining: 0us\n",
            "0:\tlearn: 0.6598905\ttotal: 674ms\tremaining: 1m 6s\n",
            "1:\tlearn: 0.6286160\ttotal: 1.34s\tremaining: 1m 5s\n",
            "2:\tlearn: 0.6004418\ttotal: 1.45s\tremaining: 46.9s\n",
            "3:\tlearn: 0.5730411\ttotal: 2.11s\tremaining: 50.8s\n",
            "4:\tlearn: 0.5466707\ttotal: 2.49s\tremaining: 47.4s\n",
            "5:\tlearn: 0.5263559\ttotal: 3.16s\tremaining: 49.5s\n",
            "6:\tlearn: 0.5066593\ttotal: 3.82s\tremaining: 50.8s\n",
            "7:\tlearn: 0.4830821\ttotal: 4.49s\tremaining: 51.6s\n",
            "8:\tlearn: 0.4613239\ttotal: 5.15s\tremaining: 52.1s\n",
            "9:\tlearn: 0.4391903\ttotal: 5.81s\tremaining: 52.3s\n",
            "10:\tlearn: 0.4173410\ttotal: 6.48s\tremaining: 52.4s\n",
            "11:\tlearn: 0.3974368\ttotal: 7.14s\tremaining: 52.4s\n",
            "12:\tlearn: 0.3778783\ttotal: 7.8s\tremaining: 52.2s\n",
            "13:\tlearn: 0.3640106\ttotal: 8.47s\tremaining: 52s\n",
            "14:\tlearn: 0.3469599\ttotal: 9.13s\tremaining: 51.7s\n",
            "15:\tlearn: 0.3297217\ttotal: 9.79s\tremaining: 51.4s\n",
            "16:\tlearn: 0.3152863\ttotal: 10.5s\tremaining: 51.1s\n",
            "17:\tlearn: 0.3003942\ttotal: 11.1s\tremaining: 50.7s\n",
            "18:\tlearn: 0.2869561\ttotal: 11.8s\tremaining: 50.3s\n",
            "19:\tlearn: 0.2737342\ttotal: 12.5s\tremaining: 49.8s\n",
            "20:\tlearn: 0.2614054\ttotal: 13.1s\tremaining: 49.4s\n",
            "21:\tlearn: 0.2497741\ttotal: 13.8s\tremaining: 48.9s\n",
            "22:\tlearn: 0.2388835\ttotal: 14.2s\tremaining: 47.4s\n",
            "23:\tlearn: 0.2288855\ttotal: 14.8s\tremaining: 47s\n",
            "24:\tlearn: 0.2184312\ttotal: 15.5s\tremaining: 46.5s\n",
            "25:\tlearn: 0.2099327\ttotal: 16.2s\tremaining: 46s\n",
            "26:\tlearn: 0.2013504\ttotal: 16.8s\tremaining: 45.5s\n",
            "27:\tlearn: 0.1933370\ttotal: 17.5s\tremaining: 45s\n",
            "28:\tlearn: 0.1858496\ttotal: 18.2s\tremaining: 44.4s\n",
            "29:\tlearn: 0.1785141\ttotal: 18.8s\tremaining: 43.9s\n",
            "30:\tlearn: 0.1718582\ttotal: 19.5s\tremaining: 43.4s\n",
            "31:\tlearn: 0.1646374\ttotal: 20.1s\tremaining: 42.8s\n",
            "32:\tlearn: 0.1579356\ttotal: 20.8s\tremaining: 42.3s\n",
            "33:\tlearn: 0.1519632\ttotal: 21.5s\tremaining: 41.7s\n",
            "34:\tlearn: 0.1455806\ttotal: 22.1s\tremaining: 41.1s\n",
            "35:\tlearn: 0.1402265\ttotal: 22.8s\tremaining: 40.5s\n",
            "36:\tlearn: 0.1350901\ttotal: 23.5s\tremaining: 40s\n",
            "37:\tlearn: 0.1306093\ttotal: 24.1s\tremaining: 39.4s\n",
            "38:\tlearn: 0.1259727\ttotal: 24.8s\tremaining: 38.8s\n",
            "39:\tlearn: 0.1214902\ttotal: 25.5s\tremaining: 38.2s\n",
            "40:\tlearn: 0.1172827\ttotal: 26.1s\tremaining: 37.6s\n",
            "41:\tlearn: 0.1127485\ttotal: 26.8s\tremaining: 37s\n",
            "42:\tlearn: 0.1089330\ttotal: 27.4s\tremaining: 36.4s\n",
            "43:\tlearn: 0.1052369\ttotal: 28.1s\tremaining: 35.8s\n",
            "44:\tlearn: 0.1014827\ttotal: 28.8s\tremaining: 35.2s\n",
            "45:\tlearn: 0.0980247\ttotal: 29.4s\tremaining: 34.5s\n",
            "46:\tlearn: 0.0946834\ttotal: 30.1s\tremaining: 33.9s\n",
            "47:\tlearn: 0.0917144\ttotal: 30.7s\tremaining: 33.3s\n",
            "48:\tlearn: 0.0887834\ttotal: 31.4s\tremaining: 32.7s\n",
            "49:\tlearn: 0.0859837\ttotal: 32.1s\tremaining: 32.1s\n",
            "50:\tlearn: 0.0832764\ttotal: 32.7s\tremaining: 31.4s\n",
            "51:\tlearn: 0.0806695\ttotal: 33.4s\tremaining: 30.8s\n",
            "52:\tlearn: 0.0782473\ttotal: 34.1s\tremaining: 30.2s\n",
            "53:\tlearn: 0.0757005\ttotal: 34.7s\tremaining: 29.6s\n",
            "54:\tlearn: 0.0734750\ttotal: 35.4s\tremaining: 28.9s\n",
            "55:\tlearn: 0.0711701\ttotal: 36s\tremaining: 28.3s\n",
            "56:\tlearn: 0.0689625\ttotal: 36.7s\tremaining: 27.7s\n",
            "57:\tlearn: 0.0668371\ttotal: 37.4s\tremaining: 27.1s\n",
            "58:\tlearn: 0.0648318\ttotal: 38s\tremaining: 26.4s\n",
            "59:\tlearn: 0.0628661\ttotal: 38.7s\tremaining: 25.8s\n",
            "60:\tlearn: 0.0610469\ttotal: 39.4s\tremaining: 25.2s\n",
            "61:\tlearn: 0.0592962\ttotal: 40s\tremaining: 24.5s\n",
            "62:\tlearn: 0.0575975\ttotal: 40.7s\tremaining: 23.9s\n",
            "63:\tlearn: 0.0559328\ttotal: 41.3s\tremaining: 23.3s\n",
            "64:\tlearn: 0.0545529\ttotal: 42s\tremaining: 22.6s\n",
            "65:\tlearn: 0.0532988\ttotal: 42.7s\tremaining: 22s\n",
            "66:\tlearn: 0.0519495\ttotal: 43.3s\tremaining: 21.3s\n",
            "67:\tlearn: 0.0505280\ttotal: 44s\tremaining: 20.7s\n",
            "68:\tlearn: 0.0491513\ttotal: 44.6s\tremaining: 20.1s\n",
            "69:\tlearn: 0.0479806\ttotal: 45.3s\tremaining: 19.4s\n",
            "70:\tlearn: 0.0468974\ttotal: 46s\tremaining: 18.8s\n",
            "71:\tlearn: 0.0458183\ttotal: 46.6s\tremaining: 18.1s\n",
            "72:\tlearn: 0.0446669\ttotal: 47.3s\tremaining: 17.5s\n",
            "73:\tlearn: 0.0435773\ttotal: 48s\tremaining: 16.8s\n",
            "74:\tlearn: 0.0425231\ttotal: 48.6s\tremaining: 16.2s\n",
            "75:\tlearn: 0.0416304\ttotal: 49.3s\tremaining: 15.6s\n",
            "76:\tlearn: 0.0407419\ttotal: 49.9s\tremaining: 14.9s\n",
            "77:\tlearn: 0.0398062\ttotal: 50.6s\tremaining: 14.3s\n",
            "78:\tlearn: 0.0389537\ttotal: 51.3s\tremaining: 13.6s\n",
            "79:\tlearn: 0.0380650\ttotal: 51.9s\tremaining: 13s\n",
            "80:\tlearn: 0.0373367\ttotal: 52.6s\tremaining: 12.3s\n",
            "81:\tlearn: 0.0365493\ttotal: 53.2s\tremaining: 11.7s\n",
            "82:\tlearn: 0.0358678\ttotal: 53.9s\tremaining: 11s\n",
            "83:\tlearn: 0.0350780\ttotal: 54.6s\tremaining: 10.4s\n",
            "84:\tlearn: 0.0344550\ttotal: 55.2s\tremaining: 9.74s\n",
            "85:\tlearn: 0.0338198\ttotal: 55.9s\tremaining: 9.1s\n",
            "86:\tlearn: 0.0331481\ttotal: 56.5s\tremaining: 8.45s\n",
            "87:\tlearn: 0.0324850\ttotal: 57.2s\tremaining: 7.8s\n",
            "88:\tlearn: 0.0319077\ttotal: 57.9s\tremaining: 7.15s\n",
            "89:\tlearn: 0.0313517\ttotal: 58.5s\tremaining: 6.5s\n",
            "90:\tlearn: 0.0308168\ttotal: 59.2s\tremaining: 5.85s\n",
            "91:\tlearn: 0.0301989\ttotal: 59.9s\tremaining: 5.2s\n",
            "92:\tlearn: 0.0296501\ttotal: 1m\tremaining: 4.55s\n",
            "93:\tlearn: 0.0291692\ttotal: 1m 1s\tremaining: 3.9s\n",
            "94:\tlearn: 0.0285465\ttotal: 1m 1s\tremaining: 3.25s\n",
            "95:\tlearn: 0.0280983\ttotal: 1m 2s\tremaining: 2.6s\n",
            "96:\tlearn: 0.0276516\ttotal: 1m 3s\tremaining: 1.95s\n",
            "97:\tlearn: 0.0272334\ttotal: 1m 3s\tremaining: 1.3s\n",
            "98:\tlearn: 0.0268075\ttotal: 1m 4s\tremaining: 651ms\n",
            "99:\tlearn: 0.0263159\ttotal: 1m 5s\tremaining: 0us\n",
            "0:\tlearn: 0.6596377\ttotal: 678ms\tremaining: 1m 7s\n",
            "1:\tlearn: 0.6283230\ttotal: 1.34s\tremaining: 1m 5s\n",
            "2:\tlearn: 0.5995751\ttotal: 1.46s\tremaining: 47.1s\n",
            "3:\tlearn: 0.5750081\ttotal: 2.12s\tremaining: 50.9s\n",
            "4:\tlearn: 0.5485008\ttotal: 2.5s\tremaining: 47.5s\n",
            "5:\tlearn: 0.5281846\ttotal: 3.17s\tremaining: 49.6s\n",
            "6:\tlearn: 0.5037608\ttotal: 3.83s\tremaining: 50.9s\n",
            "7:\tlearn: 0.4808356\ttotal: 4.5s\tremaining: 51.7s\n",
            "8:\tlearn: 0.4592052\ttotal: 5.16s\tremaining: 52.2s\n",
            "9:\tlearn: 0.4370003\ttotal: 5.83s\tremaining: 52.4s\n",
            "10:\tlearn: 0.4146661\ttotal: 6.49s\tremaining: 52.5s\n",
            "11:\tlearn: 0.3950862\ttotal: 7.16s\tremaining: 52.5s\n",
            "12:\tlearn: 0.3758458\ttotal: 7.82s\tremaining: 52.3s\n",
            "13:\tlearn: 0.3582966\ttotal: 8.48s\tremaining: 52.1s\n",
            "14:\tlearn: 0.3415630\ttotal: 9.15s\tremaining: 51.8s\n",
            "15:\tlearn: 0.3244841\ttotal: 9.81s\tremaining: 51.5s\n",
            "16:\tlearn: 0.3092137\ttotal: 10.5s\tremaining: 51.2s\n",
            "17:\tlearn: 0.2949565\ttotal: 11.1s\tremaining: 50.8s\n",
            "18:\tlearn: 0.2813769\ttotal: 11.8s\tremaining: 50.3s\n",
            "19:\tlearn: 0.2681822\ttotal: 12.5s\tremaining: 49.9s\n",
            "20:\tlearn: 0.2562446\ttotal: 13.1s\tremaining: 49.4s\n",
            "21:\tlearn: 0.2451228\ttotal: 13.8s\tremaining: 48.9s\n",
            "22:\tlearn: 0.2346303\ttotal: 14.2s\tremaining: 47.5s\n",
            "23:\tlearn: 0.2238181\ttotal: 14.8s\tremaining: 47s\n",
            "24:\tlearn: 0.2139208\ttotal: 15.5s\tremaining: 46.5s\n",
            "25:\tlearn: 0.2047358\ttotal: 16.2s\tremaining: 46s\n",
            "26:\tlearn: 0.1962282\ttotal: 16.8s\tremaining: 45.5s\n",
            "27:\tlearn: 0.1881152\ttotal: 17.5s\tremaining: 45s\n",
            "28:\tlearn: 0.1805255\ttotal: 18.2s\tremaining: 44.5s\n",
            "29:\tlearn: 0.1731264\ttotal: 18.8s\tremaining: 43.9s\n",
            "30:\tlearn: 0.1661291\ttotal: 19.5s\tremaining: 43.4s\n",
            "31:\tlearn: 0.1594702\ttotal: 20.2s\tremaining: 42.8s\n",
            "32:\tlearn: 0.1529330\ttotal: 20.8s\tremaining: 42.3s\n",
            "33:\tlearn: 0.1465373\ttotal: 21.5s\tremaining: 41.7s\n",
            "34:\tlearn: 0.1407279\ttotal: 22.2s\tremaining: 41.1s\n",
            "35:\tlearn: 0.1354593\ttotal: 22.8s\tremaining: 40.6s\n",
            "36:\tlearn: 0.1303300\ttotal: 23.5s\tremaining: 40s\n",
            "37:\tlearn: 0.1254166\ttotal: 24.1s\tremaining: 39.4s\n",
            "38:\tlearn: 0.1206362\ttotal: 24.8s\tremaining: 38.8s\n",
            "39:\tlearn: 0.1160594\ttotal: 25.5s\tremaining: 38.2s\n",
            "40:\tlearn: 0.1119171\ttotal: 26.1s\tremaining: 37.6s\n",
            "41:\tlearn: 0.1077220\ttotal: 26.8s\tremaining: 37s\n",
            "42:\tlearn: 0.1039342\ttotal: 27.5s\tremaining: 36.4s\n",
            "43:\tlearn: 0.1003224\ttotal: 28.1s\tremaining: 35.8s\n",
            "44:\tlearn: 0.0971376\ttotal: 28.8s\tremaining: 35.2s\n",
            "45:\tlearn: 0.0935897\ttotal: 29.4s\tremaining: 34.6s\n",
            "46:\tlearn: 0.0904221\ttotal: 30.1s\tremaining: 34s\n",
            "47:\tlearn: 0.0874144\ttotal: 30.8s\tremaining: 33.3s\n",
            "48:\tlearn: 0.0846568\ttotal: 31.4s\tremaining: 32.7s\n",
            "49:\tlearn: 0.0821412\ttotal: 32.1s\tremaining: 32.1s\n",
            "50:\tlearn: 0.0795227\ttotal: 32.8s\tremaining: 31.5s\n",
            "51:\tlearn: 0.0772187\ttotal: 33.4s\tremaining: 30.9s\n",
            "52:\tlearn: 0.0749308\ttotal: 34.1s\tremaining: 30.2s\n",
            "53:\tlearn: 0.0726280\ttotal: 34.8s\tremaining: 29.6s\n",
            "54:\tlearn: 0.0704064\ttotal: 35.4s\tremaining: 29s\n",
            "55:\tlearn: 0.0681831\ttotal: 36.1s\tremaining: 28.3s\n",
            "56:\tlearn: 0.0661630\ttotal: 36.7s\tremaining: 27.7s\n",
            "57:\tlearn: 0.0644062\ttotal: 37.4s\tremaining: 27.1s\n",
            "58:\tlearn: 0.0627639\ttotal: 38.1s\tremaining: 26.4s\n",
            "59:\tlearn: 0.0609793\ttotal: 38.7s\tremaining: 25.8s\n",
            "60:\tlearn: 0.0592013\ttotal: 39.4s\tremaining: 25.2s\n",
            "61:\tlearn: 0.0575839\ttotal: 40.1s\tremaining: 24.5s\n",
            "62:\tlearn: 0.0560003\ttotal: 40.7s\tremaining: 23.9s\n",
            "63:\tlearn: 0.0546130\ttotal: 41.4s\tremaining: 23.3s\n",
            "64:\tlearn: 0.0531706\ttotal: 42s\tremaining: 22.6s\n",
            "65:\tlearn: 0.0516940\ttotal: 42.7s\tremaining: 22s\n",
            "66:\tlearn: 0.0503548\ttotal: 43.4s\tremaining: 21.4s\n",
            "67:\tlearn: 0.0491769\ttotal: 44s\tremaining: 20.7s\n",
            "68:\tlearn: 0.0480250\ttotal: 44.7s\tremaining: 20.1s\n",
            "69:\tlearn: 0.0468715\ttotal: 45.4s\tremaining: 19.4s\n",
            "70:\tlearn: 0.0457261\ttotal: 46s\tremaining: 18.8s\n",
            "71:\tlearn: 0.0446905\ttotal: 46.7s\tremaining: 18.2s\n",
            "72:\tlearn: 0.0435606\ttotal: 47.3s\tremaining: 17.5s\n",
            "73:\tlearn: 0.0425268\ttotal: 48s\tremaining: 16.9s\n",
            "74:\tlearn: 0.0414932\ttotal: 48.7s\tremaining: 16.2s\n",
            "75:\tlearn: 0.0405297\ttotal: 49.3s\tremaining: 15.6s\n",
            "76:\tlearn: 0.0395757\ttotal: 50s\tremaining: 14.9s\n",
            "77:\tlearn: 0.0387657\ttotal: 50.7s\tremaining: 14.3s\n",
            "78:\tlearn: 0.0379928\ttotal: 51.3s\tremaining: 13.6s\n",
            "79:\tlearn: 0.0372832\ttotal: 52s\tremaining: 13s\n",
            "80:\tlearn: 0.0365127\ttotal: 52.6s\tremaining: 12.3s\n",
            "81:\tlearn: 0.0357052\ttotal: 53.3s\tremaining: 11.7s\n",
            "82:\tlearn: 0.0350649\ttotal: 54s\tremaining: 11.1s\n",
            "83:\tlearn: 0.0343158\ttotal: 54.6s\tremaining: 10.4s\n",
            "84:\tlearn: 0.0336102\ttotal: 55.3s\tremaining: 9.76s\n",
            "85:\tlearn: 0.0329631\ttotal: 56s\tremaining: 9.11s\n",
            "86:\tlearn: 0.0322617\ttotal: 56.6s\tremaining: 8.46s\n",
            "87:\tlearn: 0.0316308\ttotal: 57.3s\tremaining: 7.81s\n",
            "88:\tlearn: 0.0310654\ttotal: 57.9s\tremaining: 7.16s\n",
            "89:\tlearn: 0.0304637\ttotal: 58.6s\tremaining: 6.51s\n",
            "90:\tlearn: 0.0299138\ttotal: 59.3s\tremaining: 5.86s\n",
            "91:\tlearn: 0.0293834\ttotal: 59.9s\tremaining: 5.21s\n",
            "92:\tlearn: 0.0288238\ttotal: 1m\tremaining: 4.56s\n",
            "93:\tlearn: 0.0283543\ttotal: 1m 1s\tremaining: 3.91s\n",
            "94:\tlearn: 0.0279280\ttotal: 1m 1s\tremaining: 3.26s\n",
            "95:\tlearn: 0.0274971\ttotal: 1m 2s\tremaining: 2.61s\n",
            "96:\tlearn: 0.0270941\ttotal: 1m 3s\tremaining: 1.96s\n",
            "97:\tlearn: 0.0266173\ttotal: 1m 3s\tremaining: 1.3s\n",
            "98:\tlearn: 0.0262317\ttotal: 1m 4s\tremaining: 652ms\n",
            "99:\tlearn: 0.0257321\ttotal: 1m 5s\tremaining: 0us\n",
            "0:\tlearn: 0.6596040\ttotal: 673ms\tremaining: 1m 6s\n",
            "1:\tlearn: 0.6282948\ttotal: 1.34s\tremaining: 1m 5s\n",
            "2:\tlearn: 0.5995734\ttotal: 1.45s\tremaining: 46.9s\n",
            "3:\tlearn: 0.5749759\ttotal: 2.11s\tremaining: 50.7s\n",
            "4:\tlearn: 0.5484470\ttotal: 2.49s\tremaining: 47.4s\n",
            "5:\tlearn: 0.5280933\ttotal: 3.15s\tremaining: 49.4s\n",
            "6:\tlearn: 0.5044985\ttotal: 3.82s\tremaining: 50.7s\n",
            "7:\tlearn: 0.4820416\ttotal: 4.48s\tremaining: 51.6s\n",
            "8:\tlearn: 0.4625668\ttotal: 5.14s\tremaining: 52s\n",
            "9:\tlearn: 0.4411384\ttotal: 5.81s\tremaining: 52.3s\n",
            "10:\tlearn: 0.4209738\ttotal: 6.47s\tremaining: 52.4s\n",
            "11:\tlearn: 0.4015177\ttotal: 7.13s\tremaining: 52.3s\n",
            "12:\tlearn: 0.3826204\ttotal: 7.8s\tremaining: 52.2s\n",
            "13:\tlearn: 0.3653009\ttotal: 8.46s\tremaining: 52s\n",
            "14:\tlearn: 0.3481999\ttotal: 9.12s\tremaining: 51.7s\n",
            "15:\tlearn: 0.3309003\ttotal: 9.78s\tremaining: 51.4s\n",
            "16:\tlearn: 0.3165395\ttotal: 10.4s\tremaining: 51s\n",
            "17:\tlearn: 0.3016273\ttotal: 11.1s\tremaining: 50.6s\n",
            "18:\tlearn: 0.2882481\ttotal: 11.8s\tremaining: 50.2s\n",
            "19:\tlearn: 0.2749003\ttotal: 12.4s\tremaining: 49.8s\n",
            "20:\tlearn: 0.2625174\ttotal: 13.1s\tremaining: 49.3s\n",
            "21:\tlearn: 0.2511668\ttotal: 13.8s\tremaining: 48.8s\n",
            "22:\tlearn: 0.2405301\ttotal: 14.1s\tremaining: 47.4s\n",
            "23:\tlearn: 0.2304703\ttotal: 14.8s\tremaining: 46.9s\n",
            "24:\tlearn: 0.2206894\ttotal: 15.5s\tremaining: 46.4s\n",
            "25:\tlearn: 0.2117667\ttotal: 16.1s\tremaining: 45.9s\n",
            "26:\tlearn: 0.2031460\ttotal: 16.8s\tremaining: 45.4s\n",
            "27:\tlearn: 0.1954041\ttotal: 17.5s\tremaining: 44.9s\n",
            "28:\tlearn: 0.1874980\ttotal: 18.1s\tremaining: 44.4s\n",
            "29:\tlearn: 0.1799323\ttotal: 18.8s\tremaining: 43.9s\n",
            "30:\tlearn: 0.1727192\ttotal: 19.5s\tremaining: 43.3s\n",
            "31:\tlearn: 0.1652848\ttotal: 20.1s\tremaining: 42.8s\n",
            "32:\tlearn: 0.1587092\ttotal: 20.8s\tremaining: 42.2s\n",
            "33:\tlearn: 0.1525046\ttotal: 21.4s\tremaining: 41.6s\n",
            "34:\tlearn: 0.1472647\ttotal: 22.1s\tremaining: 41.1s\n",
            "35:\tlearn: 0.1416467\ttotal: 22.8s\tremaining: 40.5s\n",
            "36:\tlearn: 0.1362267\ttotal: 23.4s\tremaining: 39.9s\n",
            "37:\tlearn: 0.1312888\ttotal: 24.1s\tremaining: 39.3s\n",
            "38:\tlearn: 0.1262752\ttotal: 24.8s\tremaining: 38.7s\n",
            "39:\tlearn: 0.1219490\ttotal: 25.4s\tremaining: 38.1s\n",
            "40:\tlearn: 0.1174617\ttotal: 26.1s\tremaining: 37.5s\n",
            "41:\tlearn: 0.1129512\ttotal: 26.7s\tremaining: 36.9s\n",
            "42:\tlearn: 0.1086124\ttotal: 27.4s\tremaining: 36.3s\n",
            "43:\tlearn: 0.1050470\ttotal: 28.1s\tremaining: 35.7s\n",
            "44:\tlearn: 0.1011889\ttotal: 28.7s\tremaining: 35.1s\n",
            "45:\tlearn: 0.0976304\ttotal: 29.4s\tremaining: 34.5s\n",
            "46:\tlearn: 0.0942081\ttotal: 30.1s\tremaining: 33.9s\n",
            "47:\tlearn: 0.0909869\ttotal: 30.7s\tremaining: 33.3s\n",
            "48:\tlearn: 0.0881295\ttotal: 31.4s\tremaining: 32.7s\n",
            "49:\tlearn: 0.0852856\ttotal: 32s\tremaining: 32s\n",
            "50:\tlearn: 0.0824751\ttotal: 32.7s\tremaining: 31.4s\n",
            "51:\tlearn: 0.0798760\ttotal: 33.4s\tremaining: 30.8s\n",
            "52:\tlearn: 0.0775087\ttotal: 34s\tremaining: 30.2s\n",
            "53:\tlearn: 0.0753090\ttotal: 34.7s\tremaining: 29.6s\n",
            "54:\tlearn: 0.0732354\ttotal: 35.4s\tremaining: 28.9s\n",
            "55:\tlearn: 0.0710242\ttotal: 36s\tremaining: 28.3s\n",
            "56:\tlearn: 0.0689071\ttotal: 36.7s\tremaining: 27.7s\n",
            "57:\tlearn: 0.0668103\ttotal: 37.3s\tremaining: 27s\n",
            "58:\tlearn: 0.0649774\ttotal: 38s\tremaining: 26.4s\n",
            "59:\tlearn: 0.0630161\ttotal: 38.7s\tremaining: 25.8s\n",
            "60:\tlearn: 0.0611483\ttotal: 39.3s\tremaining: 25.1s\n",
            "61:\tlearn: 0.0596058\ttotal: 40s\tremaining: 24.5s\n",
            "62:\tlearn: 0.0581266\ttotal: 40.7s\tremaining: 23.9s\n",
            "63:\tlearn: 0.0566165\ttotal: 41.3s\tremaining: 23.2s\n",
            "64:\tlearn: 0.0552278\ttotal: 42s\tremaining: 22.6s\n",
            "65:\tlearn: 0.0539422\ttotal: 42.6s\tremaining: 22s\n",
            "66:\tlearn: 0.0525082\ttotal: 43.3s\tremaining: 21.3s\n",
            "67:\tlearn: 0.0511763\ttotal: 44s\tremaining: 20.7s\n",
            "68:\tlearn: 0.0499349\ttotal: 44.6s\tremaining: 20s\n",
            "69:\tlearn: 0.0486210\ttotal: 45.3s\tremaining: 19.4s\n",
            "70:\tlearn: 0.0474459\ttotal: 45.9s\tremaining: 18.8s\n",
            "71:\tlearn: 0.0463236\ttotal: 46.6s\tremaining: 18.1s\n",
            "72:\tlearn: 0.0452494\ttotal: 47.3s\tremaining: 17.5s\n",
            "73:\tlearn: 0.0442814\ttotal: 47.9s\tremaining: 16.8s\n",
            "74:\tlearn: 0.0432284\ttotal: 48.6s\tremaining: 16.2s\n",
            "75:\tlearn: 0.0422599\ttotal: 49.3s\tremaining: 15.6s\n",
            "76:\tlearn: 0.0413311\ttotal: 49.9s\tremaining: 14.9s\n",
            "77:\tlearn: 0.0404647\ttotal: 50.6s\tremaining: 14.3s\n",
            "78:\tlearn: 0.0396710\ttotal: 51.2s\tremaining: 13.6s\n",
            "79:\tlearn: 0.0388424\ttotal: 51.9s\tremaining: 13s\n",
            "80:\tlearn: 0.0380292\ttotal: 52.6s\tremaining: 12.3s\n",
            "81:\tlearn: 0.0372823\ttotal: 53.2s\tremaining: 11.7s\n",
            "82:\tlearn: 0.0366168\ttotal: 53.9s\tremaining: 11s\n",
            "83:\tlearn: 0.0358816\ttotal: 54.5s\tremaining: 10.4s\n",
            "84:\tlearn: 0.0352211\ttotal: 55.2s\tremaining: 9.74s\n",
            "85:\tlearn: 0.0344572\ttotal: 55.9s\tremaining: 9.09s\n",
            "86:\tlearn: 0.0338246\ttotal: 56.5s\tremaining: 8.45s\n",
            "87:\tlearn: 0.0332618\ttotal: 57.2s\tremaining: 7.8s\n",
            "88:\tlearn: 0.0326553\ttotal: 57.8s\tremaining: 7.15s\n",
            "89:\tlearn: 0.0319918\ttotal: 58.5s\tremaining: 6.5s\n",
            "90:\tlearn: 0.0313491\ttotal: 59.2s\tremaining: 5.85s\n",
            "91:\tlearn: 0.0307545\ttotal: 59.8s\tremaining: 5.2s\n",
            "92:\tlearn: 0.0301565\ttotal: 1m\tremaining: 4.55s\n",
            "93:\tlearn: 0.0296507\ttotal: 1m 1s\tremaining: 3.9s\n",
            "94:\tlearn: 0.0291982\ttotal: 1m 1s\tremaining: 3.25s\n",
            "95:\tlearn: 0.0287562\ttotal: 1m 2s\tremaining: 2.6s\n",
            "96:\tlearn: 0.0282438\ttotal: 1m 3s\tremaining: 1.95s\n",
            "97:\tlearn: 0.0277347\ttotal: 1m 3s\tremaining: 1.3s\n",
            "98:\tlearn: 0.0272387\ttotal: 1m 4s\tremaining: 651ms\n",
            "99:\tlearn: 0.0268053\ttotal: 1m 5s\tremaining: 0us\n",
            "0:\tlearn: 0.6596257\ttotal: 670ms\tremaining: 1m 6s\n",
            "1:\tlearn: 0.6295838\ttotal: 1.33s\tremaining: 1m 5s\n",
            "2:\tlearn: 0.6006786\ttotal: 1.44s\tremaining: 46.6s\n",
            "3:\tlearn: 0.5735392\ttotal: 2.1s\tremaining: 50.5s\n",
            "4:\tlearn: 0.5471089\ttotal: 2.48s\tremaining: 47.2s\n",
            "5:\tlearn: 0.5267902\ttotal: 3.15s\tremaining: 49.3s\n",
            "6:\tlearn: 0.5031726\ttotal: 3.81s\tremaining: 50.6s\n",
            "7:\tlearn: 0.4855861\ttotal: 4.47s\tremaining: 51.4s\n",
            "8:\tlearn: 0.4690017\ttotal: 5.14s\tremaining: 52s\n",
            "9:\tlearn: 0.4466053\ttotal: 5.8s\tremaining: 52.2s\n",
            "10:\tlearn: 0.4244368\ttotal: 6.46s\tremaining: 52.3s\n",
            "11:\tlearn: 0.4047641\ttotal: 7.12s\tremaining: 52.2s\n",
            "12:\tlearn: 0.3845724\ttotal: 7.78s\tremaining: 52.1s\n",
            "13:\tlearn: 0.3663179\ttotal: 8.44s\tremaining: 51.9s\n",
            "14:\tlearn: 0.3490390\ttotal: 9.11s\tremaining: 51.6s\n",
            "15:\tlearn: 0.3315688\ttotal: 9.77s\tremaining: 51.3s\n",
            "16:\tlearn: 0.3170598\ttotal: 10.4s\tremaining: 50.9s\n",
            "17:\tlearn: 0.3021540\ttotal: 11.1s\tremaining: 50.5s\n",
            "18:\tlearn: 0.2891349\ttotal: 11.8s\tremaining: 50.1s\n",
            "19:\tlearn: 0.2758666\ttotal: 12.4s\tremaining: 49.7s\n",
            "20:\tlearn: 0.2637605\ttotal: 13.1s\tremaining: 49.2s\n",
            "21:\tlearn: 0.2523415\ttotal: 13.7s\tremaining: 48.7s\n",
            "22:\tlearn: 0.2416422\ttotal: 14.1s\tremaining: 47.3s\n",
            "23:\tlearn: 0.2315192\ttotal: 14.8s\tremaining: 46.8s\n",
            "24:\tlearn: 0.2216894\ttotal: 15.4s\tremaining: 46.3s\n",
            "25:\tlearn: 0.2126204\ttotal: 16.1s\tremaining: 45.8s\n",
            "26:\tlearn: 0.2036556\ttotal: 16.8s\tremaining: 45.3s\n",
            "27:\tlearn: 0.1949708\ttotal: 17.4s\tremaining: 44.8s\n",
            "28:\tlearn: 0.1871533\ttotal: 18.1s\tremaining: 44.3s\n",
            "29:\tlearn: 0.1796071\ttotal: 18.8s\tremaining: 43.8s\n",
            "30:\tlearn: 0.1719124\ttotal: 19.4s\tremaining: 43.2s\n",
            "31:\tlearn: 0.1649677\ttotal: 20.1s\tremaining: 42.7s\n",
            "32:\tlearn: 0.1582208\ttotal: 20.7s\tremaining: 42.1s\n",
            "33:\tlearn: 0.1520908\ttotal: 21.4s\tremaining: 41.6s\n",
            "34:\tlearn: 0.1461233\ttotal: 22.1s\tremaining: 41s\n",
            "35:\tlearn: 0.1404191\ttotal: 22.7s\tremaining: 40.4s\n",
            "36:\tlearn: 0.1350616\ttotal: 23.4s\tremaining: 39.8s\n",
            "37:\tlearn: 0.1301994\ttotal: 24s\tremaining: 39.2s\n",
            "38:\tlearn: 0.1253638\ttotal: 24.7s\tremaining: 38.6s\n",
            "39:\tlearn: 0.1205961\ttotal: 25.4s\tremaining: 38.1s\n",
            "40:\tlearn: 0.1163205\ttotal: 26s\tremaining: 37.5s\n",
            "41:\tlearn: 0.1119733\ttotal: 26.7s\tremaining: 36.9s\n",
            "42:\tlearn: 0.1080217\ttotal: 27.4s\tremaining: 36.3s\n",
            "43:\tlearn: 0.1041335\ttotal: 28s\tremaining: 35.7s\n",
            "44:\tlearn: 0.1005428\ttotal: 28.7s\tremaining: 35s\n",
            "45:\tlearn: 0.0971706\ttotal: 29.3s\tremaining: 34.4s\n",
            "46:\tlearn: 0.0938406\ttotal: 30s\tremaining: 33.8s\n",
            "47:\tlearn: 0.0910150\ttotal: 30.7s\tremaining: 33.2s\n",
            "48:\tlearn: 0.0882471\ttotal: 31.3s\tremaining: 32.6s\n",
            "49:\tlearn: 0.0854624\ttotal: 32s\tremaining: 32s\n",
            "50:\tlearn: 0.0829233\ttotal: 32.6s\tremaining: 31.4s\n",
            "51:\tlearn: 0.0802791\ttotal: 33.3s\tremaining: 30.7s\n",
            "52:\tlearn: 0.0777800\ttotal: 34s\tremaining: 30.1s\n",
            "53:\tlearn: 0.0754877\ttotal: 34.6s\tremaining: 29.5s\n",
            "54:\tlearn: 0.0732286\ttotal: 35.3s\tremaining: 28.9s\n",
            "55:\tlearn: 0.0711990\ttotal: 35.9s\tremaining: 28.2s\n",
            "56:\tlearn: 0.0688421\ttotal: 36.6s\tremaining: 27.6s\n",
            "57:\tlearn: 0.0669149\ttotal: 37.3s\tremaining: 27s\n",
            "58:\tlearn: 0.0651218\ttotal: 37.9s\tremaining: 26.4s\n",
            "59:\tlearn: 0.0632557\ttotal: 38.6s\tremaining: 25.7s\n",
            "60:\tlearn: 0.0615856\ttotal: 39.2s\tremaining: 25.1s\n",
            "61:\tlearn: 0.0599448\ttotal: 39.9s\tremaining: 24.5s\n",
            "62:\tlearn: 0.0584378\ttotal: 40.6s\tremaining: 23.8s\n",
            "63:\tlearn: 0.0568347\ttotal: 41.2s\tremaining: 23.2s\n",
            "64:\tlearn: 0.0551678\ttotal: 41.9s\tremaining: 22.6s\n",
            "65:\tlearn: 0.0537026\ttotal: 42.5s\tremaining: 21.9s\n",
            "66:\tlearn: 0.0522950\ttotal: 43.2s\tremaining: 21.3s\n",
            "67:\tlearn: 0.0509463\ttotal: 43.9s\tremaining: 20.6s\n",
            "68:\tlearn: 0.0496486\ttotal: 44.5s\tremaining: 20s\n",
            "69:\tlearn: 0.0482941\ttotal: 45.2s\tremaining: 19.4s\n",
            "70:\tlearn: 0.0471094\ttotal: 45.9s\tremaining: 18.7s\n",
            "71:\tlearn: 0.0459704\ttotal: 46.5s\tremaining: 18.1s\n",
            "72:\tlearn: 0.0448770\ttotal: 47.2s\tremaining: 17.4s\n",
            "73:\tlearn: 0.0438325\ttotal: 47.8s\tremaining: 16.8s\n",
            "74:\tlearn: 0.0428260\ttotal: 48.5s\tremaining: 16.2s\n",
            "75:\tlearn: 0.0417143\ttotal: 49.2s\tremaining: 15.5s\n",
            "76:\tlearn: 0.0408746\ttotal: 49.8s\tremaining: 14.9s\n",
            "77:\tlearn: 0.0398679\ttotal: 50.5s\tremaining: 14.2s\n",
            "78:\tlearn: 0.0390355\ttotal: 51.1s\tremaining: 13.6s\n",
            "79:\tlearn: 0.0382051\ttotal: 51.8s\tremaining: 12.9s\n",
            "80:\tlearn: 0.0373405\ttotal: 52.5s\tremaining: 12.3s\n",
            "81:\tlearn: 0.0365511\ttotal: 53.1s\tremaining: 11.7s\n",
            "82:\tlearn: 0.0357863\ttotal: 53.8s\tremaining: 11s\n",
            "83:\tlearn: 0.0350228\ttotal: 54.4s\tremaining: 10.4s\n",
            "84:\tlearn: 0.0343519\ttotal: 55.1s\tremaining: 9.72s\n",
            "85:\tlearn: 0.0337591\ttotal: 55.8s\tremaining: 9.08s\n",
            "86:\tlearn: 0.0331290\ttotal: 56.4s\tremaining: 8.43s\n",
            "87:\tlearn: 0.0325625\ttotal: 57.1s\tremaining: 7.78s\n",
            "88:\tlearn: 0.0319703\ttotal: 57.7s\tremaining: 7.14s\n",
            "89:\tlearn: 0.0314629\ttotal: 58.4s\tremaining: 6.49s\n",
            "90:\tlearn: 0.0308821\ttotal: 59.1s\tremaining: 5.84s\n",
            "91:\tlearn: 0.0303415\ttotal: 59.7s\tremaining: 5.19s\n",
            "92:\tlearn: 0.0298822\ttotal: 1m\tremaining: 4.54s\n",
            "93:\tlearn: 0.0293436\ttotal: 1m 1s\tremaining: 3.9s\n",
            "94:\tlearn: 0.0288366\ttotal: 1m 1s\tremaining: 3.25s\n",
            "95:\tlearn: 0.0284169\ttotal: 1m 2s\tremaining: 2.6s\n",
            "96:\tlearn: 0.0279162\ttotal: 1m 3s\tremaining: 1.95s\n",
            "97:\tlearn: 0.0274318\ttotal: 1m 3s\tremaining: 1.3s\n",
            "98:\tlearn: 0.0270702\ttotal: 1m 4s\tremaining: 650ms\n",
            "99:\tlearn: 0.0265826\ttotal: 1m 5s\tremaining: 0us\n",
            "Average Accuracy: \t 0.9974\n",
            "Elapsed time for model validation- 353.64258670806885\n"
          ],
          "name": "stdout"
        }
      ]
    },
    {
      "cell_type": "code",
      "metadata": {
        "id": "TykcugtPwhX4",
        "colab_type": "code",
        "colab": {
          "base_uri": "https://localhost:8080/",
          "height": 334
        },
        "outputId": "b1c2a033-dfcb-4db0-f9bb-687793be81a9"
      },
      "source": [
        "modelScore(GPU_model,X_train,y_train,X_test,y_test,train=False)"
      ],
      "execution_count": null,
      "outputs": [
        {
          "output_type": "stream",
          "text": [
            "Test Result:\n",
            "\n",
            "Accuracy Score: 0.99720\n",
            "\n",
            "Classification Report: \n",
            "               precision    recall  f1-score   support\n",
            "\n",
            "           0       1.00      0.99      0.99     51335\n",
            "           1       1.00      1.00      1.00    194710\n",
            "\n",
            "    accuracy                           1.00    246045\n",
            "   macro avg       1.00      0.99      1.00    246045\n",
            "weighted avg       1.00      1.00      1.00    246045\n",
            "\n",
            "\n",
            "Confusion Matrix: \n",
            " [[ 50652    683]\n",
            " [     5 194705]]\n",
            "\n"
          ],
          "name": "stdout"
        }
      ]
    },
    {
      "cell_type": "markdown",
      "metadata": {
        "id": "iz0fnI3l1wZl",
        "colab_type": "text"
      },
      "source": [
        "Feature Importance"
      ]
    },
    {
      "cell_type": "code",
      "metadata": {
        "id": "NTKURWfN1Q19",
        "colab_type": "code",
        "colab": {
          "base_uri": "https://localhost:8080/",
          "height": 296
        },
        "outputId": "c7e63262-aec8-41fc-b150-88ca332c5464"
      },
      "source": [
        "features = X_train.columns.values\n",
        "impt = GPU_model.feature_importances_\n",
        "df = pd.DataFrame({'Feature': features, 'Importance': impt})\n",
        "df = df.sort_values('Importance', ascending=False)[:15]\n",
        "sns.barplot(x='Importance', y='Feature', data=df)"
      ],
      "execution_count": null,
      "outputs": [
        {
          "output_type": "execute_result",
          "data": {
            "text/plain": [
              "<matplotlib.axes._subplots.AxesSubplot at 0x7fbfb03abe80>"
            ]
          },
          "metadata": {
            "tags": []
          },
          "execution_count": 41
        },
        {
          "output_type": "display_data",
          "data": {
            "image/png": "[encoded data removed]",
            "text/plain": [
              "<Figure size 432x288 with 1 Axes>"
            ]
          },
          "metadata": {
            "tags": [],
            "needs_background": "light"
          }
        }
      ]
    },
    {
      "cell_type": "markdown",
      "metadata": {
        "id": "YTG3ZdTXxBWM",
        "colab_type": "text"
      },
      "source": [
        "The model performed well on out of sample data. Still there are few misclassifications in predicting defaulters. We need to improve recall and f1-score.\n",
        "\n",
        "The extreem gradient boosting might perform better and reduce the misclassified predictions"
      ]
    },
    {
      "cell_type": "markdown",
      "metadata": {
        "colab_type": "text",
        "id": "QGmC_3wgaBd3"
      },
      "source": [
        "## XG Boosting"
      ]
    },
    {
      "cell_type": "code",
      "metadata": {
        "colab_type": "code",
        "id": "cs32ck4GN1UD",
        "colab": {}
      },
      "source": [
        "params = {\n",
        "    'max_depth':    8,\n",
        "    'max_leaves':   2**8,\n",
        "    'tree_method':  'gpu_hist',\n",
        "    'objective':    'binary:logistic',\n",
        "    'grow_policy':  'lossguide',\n",
        "    'eval_metric':  'logloss',\n",
        "    'subsample':    '0.8'\n",
        "}"
      ],
      "execution_count": null,
      "outputs": []
    },
    {
      "cell_type": "code",
      "metadata": {
        "id": "OoX6D9RWZ7fS",
        "colab_type": "code",
        "colab": {}
      },
      "source": [
        "import xgboost as xgb"
      ],
      "execution_count": null,
      "outputs": []
    },
    {
      "cell_type": "code",
      "metadata": {
        "colab_type": "code",
        "id": "VkKmD3kiR-Bz",
        "colab": {}
      },
      "source": [
        "dtrain = xgb.DMatrix(X_train, y_train)"
      ],
      "execution_count": null,
      "outputs": []
    },
    {
      "cell_type": "code",
      "metadata": {
        "id": "qB3uZDqiIDzr",
        "colab_type": "code",
        "colab": {
          "base_uri": "https://localhost:8080/",
          "height": 33
        },
        "outputId": "0240cac2-d028-4823-fcea-244c57964278"
      },
      "source": [
        "t = time.time()\n",
        "model = xgb.train(params, dtrain, num_boost_round=100)\n",
        "\n",
        "print(\"Model Training time {n}\".format(n=time.time()-t))"
      ],
      "execution_count": null,
      "outputs": [
        {
          "output_type": "stream",
          "text": [
            "Model Training time 10.856779098510742\n"
          ],
          "name": "stdout"
        }
      ]
    },
    {
      "cell_type": "code",
      "metadata": {
        "id": "KsAqdtaqAHp8",
        "colab_type": "code",
        "colab": {
          "base_uri": "https://localhost:8080/",
          "height": 268
        },
        "outputId": "e743a479-27ba-4d76-ec17-8fdbebf20ff5"
      },
      "source": [
        "modelScoreXGB(model,y_train,model.predict(dtrain))"
      ],
      "execution_count": null,
      "outputs": [
        {
          "output_type": "stream",
          "text": [
            "The Confusion Matrix is:  \n",
            " [[205703     26]\n",
            " [     0 778448]]\n",
            "The Accuracy on Test Set is: 0.9999735819877928\n",
            "Classification Report: \n",
            "               precision    recall  f1-score   support\n",
            "\n",
            "           0       1.00      1.00      1.00    205729\n",
            "           1       1.00      1.00      1.00    778448\n",
            "\n",
            "    accuracy                           1.00    984177\n",
            "   macro avg       1.00      1.00      1.00    984177\n",
            "weighted avg       1.00      1.00      1.00    984177\n",
            "\n",
            "\n"
          ],
          "name": "stdout"
        }
      ]
    },
    {
      "cell_type": "code",
      "metadata": {
        "id": "jndtskE89ZOz",
        "colab_type": "code",
        "colab": {}
      },
      "source": [
        "result_cv = xgb.cv(params=params,dtrain=dtrain,nfold=5,metrics={'auc'})"
      ],
      "execution_count": null,
      "outputs": []
    },
    {
      "cell_type": "code",
      "metadata": {
        "id": "cddSlu4L-9f-",
        "colab_type": "code",
        "colab": {
          "base_uri": "https://localhost:8080/",
          "height": 196
        },
        "outputId": "ec8a56be-8bf7-488a-c53b-426debea6789"
      },
      "source": [
        "result_cv.head()"
      ],
      "execution_count": null,
      "outputs": [
        {
          "output_type": "execute_result",
          "data": {
            "text/html": [
              "<div>\n",
              "<style scoped>\n",
              "    .dataframe tbody tr th:only-of-type {\n",
              "        vertical-align: middle;\n",
              "    }\n",
              "\n",
              "    .dataframe tbody tr th {\n",
              "        vertical-align: top;\n",
              "    }\n",
              "\n",
              "    .dataframe thead th {\n",
              "        text-align: right;\n",
              "    }\n",
              "</style>\n",
              "<table border=\"1\" class=\"dataframe\">\n",
              "  <thead>\n",
              "    <tr style=\"text-align: right;\">\n",
              "      <th></th>\n",
              "      <th>train-auc-mean</th>\n",
              "      <th>train-auc-std</th>\n",
              "      <th>test-auc-mean</th>\n",
              "      <th>test-auc-std</th>\n",
              "    </tr>\n",
              "  </thead>\n",
              "  <tbody>\n",
              "    <tr>\n",
              "      <th>0</th>\n",
              "      <td>0.996256</td>\n",
              "      <td>0.000057</td>\n",
              "      <td>0.996139</td>\n",
              "      <td>0.000115</td>\n",
              "    </tr>\n",
              "    <tr>\n",
              "      <th>1</th>\n",
              "      <td>0.997367</td>\n",
              "      <td>0.000251</td>\n",
              "      <td>0.997286</td>\n",
              "      <td>0.000216</td>\n",
              "    </tr>\n",
              "    <tr>\n",
              "      <th>2</th>\n",
              "      <td>0.998252</td>\n",
              "      <td>0.000032</td>\n",
              "      <td>0.998195</td>\n",
              "      <td>0.000125</td>\n",
              "    </tr>\n",
              "    <tr>\n",
              "      <th>3</th>\n",
              "      <td>0.998644</td>\n",
              "      <td>0.000118</td>\n",
              "      <td>0.998592</td>\n",
              "      <td>0.000135</td>\n",
              "    </tr>\n",
              "    <tr>\n",
              "      <th>4</th>\n",
              "      <td>0.998835</td>\n",
              "      <td>0.000097</td>\n",
              "      <td>0.998781</td>\n",
              "      <td>0.000098</td>\n",
              "    </tr>\n",
              "  </tbody>\n",
              "</table>\n",
              "</div>"
            ],
            "text/plain": [
              "   train-auc-mean  train-auc-std  test-auc-mean  test-auc-std\n",
              "0        0.996256       0.000057       0.996139      0.000115\n",
              "1        0.997367       0.000251       0.997286      0.000216\n",
              "2        0.998252       0.000032       0.998195      0.000125\n",
              "3        0.998644       0.000118       0.998592      0.000135\n",
              "4        0.998835       0.000097       0.998781      0.000098"
            ]
          },
          "metadata": {
            "tags": []
          },
          "execution_count": 25
        }
      ]
    },
    {
      "cell_type": "code",
      "metadata": {
        "id": "haO_JXVJIDzw",
        "colab_type": "code",
        "colab": {
          "base_uri": "https://localhost:8080/",
          "height": 50
        },
        "outputId": "c53631f5-b4a8-49e0-9a22-fa2a6a5b68fd"
      },
      "source": [
        "dtest = xgb.DMatrix(X_test)\n",
        "%time y_pred = model.predict(dtest)"
      ],
      "execution_count": null,
      "outputs": [
        {
          "output_type": "stream",
          "text": [
            "CPU times: user 2.06 s, sys: 0 ns, total: 2.06 s\n",
            "Wall time: 531 ms\n"
          ],
          "name": "stdout"
        }
      ]
    },
    {
      "cell_type": "code",
      "metadata": {
        "id": "Rs0gtFe2IDzz",
        "colab_type": "code",
        "colab": {
          "base_uri": "https://localhost:8080/",
          "height": 268
        },
        "outputId": "0102b661-9c51-455c-ccd5-83c4717bb99a"
      },
      "source": [
        "cm = confusion_matrix(y_test, (y_pred>0.5))\n",
        "print('The Confusion Matrix is: ','\\n', cm)\n",
        "\n",
        "# Calculate the accuracy on test set\n",
        "accuracy_test = (accuracy_score(y_test, (y_pred>0.5)))\n",
        "print('The Accuracy on Test Set is: {}'.format(accuracy_test))\n",
        "print(\"Classification Report: \\n {}\\n\".format(classification_report(y_test, (y_pred>0.5))))"
      ],
      "execution_count": null,
      "outputs": [
        {
          "output_type": "stream",
          "text": [
            "The Confusion Matrix is:  \n",
            " [[ 51211    125]\n",
            " [     0 194709]]\n",
            "The Accuracy on Test Set is: 0.9994919628523238\n",
            "Classification Report: \n",
            "               precision    recall  f1-score   support\n",
            "\n",
            "           0       1.00      1.00      1.00     51336\n",
            "           1       1.00      1.00      1.00    194709\n",
            "\n",
            "    accuracy                           1.00    246045\n",
            "   macro avg       1.00      1.00      1.00    246045\n",
            "weighted avg       1.00      1.00      1.00    246045\n",
            "\n",
            "\n"
          ],
          "name": "stdout"
        }
      ]
    },
    {
      "cell_type": "code",
      "metadata": {
        "id": "kveANClyIDzt",
        "colab_type": "code",
        "colab": {
          "base_uri": "https://localhost:8080/",
          "height": 312
        },
        "outputId": "ef7204b6-614a-48e4-97cb-1ffc14d77a3f"
      },
      "source": [
        "ax = xgb.plot_importance(model, height=.5,max_num_features=15)\n",
        "plt.figure(figsize=(25, 12))\n",
        "ax.grid(False)\n",
        "ax.set_title('Importance')\n",
        "plt.show()"
      ],
      "execution_count": null,
      "outputs": [
        {
          "output_type": "display_data",
          "data": {
            "image/png": "[encoded data removed]",
            "text/plain": [
              "<Figure size 432x288 with 1 Axes>"
            ]
          },
          "metadata": {
            "tags": []
          }
        },
        {
          "output_type": "display_data",
          "data": {
            "text/plain": [
              "<Figure size 1800x864 with 0 Axes>"
            ]
          },
          "metadata": {
            "tags": []
          }
        }
      ]
    },
    {
      "cell_type": "code",
      "metadata": {
        "id": "yRDCXnd9IDz2",
        "colab_type": "code",
        "colab": {}
      },
      "source": [
        "import cupy as cp\n",
        "\n",
        "y_test_cpu = cp.asnumpy(cp.array(y_test))\n",
        "false_pos_rate, true_pos_rate, thresholds = roc_curve(y_test_cpu, y_pred)"
      ],
      "execution_count": null,
      "outputs": []
    },
    {
      "cell_type": "code",
      "metadata": {
        "id": "kwJ8lsIpIDz4",
        "colab_type": "code",
        "colab": {
          "base_uri": "https://localhost:8080/",
          "height": 350
        },
        "outputId": "d81f44b9-f38c-4ca3-bc70-12182317cdda"
      },
      "source": [
        "auc_result = auc(false_pos_rate, true_pos_rate)\n",
        "\n",
        "fig, ax = plt.subplots(figsize=(5, 5))\n",
        "ax.plot(false_pos_rate, true_pos_rate, lw=3,\n",
        "        label='AUC = {:.2f}'.format(auc_result))\n",
        "ax.plot([0, 1], [0, 1], 'k--', lw=2)\n",
        "ax.set(\n",
        "    xlim=(0, 1),\n",
        "    ylim=(0, 1),\n",
        "    title=\"ROC Curve\",\n",
        "    xlabel=\"False Positive Rate\",\n",
        "    ylabel=\"True Positive Rate\",\n",
        ")\n",
        "ax.legend(loc='lower right');\n",
        "plt.show()"
      ],
      "execution_count": null,
      "outputs": [
        {
          "output_type": "display_data",
          "data": {
            "image/png": "[encoded data removed]",
            "text/plain": [
              "<Figure size 360x360 with 1 Axes>"
            ]
          },
          "metadata": {
            "tags": []
          }
        }
      ]
    },
    {
      "cell_type": "markdown",
      "metadata": {
        "id": "uMcL2kW44BHf",
        "colab_type": "text"
      },
      "source": [
        "## Conclusion"
      ]
    },
    {
      "cell_type": "markdown",
      "metadata": {
        "id": "6lgpClSJRKkE",
        "colab_type": "text"
      },
      "source": [
        "As we can see the XG boosting did great job at predicting with 99.9% accuracy. The precision and recall for model is 1.\n",
        "The random forest model was slow compared to the XG boosting and gradient boosting. RF model predicted the out-of-sample data with 99.6% accuracy. However, the recall and f1-score is 98% and 99% respectively. \n",
        "When run time is compared the XGB trained model in just 10 seconds but RF was slower, it took around 2+ mins."
      ]
    }
  ]
}